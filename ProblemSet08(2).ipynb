{
 "cells": [
  {
   "cell_type": "markdown",
   "metadata": {},
   "source": [
    "## <span style=\"color:blue\">Problem Set 8</span>"
   ]
  },
  {
   "cell_type": "raw",
   "metadata": {},
   "source": [
    "#Cosette Ralowicz 3-21"
   ]
  },
  {
   "cell_type": "markdown",
   "metadata": {},
   "source": [
    "### <span style=\"color:red\">Run the cell below first</span>\n",
    "Before starting the assignment, run the cell below.  "
   ]
  },
  {
   "cell_type": "code",
   "execution_count": 1,
   "metadata": {},
   "outputs": [],
   "source": [
    "# do all our imports at the top of the file, because that's the standard style\n",
    "import csv\n",
    "import json\n",
    "import requests\n",
    "from Unit08_vincenty import latLngDistanceMeters\n",
    "\n",
    "fh = open('Unit08_umich_buildings.json','r')\n",
    "umich_buildins_str = fh.read()\n",
    "umich_buildings = json.loads(umich_buildins_str) \n",
    "\n",
    "\n",
    "baby_file = open('Unit08_us-common-baby-names.csv','r')\n",
    "baby_reader = csv.DictReader(baby_file)\n",
    "baby_names = list(baby_reader) # turn the reader object into a real list\n"
   ]
  },
  {
   "cell_type": "markdown",
   "metadata": {},
   "source": [
    "The variable *umich_buildings* is list where each element is a dictionary.  The keys in the dictionary contained in each list element are: \n",
    "\n",
    "<table>\n",
    "  <tr>\n",
    "    <th style=\"text-align: center\">Key</th>\n",
    "    <th style=\"text-align: center\">Description</th> \n",
    "  </tr>\n",
    "  <tr>\n",
    "    <td style=\"text-align: center\">address</td>\n",
    "    <td  style=\"text-align: left\">The address of the building</td> \n",
    "  </tr>\n",
    "  <tr>\n",
    "    <td style=\"text-align: center\">id</td>\n",
    "    <td  style=\"text-align: left\">The building id, e.g.,asb is Administrative Services Building </td> \n",
    "  </tr>\n",
    "  <tr>\n",
    "    <td style=\"text-align: center\">lat</td>\n",
    "    <td  style=\"text-align: left\">The geographic latitude,i.e., north-south position of a point on the Earth's surface</td> \n",
    "  </tr>\n",
    "  <tr>\n",
    "    <td style=\"text-align: center\">lng</td>\n",
    "    <td  style=\"text-align: left\">The geographic longitude,i.e.,the angular distance of a place east or west of the meridian at Greenwich, England</td> \n",
    "  </tr>\n",
    "  <tr>\n",
    "    <td style=\"text-align: center\">name</td>\n",
    "    <td  style=\"text-align: left\">The building name</td> \n",
    "  </tr>\n",
    "</table>\n",
    "\n",
    "Below is typical element in the list:  \n",
    "{  \n",
    "&nbsp;&nbsp;&nbsp;&nbsp;\"address\": \"1201 South Main Street Ann Arbor, MI 48104-3722\",  \n",
    "&nbsp;&nbsp;&nbsp;&nbsp;\"id\": \"stadm\",  \n",
    "&nbsp;&nbsp;&nbsp;&nbsp;\"lat\": 42.265071,  \n",
    "&nbsp;&nbsp;&nbsp;&nbsp;\"lng\": -83.748662,  \n",
    "&nbsp;&nbsp;&nbsp;&nbsp;\"name\": \"Michigan Stadium\"  \n",
    "}  "
   ]
  },
  {
   "cell_type": "markdown",
   "metadata": {},
   "source": [
    "### Problem 1\n",
    "Write a function named *buildingLatLong* that returns a (name,latitude, longitude) tuple for any building id in *umich_buildings*. You will need to iterate over umich_buildings, then for each list element compare the value associated with the id key to the value passed to the function. If that building id could not be found, return *None*.\n",
    "\n",
    "Write code that iterates of *bldgs* and prints the output below."
   ]
  },
  {
   "cell_type": "code",
   "execution_count": 3,
   "metadata": {},
   "outputs": [
    {
     "name": "stdout",
     "output_type": "stream",
     "text": [
      "('Central Campus Recreation Building', 42.278866, -83.732666)\n",
      "('Aerospace Engineering Lab Plasma Research', 42.293342, -83.710823)\n",
      "('Alfred A Taubman Health Sciences Library', 42.28358, -83.734543)\n",
      "None\n",
      "('North Quadrangle', 42.280477, -83.740131)\n",
      "('Michigan Stadium', 42.265071, -83.748662)\n"
     ]
    }
   ],
   "source": [
    "bldgs = ['ccrb','aep','taubl','unknown','nq','stadm']\n",
    "\n",
    "        \n",
    "# write your code below\n",
    "def buildingLatLong(buildingid):\n",
    "    for building in umich_buildings:\n",
    "        if buildingid==building['id']:\n",
    "            infoTuple=(building['name'],building['lat'],building['lng'])\n",
    "            return infoTuple\n",
    "for item in bldgs:\n",
    "    print(buildingLatLong(item))"
   ]
  },
  {
   "cell_type": "markdown",
   "metadata": {},
   "source": [
    "<span style=\"color:blue\">Expected output:</span><br/>\n",
    "<span style=\"font: courier; font-size: 13px\">\n",
    "('Central Campus Recreation Building', 42.278866, -83.732666)<br/>\n",
    "('Aerospace Engineering Lab Plasma Research', 42.293342, -83.710823)<br/>\n",
    "('Alfred A Taubman Health Sciences Library', 42.28358, -83.734543)<br/>\n",
    "None<br/>\n",
    "('North Quadrangle', 42.280477, -83.740131)<br/>\n",
    "('Michigan Stadium', 42.265071, -83.748662</span>"
   ]
  },
  {
   "cell_type": "markdown",
   "metadata": {},
   "source": [
    "### Problem 2\n",
    "\"Vincenty's formulas are two related iterative methods used to calculate the distance between two points on the surface of a spheroid, developed by Thaddeus Vincenty (1975a)\"\n",
    "\n",
    "The file *Unit08_vincenty.py*, which was imported in the first cell, contains code that calculates the \"vincenty distance\" between two points' using the latitude and longitude of both points. The function *latLngDistanceMeter*, present in vincenty.py, accepts two tuples as parameters where each tuple contains the coordinates (latitude,longitude) of a point on the Earth and performs the vincenty calculation.  Below is an example of how this function is called:\n",
    "\n",
    "&nbsp;&nbsp;&nbsp;&nbsp;&nbsp;&nbsp;&nbsp;latLngDistanceMeters((42.3584, -71.0912), (42.278, -83.7382))\n",
    "\n",
    "Write a function named *buildingDistance* that is passed two building IDs and determines the vincenty distance between two building IDs.\n",
    "\n",
    "Write code that iterates over the *bldgs* list, *buildingDistance* for each tuple in the list, and prints the output below."
   ]
  },
  {
   "cell_type": "code",
   "execution_count": 4,
   "metadata": {},
   "outputs": [
    {
     "name": "stdout",
     "output_type": "stream",
     "text": [
      "The vincenty distance between building ccrb and  aep  is 2414.804664314132\n",
      "The vincenty distance between building taubl and  nq  is 575.5430991021018\n"
     ]
    }
   ],
   "source": [
    "bldgs = [('ccrb','aep'),('taubl','nq')]\n",
    "\n",
    "# write your code below\n",
    "def buildingDistance(id1,id2):\n",
    "    bld1=buildingLatLong(id1)\n",
    "    bld2=buildingLatLong(id2)\n",
    "    return latLngDistanceMeters((bld1[1],bld1[2]),(bld2[1],bld2[2]))\n",
    "    \n",
    "\n",
    "for items in bldgs:\n",
    "    \n",
    "    print(\"The vincenty distance between building\", items[0], \"and \", items[1],\" is\", buildingDistance(*items))"
   ]
  },
  {
   "cell_type": "markdown",
   "metadata": {},
   "source": [
    "<span style=\"color:blue\">Expected output:</span><br/>\n",
    "<span style=\"font: courier; font-size: 13px\">\n",
    "The vincenty distance between building ccrb and aep is 2414.804664314132<br />\n",
    "The vincenty distance between building taubl and nq is 575.5430991021018</span>"
   ]
  },
  {
   "cell_type": "markdown",
   "metadata": {},
   "source": [
    "### Problem 3: \n",
    "Write code that iterates over _umich_buildings_ and outputs a _.csv_ file called _north_quad_distance.csv_. \n",
    "\n",
    "The csv file has two columns: \n",
    "\n",
    "1. The building name.\n",
    "2. The vincenty distance of that building from North Quad(nq).\n",
    "\n",
    "Since this is a csv file the first row in the file is a header that identifies the two columns.  Column 1 of the first row has the value \"Name\" and column 2 has the value \"Distance from NQ\". There should be one subsequent row for each building (including North Quad, which should have a zero distance).  You should use the string .format() function to format each row in the csv file.\n",
    "\n",
    "Check your work by opening the .csv file in a text editor or importing it into a spreadsheet program like Excel or Google Sheets.\n",
    "\n",
    "You file should appear similar to that below:  \n",
    "&nbsp;&nbsp;&nbsp;&nbsp;&nbsp;&nbsp;&nbsp;&nbsp;Name,Distance from NQ  \n",
    "&nbsp;&nbsp;&nbsp;&nbsp;&nbsp;&nbsp;&nbsp;&nbsp;1000 Victors Way,4674.366005  \n",
    "&nbsp;&nbsp;&nbsp;&nbsp;&nbsp;&nbsp;&nbsp;&nbsp;1032 Greene Building,1498.650608  \n",
    "&nbsp;&nbsp;&nbsp;&nbsp;&nbsp;&nbsp;&nbsp;&nbsp;523 South Division Building,639.5818755  \n",
    "&nbsp;&nbsp;&nbsp;&nbsp;&nbsp;&nbsp;&nbsp;&nbsp;Administrative Services Building,1410.470849  "
   ]
  },
  {
   "cell_type": "code",
   "execution_count": 37,
   "metadata": {},
   "outputs": [],
   "source": [
    "outfile=open(\"north_quad_distance\", \"w\")\n",
    "outfile.write(\"Distance from North Quad\")\n",
    "outfile.write(\"\\n\")\n",
    "outfile.write(\"Name, Distance from NQ\")\n",
    "outfile.write(\"\\n\")\n",
    "for buildingNQ in umich_buildings:\n",
    "    if buildingNQ['id']==\"nq\":\n",
    "        nq=(buildingNQ)\n",
    "for building in umich_buildings:\n",
    "    vincentyD=buildingDistance(building['id'],nq['id'])\n",
    "    row_string='{},{}'.format(building['name'],vincentyD)\n",
    "    outfile.write(row_string)\n",
    "    outfile.write(\"\\n\")\n"
   ]
  },
  {
   "cell_type": "markdown",
   "metadata": {},
   "source": [
    "### Problem 4\n",
    "This next problem uses the list _baby_names_ loaded from Unit08_us-common-baby-names.csv (see first cell). Each element in the list is an OrderedDict object which is just like a dictionary except the elements are ordered in creation sequence.  This means that you may treat _baby_names_ as a list where each element in the list is a dictionary.  A sample row appears as below.\n",
    "\n",
    "&nbsp;&nbsp;&nbsp;&nbsp;&nbsp;&nbsp;&nbsp;&nbsp;OrderedDict([('year', '1880'),('name', 'John'),('percent', '0.081541'),('sex', 'boy')])\n",
    "             \n",
    "In the above, what appears as tuples are actually key/value pairs with the first element of the tuple being the key and the second element the value . The _percent_ key holds a percentage value which represents the number of babies born that year who were given the name found in the value of the _name_ key.  For example:  if the current line is in the variable _row_, the expression _row['year']_ references the year value and the expression _row['name']_ references the baby name. \n",
    "\n",
    "Write the function _popularInYear_ that accepts the  parameter _year_ and returns the most popular name for that year and the associated percent. The most popular name is the one with the largest percentage.  This problem is essentially finding the maximum percentage in the _baby_names_ list that matches the _year_ parameter.  \n",
    "\n",
    "Write code the iterates over _years_ list and prints the most popular name for each year as shown below."
   ]
  },
  {
   "cell_type": "code",
   "execution_count": 66,
   "metadata": {},
   "outputs": [
    {
     "name": "stdout",
     "output_type": "stream",
     "text": [
      "Most popular name in 1900 is John with 6.06 percent\n",
      "Most popular name in 1925 is Mary with 5.59 percent\n",
      "Most popular name in 1950 is James with 4.73 percent\n",
      "Most popular name in 1975 is Michael with 4.22 percent\n",
      "Most popular name in 2000 is Jacob with 1.65 percent\n"
     ]
    }
   ],
   "source": [
    "years = ['1900','1925','1950','1975','2000']\n",
    "\n",
    "# write your code below\n",
    "#take year\n",
    "#return most popular baby name of that year\n",
    "#iterate through all name entries with that year\n",
    "#find the entry with the largest percentage\n",
    "#return the name that has the largest percentage of the year specified\n",
    "def popularInYear(year):\n",
    "    popName=\"\"\n",
    "    popPerc=0\n",
    "    for row in baby_names:\n",
    "        yearBaby=str(row['year'])\n",
    "        if year==yearBaby:\n",
    "            percent=float(row['percent'])\n",
    "            if percent>popPerc:\n",
    "                popPerc=percent\n",
    "                popName=row['name']\n",
    "    return popName\n",
    "def popPercent(year):\n",
    "    popName=\"\"\n",
    "    popPerc=0\n",
    "    for row in baby_names:\n",
    "        yearBaby=str(row['year'])\n",
    "        if year==yearBaby:\n",
    "            percent=float(row['percent'])\n",
    "            if percent>popPerc:\n",
    "                popPerc=percent*100\n",
    "                popName=row['name']\n",
    "    return popPerc\n",
    "for year in years:\n",
    "    print(\"Most popular name in {} is {} with {:.2f} percent\".format(year, popularInYear(year),popPercent(year)))\n",
    "\n"
   ]
  },
  {
   "cell_type": "markdown",
   "metadata": {},
   "source": [
    "<span style=\"color:blue\">Expected output:</span><br/>\n",
    "<span style=\"font: courier; font-size: 13px\">\n",
    "Most popular name in 1900 is John with 6.06 percent<br/>\n",
    "Most popular name in 1925 is Mary with 5.59 percent<br/>\n",
    "Most popular name in 1950 is James with 4.73 percent<br/>\n",
    "Most popular name in 1975 is Michael with 4.22 percent<br/>\n",
    "Most popular name in 2000 is Jacob with 1.65 percent</span>"
   ]
  },
  {
   "cell_type": "markdown",
   "metadata": {},
   "source": [
    "### Nested Data and Nested Iteration\n",
    "Many web services return information either in a json or xml format.  Below is sample json return by the Facebook API and is representative in structure of the json returned by most web services.  You will be working complex nested data in future modules.  This problem will serve as a warmup for those future problem sets.\n",
    "\n",
    "First, just get familiar with the structure of the data. You may want to copy and paste it to a site like https://jsoneditoronline.org/ so you may inspect the data.\n",
    "\n",
    "### <span style=\"color:red\">Run the cell below before completing the problems that follow.</span>"
   ]
  },
  {
   "cell_type": "code",
   "execution_count": 67,
   "metadata": {},
   "outputs": [],
   "source": [
    "fb_data = {\n",
    " \"data\": [\n",
    "  {\n",
    "    \"id\": \"2253324325325123432madeup\", \n",
    "    \"from\": {\n",
    "      \"id\": \"23243152523425madeup\", \n",
    "      \"name\": \"Jane Smith\"\n",
    "    }, \n",
    "    \"to\": {\n",
    "      \"data\": [\n",
    "        {\n",
    "          \"name\": \"Your Facebook Group\", \n",
    "          \"id\": \"432542543635453245madeup\"\n",
    "        }\n",
    "      ]\n",
    "    }, \n",
    "    \"message\": \"This problem might use the accumulation pattern, like many problems do\", \n",
    "    \"type\": \"status\", \n",
    "    \"created_time\": \"2014-10-03T02:07:19+0000\", \n",
    "    \"updated_time\": \"2014-10-03T02:07:19+0000\"\n",
    "  }, \n",
    " \n",
    "  {\n",
    "    \"id\": \"2359739457974250975madeup\", \n",
    "    \"from\": {\n",
    "      \"id\": \"4363684063madeup\", \n",
    "      \"name\": \"John Smythe\"\n",
    "    }, \n",
    "    \"to\": {\n",
    "      \"data\": [\n",
    "        {\n",
    "          \"name\": \"Your Facebook Group\", \n",
    "          \"id\": \"432542543635453245madeup\"\n",
    "        }\n",
    "      ]\n",
    "    }, \n",
    "    \"message\": \"Here is a fun link about programming\", \n",
    "    \"type\": \"status\", \n",
    "    \"created_time\": \"2014-10-02T20:12:28+0000\", \n",
    "    \"updated_time\": \"2014-10-02T20:12:28+0000\"\n",
    "  }]\n",
    "}"
   ]
  },
  {
   "cell_type": "markdown",
   "metadata": {},
   "source": [
    "### Problem 5\n",
    "Extract the contents of the first message into a variable called *first_message*.  Print *first_message*."
   ]
  },
  {
   "cell_type": "code",
   "execution_count": 109,
   "metadata": {},
   "outputs": [
    {
     "name": "stdout",
     "output_type": "stream",
     "text": [
      "This problem might use the accumulation pattern, like many problems do\n"
     ]
    }
   ],
   "source": [
    "json_string=json.dumps(fb_data)\n",
    "json_dict=json.loads(json_string)\n",
    "\n",
    "string2=json.dumps(json_dict['data'])\n",
    "dict2=json.loads(string2)\n",
    "\n",
    "messageD=dict(dict2[0])\n",
    "first_message=messageD['message']\n",
    "print(first_message)"
   ]
  },
  {
   "cell_type": "markdown",
   "metadata": {},
   "source": [
    "<span style=\"color:blue\">Expected output:</span><br/>\n",
    "<span style=\"font: courier; font-size: 13px\">\n",
    "This problem might use the accumulation pattern, like many problems do</span>"
   ]
  },
  {
   "cell_type": "markdown",
   "metadata": {},
   "source": [
    "### Problem 6\n",
    "Extract the name of the author of the second post, into a variable called *second_name*.  Print *second_name*."
   ]
  },
  {
   "cell_type": "code",
   "execution_count": 112,
   "metadata": {},
   "outputs": [
    {
     "name": "stdout",
     "output_type": "stream",
     "text": [
      "John Smythe\n"
     ]
    }
   ],
   "source": [
    "message2=dict(dict2[1])\n",
    "from2=message2['from']\n",
    "second_name=from2['name']\n",
    "print(second_name)"
   ]
  },
  {
   "cell_type": "markdown",
   "metadata": {},
   "source": [
    "<span style=\"color:blue\">Expected output:</span><br/>\n",
    "<span style=\"font: courier; font-size: 13px\">\n",
    "John Smythe</span>"
   ]
  },
  {
   "cell_type": "markdown",
   "metadata": {},
   "source": [
    "### Problem 7\n",
    "Write code that generates a list of the names of all the authors of the messages in fb_data. Store it in a variable called _authors_.  Print the variable _authors_."
   ]
  },
  {
   "cell_type": "markdown",
   "metadata": {},
   "source": [
    "<span style=\"color:blue\">Expected output:</span><br/>\n",
    "<span style=\"font: courier; font-size: 13px\">\n",
    "['Jane Smith', 'John Smythe']</span>"
   ]
  },
  {
   "cell_type": "markdown",
   "metadata": {},
   "source": [
    "### <span style=\"color:red\">Run the cell below before completing the problems that follow.</span>"
   ]
  },
  {
   "cell_type": "code",
   "execution_count": 113,
   "metadata": {},
   "outputs": [],
   "source": [
    "zipCodeData = [\n",
    "   {\n",
    "      \"country abbreviation\": \"US\",\n",
    "      \"places\": [\n",
    "         {\n",
    "            \"place name\": \"Alpena\",\n",
    "            \"longitude\": \"-83.4602\",\n",
    "            \"post code\": \"49707\",\n",
    "            \"latitude\": \"45.079\"\n",
    "         }\n",
    "      ],\n",
    "      \"country\": \"United States\",\n",
    "      \"place name\": \"Alpena\",\n",
    "      \"state\": \"Michigan\",\n",
    "      \"state abbreviation\": \"MI\"\n",
    "   },\n",
    "   {\n",
    "      \"country abbreviation\": \"US\",\n",
    "      \"places\": [\n",
    "         {\n",
    "            \"place name\": \"Hubbard Lake\",\n",
    "            \"longitude\": \"-83.6059\",\n",
    "            \"post code\": \"49747\",\n",
    "            \"latitude\": \"44.8947\"\n",
    "         }\n",
    "      ],\n",
    "      \"country\": \"United States\",\n",
    "      \"place name\": \"Hubbard Lake\",\n",
    "      \"state\": \"Michigan\",\n",
    "      \"state abbreviation\": \"MI\"\n",
    "   },\n",
    "   {\n",
    "      \"country abbreviation\": \"US\",\n",
    "      \"places\": [\n",
    "         {\n",
    "            \"place name\": \"Suttons Bay\",\n",
    "            \"longitude\": \"-85.6423\",\n",
    "            \"post code\": \"49682\",\n",
    "            \"latitude\": \"44.9656\"\n",
    "         }\n",
    "      ],\n",
    "      \"country\": \"United States\",\n",
    "      \"place name\": \"Suttons Bay\",\n",
    "      \"state\": \"Michigan\",\n",
    "      \"state abbreviation\": \"MI\"\n",
    "   }\n",
    "]"
   ]
  },
  {
   "cell_type": "markdown",
   "metadata": {},
   "source": [
    "### Problem 8\n",
    "Write code that iterates over the zipCodeData list and prints the nested _places_ list where the _place name_ (first-level place name) has a value of Hubbard Lake. "
   ]
  },
  {
   "cell_type": "code",
   "execution_count": 128,
   "metadata": {},
   "outputs": [
    {
     "name": "stdout",
     "output_type": "stream",
     "text": [
      "{'place name': 'Hubbard Lake', 'longitude': '-83.6059', 'post code': '49747', 'latitude': '44.8947'}\n"
     ]
    }
   ],
   "source": [
    "for dictionary in zipCodeData:\n",
    "    for places in dictionary['places']:\n",
    "        if places['place name']=='Hubbard Lake':\n",
    "            print(places)\n",
    "            "
   ]
  },
  {
   "cell_type": "markdown",
   "metadata": {},
   "source": [
    "<span style=\"color:blue\">Expected output:</span><br/>\n",
    "<span style=\"font: courier; font-size: 13px\">\n",
    "{'place name': 'Hubbard Lake', 'longitude': '-83.6059', 'post code': '49747', 'latitude': '44.8947'}]</span>"
   ]
  },
  {
   "cell_type": "markdown",
   "metadata": {},
   "source": [
    "### Problem 9\n",
    "Write a function called _getZipData_ that accepts a _post code_ (zip code) as an argument and returns a tuple containing the associated _place name_, _longitude_, and _latitude_ for _zipCodeData_.  If the _post code_ passed to the function is not in the zipCodeData list, the returned tuple should have a value of None, 0, and 0 for the _place name_, _latitude_, and _longitude_ respectively.\n",
    "\n",
    "Do the following in the function:\n",
    "1. Initialize variables as necessary.\n",
    "2. Iterate over _zipCodeData_: \n",
    "   1. Iterate over nexted _places_ list:\n",
    "      1. If _post code_ in the current place is equal to the _post code_ passed:\n",
    "         1. Store the _place name, _longitude_, and _latitude in the variables\n",
    "3. Return the variables as a tuple"
   ]
  },
  {
   "cell_type": "code",
   "execution_count": 191,
   "metadata": {},
   "outputs": [
    {
     "name": "stdout",
     "output_type": "stream",
     "text": [
      "('Suttons Bay', '-85.6423', '44.9656')\n",
      "('Alpena', '-83.4602', '45.079')\n",
      "('None', 0, 0)\n"
     ]
    }
   ],
   "source": [
    "# write your function below\n",
    "def getZipData(postcode):\n",
    "    lng=0\n",
    "    lat=0\n",
    "    found=False\n",
    "    for dictionary in zipCodeData:\n",
    "        for places in dictionary['places']:\n",
    "                if places['post code']==str(postcode):\n",
    "                    found=True\n",
    "                    lng=places['longitude']\n",
    "                    lat=places['latitude']\n",
    "                    placeTuple=(places['place name'], lng , lat)\n",
    "                    return placeTuple\n",
    "    if found==False:\n",
    "        noneTuple=('None',0,0)\n",
    "        return noneTuple\n",
    "\n",
    "# Do not change the code below\n",
    "for zipcode in ['49682','49707','11111']:\n",
    "     print(getZipData(zipcode))\n"
   ]
  },
  {
   "cell_type": "markdown",
   "metadata": {},
   "source": [
    "<span style=\"color:blue\">Expected output:</span><br/>\n",
    "<span style=\"font: courier; font-size: 13px\">\n",
    "('Suttons Bay', '-85.6423', '44.9656')<br />\n",
    "('Alpena', '-83.4602', '45.079')<br />\n",
    "(None, 0, 0)</span>"
   ]
  },
  {
   "cell_type": "markdown",
   "metadata": {},
   "source": [
    "### Problem 10\n",
    "Using the functions getZipData and latLngDistanceMeters write code that calculates the vincenty distance in kilometers between zip codes 49707 and 49747.  Print the output __exactly__ as shown below.  \n",
    "\n",
    "The latLngDistanceMeters returns the distance in meters.  To convert to kilometers, divide the retuned value by 1000.  "
   ]
  },
  {
   "cell_type": "code",
   "execution_count": 214,
   "metadata": {},
   "outputs": [
    {
     "name": "stdout",
     "output_type": "stream",
     "text": [
      "16.43604039472689\n",
      "The vincenty distance between Alpena and Hubbard Lake is 16.44km\n"
     ]
    }
   ],
   "source": [
    "id1=getZipData(49707)\n",
    "id2=getZipData(49747)\n",
    "id1LatLng=(float(id1[1]),float(id1[2]))\n",
    "id2LatLng=(float(id2[1]), float(id2[2]))\n",
    "distance=latLngDistanceMeters(id1LatLng, id2LatLng)/1000\n",
    "print(distance)\n",
    "print(\"The vincenty distance between {} and {} is {:.2f}km\".format(id1[0], id2[0],distance))"
   ]
  },
  {
   "cell_type": "markdown",
   "metadata": {},
   "source": [
    "<span style=\"color:blue\">Expected output:</span><br/>\n",
    "<span style=\"font: courier; font-size: 13px\">\n",
    "The vincenty distance between Alpena and Hubbard Lake is 23.48km</span>"
   ]
  }
 ],
 "metadata": {
  "kernelspec": {
   "display_name": "Python 3 (ipykernel)",
   "language": "python",
   "name": "python3"
  },
  "language_info": {
   "codemirror_mode": {
    "name": "ipython",
    "version": 3
   },
   "file_extension": ".py",
   "mimetype": "text/x-python",
   "name": "python",
   "nbconvert_exporter": "python",
   "pygments_lexer": "ipython3",
   "version": "3.9.6"
  },
  "varInspector": {
   "cols": {
    "lenName": 16,
    "lenType": 16,
    "lenVar": 40
   },
   "kernels_config": {
    "python": {
     "delete_cmd_postfix": "",
     "delete_cmd_prefix": "del ",
     "library": "var_list.py",
     "varRefreshCmd": "print(var_dic_list())"
    },
    "r": {
     "delete_cmd_postfix": ") ",
     "delete_cmd_prefix": "rm(",
     "library": "var_list.r",
     "varRefreshCmd": "cat(var_dic_list()) "
    }
   },
   "types_to_exclude": [
    "module",
    "function",
    "builtin_function_or_method",
    "instance",
    "_Feature"
   ],
   "window_display": false
  }
 },
 "nbformat": 4,
 "nbformat_minor": 2
}
