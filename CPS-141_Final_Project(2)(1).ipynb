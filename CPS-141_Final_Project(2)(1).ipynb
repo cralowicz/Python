{
 "cells": [
  {
   "cell_type": "code",
   "execution_count": null,
   "id": "04562737",
   "metadata": {},
   "outputs": [],
   "source": [
    "#Cosette Ralowicz\n",
    "#CPS141 Intro to Python\n",
    "#April 2023\n",
    "#Final Project"
   ]
  },
  {
   "cell_type": "code",
   "execution_count": 1,
   "id": "d879b0ea",
   "metadata": {},
   "outputs": [],
   "source": [
    "import json\n",
    "import pandas as pd\n",
    "\n",
    "data=open(\"FBI_CrimeData_2016.json\", \"r\")\n",
    "crime_list=json.load(data)"
   ]
  },
  {
   "cell_type": "code",
   "execution_count": 2,
   "id": "d0bb8a3d",
   "metadata": {},
   "outputs": [],
   "source": [
    "def accum_crime(area, crime, crime_list):\n",
    "    murder_by_region={}\n",
    "    regStatelist=[]\n",
    "    for entry in crime_list:\n",
    "        if entry[area] not in regStatelist:\n",
    "            regStatelist.append(entry[area])\n",
    "    for place in regStatelist:\n",
    "        murder_by_region[place]=0\n",
    "        for entry in crime_list:\n",
    "            if entry[area]==place:\n",
    "                murder_by_region[place]+=int(entry[crime])\n",
    "    return murder_by_region\n",
    "\n",
    "def accum_violent(area, crime_list):\n",
    "    violent_by_region={}\n",
    "    regStatelist=[]\n",
    "    for entry in crime_list:\n",
    "        if entry[area] not in regStatelist:\n",
    "            regStatelist.append(entry[area])\n",
    "    for place in regStatelist:\n",
    "        violent_by_region[place]=0\n",
    "        for entry in crime_list:\n",
    "            if entry[area]==place:\n",
    "                violent_by_region[place]+=int(entry[\"Murder\"])+int(entry[\"Rape\"])+int(entry[\"Robbery\"])+int(entry[\"Assault\"])\n",
    "    return violent_by_region\n",
    "\n",
    "def accum_nonviolent(area, crime_list):\n",
    "    nonviolent_by_region={}\n",
    "    regStatelist=[]\n",
    "    for entry in crime_list:\n",
    "        if entry[area] not in regStatelist:\n",
    "            regStatelist.append(entry[area])\n",
    "    for place in regStatelist:\n",
    "        nonviolent_by_region[place]=0\n",
    "        for entry in crime_list:\n",
    "            if entry[area]==place:\n",
    "                nonviolent_by_region[place]+=int(entry[\"Burglary\"])+int(entry[\"Theft\"])+int(entry[\"Vehicle_Theft\"])\n",
    "    return nonviolent_by_region\n",
    "\n"
   ]
  },
  {
   "cell_type": "code",
   "execution_count": 3,
   "id": "4fbabe02",
   "metadata": {},
   "outputs": [
    {
     "name": "stdout",
     "output_type": "stream",
     "text": [
      "Murder by Region \n",
      "   Incidents     Region\n",
      "0       5018      South\n",
      "1       2605       West\n",
      "2       1674  Northeast\n",
      "3       3304    Midwest\n"
     ]
    },
    {
     "data": {
      "image/png": "[encoded data removed]",
      "text/plain": [
       "<Figure size 432x288 with 1 Axes>"
      ]
     },
     "metadata": {
      "needs_background": "light"
     },
     "output_type": "display_data"
    }
   ],
   "source": [
    "def chart(crime_dict):\n",
    "    \n",
    "    pdDict={\"Incidents\":pd.Series(crime_dict.values()),\"Region\":pd.Series(crime_dict.keys())}\n",
    "    df=pd.DataFrame(pdDict)\n",
    "    print(df)\n",
    "    df.plot.bar(x='Region', y='Incidents', legend=False, color=['deepskyblue', 'orange','purple','limegreen'])\n",
    "\n",
    "#bar chart Murders by Region\n",
    "crimeDict=accum_crime(\"Region\", \"Murder\", crime_list)\n",
    "tuplezip=[(region, value) for region, value in zip(list(crimeDict.keys()), list(crimeDict.values()))]\n",
    "print(\"Murder by Region \")\n",
    "chart(accum_crime(\"Region\", \"Murder\", crime_list))"
   ]
  },
  {
   "cell_type": "code",
   "execution_count": 4,
   "id": "86fa8570",
   "metadata": {},
   "outputs": [
    {
     "name": "stdout",
     "output_type": "stream",
     "text": [
      "Violent Crime by Region\n",
      "   Incidents     Region\n",
      "0     331011      South\n",
      "1     259401       West\n",
      "2     156891  Northeast\n",
      "3     211854    Midwest\n"
     ]
    },
    {
     "data": {
      "image/png": "[encoded data removed]",
      "text/plain": [
       "<Figure size 432x288 with 1 Axes>"
      ]
     },
     "metadata": {
      "needs_background": "light"
     },
     "output_type": "display_data"
    }
   ],
   "source": [
    "#bar chart Violent Crimes by Region\n",
    "crimeDict=accum_violent(\"Region\", crime_list)\n",
    "tuplezip=[(region, value) for region, value in zip(list(crimeDict.keys()), list(crimeDict.values()))]\n",
    "print(\"Violent Crime by Region\")\n",
    "chart(accum_violent(\"Region\", crime_list))"
   ]
  },
  {
   "cell_type": "code",
   "execution_count": 5,
   "id": "a4f40f4d",
   "metadata": {},
   "outputs": [
    {
     "name": "stdout",
     "output_type": "stream",
     "text": [
      "Nonviolent Crime by Region\n",
      "   Incidents     Region\n",
      "0    2080097      South\n",
      "1    1781665       West\n",
      "2     760200  Northeast\n",
      "3    1226462    Midwest\n"
     ]
    },
    {
     "data": {
      "image/png": "[encoded data removed]",
      "text/plain": [
       "<Figure size 432x288 with 1 Axes>"
      ]
     },
     "metadata": {
      "needs_background": "light"
     },
     "output_type": "display_data"
    }
   ],
   "source": [
    "#bar char Non-violent Crimes by Region\n",
    "crimeDict=accum_nonviolent(\"Region\", crime_list)\n",
    "tuplezip=[(region, value) for region, value in zip(list(crimeDict.keys()), list(crimeDict.values()))]\n",
    "print(\"Nonviolent Crime by Region\")\n",
    "chart(accum_nonviolent(\"Region\", crime_list))"
   ]
  },
  {
   "cell_type": "code",
   "execution_count": 6,
   "id": "cc4c13c7",
   "metadata": {},
   "outputs": [
    {
     "name": "stdout",
     "output_type": "stream",
     "text": [
      "National Average Violent Crime: 18807 \n",
      "\n",
      "State                  Crimes  Distance from Mean\n",
      "ALABAMA                15,350   -3,457\n",
      "ALASKA                  4,697  -14,110\n",
      "ARIZONA                23,856    5,049\n",
      "ARKANSAS               12,048   -6,759\n",
      "CALIFORNIA            145,205  126,398\n",
      "COLORADO               15,533   -3,274\n",
      "CONNECTICUT             7,754  -11,053\n",
      "DELAWARE                2,359  -16,448\n",
      "DISTRICT OF COLUMBIA    7,711  -11,096\n",
      "FLORIDA                50,540   31,733\n",
      "GEORGIA                18,496     -311\n",
      "HAWAII                  3,331  -15,476\n",
      "IDAHO                   2,676  -16,131\n",
      "ILLINOIS               50,968   32,161\n",
      "INDIANA                21,325    2,518\n",
      "IOWA                    7,533  -11,274\n",
      "KANSAS                  7,982  -10,825\n",
      "KENTUCKY                8,342  -10,465\n",
      "LOUISIANA              16,444   -2,363\n",
      "MAINE                   1,254  -17,553\n",
      "MARYLAND               14,175   -4,632\n",
      "MASSACHUSETTS          24,155    5,348\n",
      "MICHIGAN               35,790   16,983\n",
      "MINNESOTA              11,618   -7,189\n",
      "MISSISSIPPI             3,256  -15,551\n",
      "MISSOURI               25,175    6,368\n",
      "MONTANA                 1,952  -16,855\n",
      "NEBRASKA                4,401  -14,406\n",
      "NEVADA                 18,823       16\n",
      "NEW HAMPSHIRE           2,413  -16,394\n",
      "NEW JERSEY             19,098      291\n",
      "NEW MEXICO              9,480   -9,327\n",
      "NEW YORK               66,581   47,774\n",
      "NORTH CAROLINA         16,846   -1,961\n",
      "NORTH DAKOTA            1,393  -17,414\n",
      "OHIO                   28,235    9,428\n",
      "OKLAHOMA               15,348   -3,459\n",
      "OREGON                  7,785  -11,022\n",
      "PENNSYLVANIA           32,877   14,070\n",
      "RHODE ISLAND            2,423  -16,384\n",
      "SOUTH CAROLINA          9,473   -9,334\n",
      "SOUTH DAKOTA            2,169  -16,638\n",
      "TENNESSEE              33,433   14,626\n",
      "TEXAS                  97,872   79,065\n",
      "UTAH                    5,679  -13,128\n",
      "VERMONT                   336  -18,471\n",
      "VIRGINIA                9,318   -9,489\n",
      "WASHINGTON             16,913   -1,894\n",
      "WEST VIRGINIA           2,701  -16,106\n",
      "WISCONSIN              15,265   -3,542\n",
      "WYOMING                   770  -18,037\n"
     ]
    }
   ],
   "source": [
    "#tabular list showing the total violent crimes for each State \n",
    "#and the distance from the natl mean\n",
    "stateViolence=accum_violent(\"State\",crime_list)\n",
    "totalCrime=0\n",
    "aveCrime=0\n",
    "numStates=0\n",
    "for state in stateViolence:\n",
    "    numStates+=1\n",
    "    crimeNum=int(stateViolence[state])\n",
    "    totalCrime+=crimeNum\n",
    "aveCrime=int(totalCrime/numStates)\n",
    "print(\"National Average Violent Crime:\", aveCrime, \"\\n\")\n",
    "print(\"{:<22}{:>7}{:>20}\".format(\"State\", \"Crimes\",\"Distance from Mean\"))\n",
    "for state in stateViolence:\n",
    "    crimeNum=int(stateViolence[state])\n",
    "    print(\"{:<22}{:>7,}{:>9,}\".format(state, crimeNum, (crimeNum-aveCrime) ))\n"
   ]
  },
  {
   "cell_type": "code",
   "execution_count": null,
   "id": "c490723b",
   "metadata": {},
   "outputs": [],
   "source": []
  }
 ],
 "metadata": {
  "kernelspec": {
   "display_name": "Python 3 (ipykernel)",
   "language": "python",
   "name": "python3"
  },
  "language_info": {
   "codemirror_mode": {
    "name": "ipython",
    "version": 3
   },
   "file_extension": ".py",
   "mimetype": "text/x-python",
   "name": "python",
   "nbconvert_exporter": "python",
   "pygments_lexer": "ipython3",
   "version": "3.9.6"
  }
 },
 "nbformat": 4,
 "nbformat_minor": 5
}
