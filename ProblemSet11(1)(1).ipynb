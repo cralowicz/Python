{
 "cells": [
  {
   "cell_type": "markdown",
   "metadata": {},
   "source": [
    "## <span style=\"color:blue\">Problem Set 11</span>"
   ]
  },
  {
   "cell_type": "raw",
   "metadata": {},
   "source": [
    "#Cosette Ralowicz 04-18"
   ]
  },
  {
   "cell_type": "markdown",
   "metadata": {},
   "source": [
    "### <span style=\"color:red\">Run this cell first</span>"
   ]
  },
  {
   "cell_type": "code",
   "execution_count": 1,
   "metadata": {},
   "outputs": [],
   "source": [
    "myInts = [i for i in range(1,501) ]\n",
    "myQuote = \"The quality of mercy is not strained it dropeth as the gentle rain from heaven\""
   ]
  },
  {
   "cell_type": "markdown",
   "metadata": {},
   "source": [
    "### Problem 1\n",
    "The problem requires the _computeScrabbleScore_ developed in previous problem sets. For this problem, Use the _map_ function and the _computeScrabbleScore_ function to create and print a list of scrabble word scores for the words in the list _words_."
   ]
  },
  {
   "cell_type": "code",
   "execution_count": 2,
   "metadata": {},
   "outputs": [
    {
     "name": "stdout",
     "output_type": "stream",
     "text": [
      "[14, 12, 4, 7, 11, 8, 16, 5]\n"
     ]
    }
   ],
   "source": [
    "letter_values =  {'a':1, 'b':3, 'c':3, 'd':2, 'e':1, 'f':4, 'g': 2, 'h':4,\n",
    "    'i':1, 'j':8, 'k':5, 'l':1, 'm':3, 'n':1, 'o':1, 'p':3, 'q':10, 'r':1,\n",
    "    's':1, 't':1, 'u':1, 'v':8, 'w':4, 'x':8, 'y':4, 'z':10}\n",
    "\n",
    "words = ['python', 'program', 'list', 'string', 'unix', 'hours', 'syntax', 'error']\n",
    "\n",
    "def computeScrabbleScore(word):\n",
    "    wordValue=0\n",
    "    for char in word:\n",
    "        char=char.lower()\n",
    "        wordValue+=letter_values[char]\n",
    "    return wordValue\n",
    "wordScores=list(map(computeScrabbleScore, words))\n",
    "print(wordScores)\n"
   ]
  },
  {
   "cell_type": "markdown",
   "metadata": {},
   "source": [
    "<span style=\"color:blue\">Expected output:</span><br/>\n",
    "<span style=\"font: courier; font-size: 13px\">\n",
    "[14, 12, 4, 7, 11, 8, 16, 5]</span>"
   ]
  },
  {
   "cell_type": "markdown",
   "metadata": {},
   "source": [
    "### Problem 2\n",
    "Using the list *words*, produce a list of words, called evenWords, whose word length is an even number.  Write the function *selectWord* that is passed the string parameter *word*.  The function returns *True* if the length of the string is an even number; otherwise *False* is returned. Use the *filter* function and *selectWord* function to create and print a list of even length words from the list *words*."
   ]
  },
  {
   "cell_type": "code",
   "execution_count": 3,
   "metadata": {},
   "outputs": [
    {
     "name": "stdout",
     "output_type": "stream",
     "text": [
      "['python', 'list', 'string', 'unix', 'syntax']\n"
     ]
    }
   ],
   "source": [
    "words = ['python', 'program', 'list', 'string', 'unix', 'hours', 'syntax', 'error']\n",
    "def selectWord(word):\n",
    "    wordLen=len(word)\n",
    "    if wordLen%2==0:\n",
    "        return True\n",
    "    else:\n",
    "        return False\n",
    "\n",
    "evenWords=list(filter(selectWord, words))\n",
    "print(evenWords)"
   ]
  },
  {
   "cell_type": "markdown",
   "metadata": {},
   "source": [
    "<span style=\"color:blue\">Expected output:</span><br/>\n",
    "<span style=\"font: courier; font-size: 13px\">\n",
    "['python', 'list', 'string', 'unix', 'syntax']</span>"
   ]
  },
  {
   "cell_type": "markdown",
   "metadata": {},
   "source": [
    "### Problem 3\n",
    "Alter your solution for problem 2 to use a *list comprehension* instead of the *filter* function.  Note, you will need to use a list comprehension with the nested *if* syntax."
   ]
  },
  {
   "cell_type": "code",
   "execution_count": 4,
   "metadata": {},
   "outputs": [
    {
     "name": "stdout",
     "output_type": "stream",
     "text": [
      "['python', 'list', 'string', 'unix', 'syntax']\n"
     ]
    }
   ],
   "source": [
    "words = ['python', 'program', 'list', 'string', 'unix', 'hours', 'syntax', 'error']\n",
    "evenWords2=[ word for word in words if len(word)%2==0]\n",
    "\n",
    "print(evenWords2)"
   ]
  },
  {
   "cell_type": "markdown",
   "metadata": {},
   "source": [
    "<span style=\"color:blue\">Expected output:</span><br/>\n",
    "<span style=\"font: courier; font-size: 13px\">\n",
    "['python', 'list', 'string', 'unix', 'syntax']</span>"
   ]
  },
  {
   "cell_type": "markdown",
   "metadata": {},
   "source": [
    "### Problem 4\n",
    "Use a list comprehension to reverse the words in the string myQuote. Hint: the reversed function is useful."
   ]
  },
  {
   "cell_type": "code",
   "execution_count": 11,
   "metadata": {},
   "outputs": [
    {
     "name": "stdout",
     "output_type": "stream",
     "text": [
      "['heaven', 'from', 'rain', 'gentle', 'the', 'as', 'dropeth', 'it', 'strained', 'not', 'is', 'mercy', 'of', 'quality', 'The']\n"
     ]
    }
   ],
   "source": [
    "stringslice=myQuote.split(\" \")\n",
    "\n",
    "reverseString=[ word for word in reversed(stringslice)]\n",
    "print(reverseString)"
   ]
  },
  {
   "cell_type": "markdown",
   "metadata": {},
   "source": [
    "<span style=\"color:blue\">Expected output:</span><br/>\n",
    "<span style=\"font: courier; font-size: 13px\">\n",
    "heaven from rain gentle the as dropeth it strained not is mercy of quality The</span>"
   ]
  },
  {
   "cell_type": "markdown",
   "metadata": {},
   "source": [
    "### Problem 5\n",
    "The variable *names* below is a list where each element is a string in \"First Name Last Name\" sequence. Derive the lst *newNames* from *names* where each element is in \"Last Name, First Name\" sequence.  Use list comprehension to convert the list. Hint, you will need to split each name into the First and Last.  Remember 'a' + 'b' ==> 'ab'. "
   ]
  },
  {
   "cell_type": "code",
   "execution_count": 20,
   "metadata": {},
   "outputs": [
    {
     "name": "stdout",
     "output_type": "stream",
     "text": [
      "['Newton, Isaac', 'Einstein, Albert', 'Bohr, Niels', 'Curie, Marie', 'Darwin, Charles', 'Galilei, Galileo', 'Mead, Margaret']\n"
     ]
    }
   ],
   "source": [
    "names = [\"Isaac Newton\", \"Albert Einstein\", \"Niels Bohr\", \"Marie Curie\",\"Charles Darwin\", \"Galileo Galilei\", \"Margaret Mead\"]\n",
    "# write your code below\n",
    "splitNames=[name.split(\" \") for name in names]\n",
    "\n",
    "newNames=[ \"{}, {}\".format(name[1],name[0]) for name in splitNames]\n",
    "print(newNames)"
   ]
  },
  {
   "cell_type": "markdown",
   "metadata": {},
   "source": [
    "<span style=\"color:blue\">Expected output:</span><br/>\n",
    "<span style=\"font: courier; font-size: 13px\">\n",
    "['Newton, Isaac', 'Einstein, Albert', 'Bohr, Niels', 'Curie, Marie', 'Darwin, Charles', 'Galilei, Galileo', 'Mead, Margaret']</span>"
   ]
  },
  {
   "cell_type": "markdown",
   "metadata": {},
   "source": [
    "### Problem 6\n",
    "Use a list comprehension to find all of the numbers in the list _myInts_ that are evenly divisible by 17.  Store those numbers in the list _div17_. Print _div17_.  You need two lines of code: the list comprehension, and the print statement.\n",
    "\n",
    "To determine if a number is divisible by 17, divide the number by 17.  If the reminder is 0, the number is evenly divisible."
   ]
  },
  {
   "cell_type": "code",
   "execution_count": 21,
   "metadata": {},
   "outputs": [
    {
     "name": "stdout",
     "output_type": "stream",
     "text": [
      "[17, 34, 51, 68, 85, 102, 119, 136, 153, 170, 187, 204, 221, 238, 255, 272, 289, 306, 323, 340, 357, 374, 391, 408, 425, 442, 459, 476, 493]\n"
     ]
    }
   ],
   "source": [
    "div17=[num for num in myInts if num%17==0]\n",
    "print(div17)"
   ]
  },
  {
   "cell_type": "markdown",
   "metadata": {},
   "source": [
    "<span style=\"color:blue\">Expected output:</span><br/>\n",
    "<span style=\"font: courier; font-size: 13px\">\n",
    "[17, 34, 51, 68, 85, 102, 119, 136, 153, 170, 187, 204, 221, 238, 255, 272, 289, 306, 323, 340, 357, 374, 391, 408, 425, 442, 459, 476, 493]</span>"
   ]
  },
  {
   "cell_type": "markdown",
   "metadata": {},
   "source": [
    "### Problem 7\n",
    "Use a list comprehension to find all of the numbers in the list _myInts_ that contain a 15 or 17 in the number.  Store those numbers in the list _lst35_.  Print _lst35_.  Hint: convert the number to a string."
   ]
  },
  {
   "cell_type": "code",
   "execution_count": 24,
   "metadata": {},
   "outputs": [
    {
     "name": "stdout",
     "output_type": "stream",
     "text": [
      "[15, 17, 115, 117, 150, 151, 152, 153, 154, 155, 156, 157, 158, 159, 170, 171, 172, 173, 174, 175, 176, 177, 178, 179, 215, 217, 315, 317, 415, 417]\n"
     ]
    }
   ],
   "source": [
    "stringints=[str(num) for num in myInts]\n",
    "\n",
    "lst35=[int(num) for num in stringints if \"15\" in num or \"17\" in num]\n",
    "print(lst35)"
   ]
  },
  {
   "cell_type": "markdown",
   "metadata": {},
   "source": [
    "<span style=\"color:blue\">Expected output:</span><br/>\n",
    "<span style=\"font: courier; font-size: 13px\">\n",
    "[15, 17, 115, 117, 150, 151, 152, 153, 154, 155, 156, 157, 158, 159, 170, 171, 172, 173, 174, 175, 176, 177, 178, 179, 215, 217, 315, 317, 415, 417]</span>"
   ]
  },
  {
   "cell_type": "markdown",
   "metadata": {},
   "source": [
    "### Problem 8\n",
    "Use a list comprehension to find all of the words in the string _myQuote_ that contain an 'e' and a 't'.  Store those words in the list _lstWord_.  Print _lstWord_.  "
   ]
  },
  {
   "cell_type": "code",
   "execution_count": 26,
   "metadata": {},
   "outputs": [
    {
     "name": "stdout",
     "output_type": "stream",
     "text": [
      "['strained', 'dropeth', 'the', 'gentle']\n"
     ]
    }
   ],
   "source": [
    "splitstring=myQuote.split(\" \")\n",
    "lstWord=[word for word in splitstring if 'e' in word and 't' in word]\n",
    "print(lstWord)"
   ]
  },
  {
   "cell_type": "markdown",
   "metadata": {},
   "source": [
    "<span style=\"color:blue\">Expected output:</span><br/>\n",
    "<span style=\"font: courier; font-size: 13px\">\n",
    "['strained', 'dropeth', 'the', 'gentle']</span>"
   ]
  },
  {
   "cell_type": "markdown",
   "metadata": {},
   "source": [
    "### Problem 9\n",
    "Use a list comprehensions and zip to create a list called _wordTups_ from the string _myQuote_.  Each element in _wordTups_ is a tuple where the first element of the tuple is the word (from the set of words in _myQuote_) and the second element is the length of the word. Print _wordTups_.  Note, this problem can be, but not required to be, solved using one statement to create the list and another statement to print the list."
   ]
  },
  {
   "cell_type": "code",
   "execution_count": 27,
   "metadata": {},
   "outputs": [
    {
     "name": "stdout",
     "output_type": "stream",
     "text": [
      "[('The', 3), ('quality', 7), ('of', 2), ('mercy', 5), ('is', 2), ('not', 3), ('strained', 8), ('it', 2), ('dropeth', 7), ('as', 2), ('the', 3), ('gentle', 6), ('rain', 4), ('from', 4), ('heaven', 6)]\n"
     ]
    }
   ],
   "source": [
    "splitstring=myQuote.split(\" \")\n",
    "wordTups=[(word, len(word)) for word in splitstring]\n",
    "print(wordTups)"
   ]
  },
  {
   "cell_type": "markdown",
   "metadata": {},
   "source": [
    "<span style=\"color:blue\">Expected output:</span><br/>\n",
    "<span style=\"font: courier; font-size: 13px\">\n",
    "[('The', 3), ('quality', 7), ('of', 2), ('mercy', 5), ('is', 2), ('not', 3), ('strained', 8), ('it', 2), ('dropeth', 7), ('as', 2), ('the', 3), ('gentle', 6), ('rain', 4), ('from', 4), ('heaven', 6)]</span>"
   ]
  },
  {
   "cell_type": "markdown",
   "metadata": {},
   "source": [
    "### Problem 10\n",
    "The lists _a_ and _b_ represents the length of two sides of a set of right triangles.  Calculate the length of the hypotenuse _c_ for each triangle using the formula:$$c = \\sqrt{a^2 + b^2}$$\n",
    "\n",
    "Use the zip function and the string format method in your solution.  Print a formatted table similar to the one shown below.  Note, the table shown in expected output uses formatting capability not available in python.  The expected output is intended to provide a sense of what is expected in terms of the number of columns and alignment.\n",
    "\n",
    "Note, you will need to import the math module and use the math.sqrt (square root) function."
   ]
  },
  {
   "cell_type": "code",
   "execution_count": 60,
   "metadata": {},
   "outputs": [
    {
     "name": "stdout",
     "output_type": "stream",
     "text": [
      "Hypotenuse  Side 1  Side 2\n",
      "      6.4       5       4\n",
      "\n",
      "      9.2       7       6\n",
      "\n",
      "     10.6       8       7\n",
      "\n",
      "      5.0       4       3\n",
      "\n",
      "     12.0       9       8\n",
      "\n"
     ]
    }
   ],
   "source": [
    "import math\n",
    "\n",
    "a = [5,7,8,4,9]\n",
    "b = [4,6,7,3,8]\n",
    "\n",
    "# write your code below\n",
    "hypotenuse=[math.sqrt(a**2+b**2) for a,b in zip(a,b)] \n",
    "print(\"Hypotenuse  Side 1  Side 2\")\n",
    "tupleinfo=[(variable, a, b) for variable,a,b in zip(hypotenuse,a,b)]\n",
    "\n",
    "    \n",
    "output=[\"{:>9.1f} {:>7} {:>7}\".format(h,a,b) for h,a,b in tupleinfo]\n",
    "for item in output:\n",
    "    print(item+\"\\n\")\n",
    "\n",
    "    "
   ]
  },
  {
   "cell_type": "markdown",
   "metadata": {},
   "source": [
    "<span style=\"color:blue\">Expected output:</span><br/>\n",
    "\n",
    "|Hypotenuse | Side 1 | Side 2|\n",
    "|-----------|--------|-------|\n",
    "|       6.4 |      5 |      4|\n",
    "|       9.2 |      7 |      6|\n",
    "|      10.6 |      8 |      7|\n",
    "|       5.0 |      4 |      3|\n",
    "|      12.0 |      9 |      8|"
   ]
  }
 ],
 "metadata": {
  "kernelspec": {
   "display_name": "Python 3 (ipykernel)",
   "language": "python",
   "name": "python3"
  },
  "language_info": {
   "codemirror_mode": {
    "name": "ipython",
    "version": 3
   },
   "file_extension": ".py",
   "mimetype": "text/x-python",
   "name": "python",
   "nbconvert_exporter": "python",
   "pygments_lexer": "ipython3",
   "version": "3.9.6"
  },
  "varInspector": {
   "cols": {
    "lenName": 16,
    "lenType": 16,
    "lenVar": 40
   },
   "kernels_config": {
    "python": {
     "delete_cmd_postfix": "",
     "delete_cmd_prefix": "del ",
     "library": "var_list.py",
     "varRefreshCmd": "print(var_dic_list())"
    },
    "r": {
     "delete_cmd_postfix": ") ",
     "delete_cmd_prefix": "rm(",
     "library": "var_list.r",
     "varRefreshCmd": "cat(var_dic_list()) "
    }
   },
   "types_to_exclude": [
    "module",
    "function",
    "builtin_function_or_method",
    "instance",
    "_Feature"
   ],
   "window_display": false
  }
 },
 "nbformat": 4,
 "nbformat_minor": 2
}
