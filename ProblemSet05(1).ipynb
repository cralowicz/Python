{
 "cells": [
  {
   "cell_type": "markdown",
   "metadata": {},
   "source": [
    "## <span style=\"color:blue\">Problem Set 5</span>"
   ]
  },
  {
   "cell_type": "raw",
   "metadata": {},
   "source": [
    "#Cosette Ralowicz 03/14"
   ]
  },
  {
   "cell_type": "markdown",
   "metadata": {},
   "source": [
    "**Note:**   \n",
    "1. You need to use code to arrive at a solution.  Hardcoding a solution results in 0 points for the problem.\n",
    "2. **Use only syntax covered in the Units so far.**  Using any other syntax results in 0 points for the problem."
   ]
  },
  {
   "cell_type": "markdown",
   "metadata": {},
   "source": [
    "### Problem 1\n",
    "The function _isFactor_ accepts two parameters _num1_ and _num2_. \n",
    "Write code in the function that does the following:\n",
    "1. Divide num1 by num2.\n",
    "2. If the remainder is 0:\n",
    "     1. The function returns True \n",
    "3. Otherwise:\n",
    "     2. The function returns False. "
   ]
  },
  {
   "cell_type": "code",
   "execution_count": 1,
   "metadata": {},
   "outputs": [
    {
     "name": "stdout",
     "output_type": "stream",
     "text": [
      "2 is a factor of 20\n",
      "3 is not a factor of 20\n",
      "4 is a factor of 20\n",
      "5 is a factor of 20\n",
      "6 is not a factor of 20\n",
      "7 is not a factor of 20\n",
      "8 is not a factor of 20\n",
      "9 is not a factor of 20\n",
      "10 is a factor of 20\n"
     ]
    }
   ],
   "source": [
    "# Write the function below\n",
    "def isFactor(num1, num2):\n",
    "    if(num1%num2==0):\n",
    "        return True\n",
    "    else:\n",
    "        return False\n",
    "    \n",
    "\n",
    "# Do not change the code below\n",
    "dividend = 20\n",
    "for divisor in range(2,11):\n",
    "    if isFactor(dividend,divisor):\n",
    "        print(divisor,'is a factor of',dividend)\n",
    "    else:\n",
    "        print(divisor,'is not a factor of',dividend)"
   ]
  },
  {
   "cell_type": "markdown",
   "metadata": {},
   "source": [
    "<span style=\"color:blue\">Expected output:</span><br/>\n",
    "<span style=\"font: courier; font-size: 13px\">\n",
    "2 is a factor of 20<br/>\n",
    "3 is not a factor of 20<br/>\n",
    "4 is a factor of 20<br/>\n",
    "5 is a factor of 20<br/>\n",
    "6 is not a factor of 20<br/>\n",
    "7 is not a factor of 20<br/>\n",
    "8 is not a factor of 20<br/>\n",
    "9 is not a factor of 20<br/>\n",
    "10 is a factor of 20</span>"
   ]
  },
  {
   "cell_type": "markdown",
   "metadata": {},
   "source": [
    "### Problem 2\n",
    "Write a function called _removeColor_ that accepts the string parameter _colorToRemove_ and the list parameter _colors_.  The function searches the parameter _colors_ for the parameter _colorToRemove_.  If the string in colorToRemove is present in the list, remove it.  As shown in expected output, print the list before the change and the list after the change. \n",
    "\n",
    "You should use the list method _remove_ to remove an element of a list."
   ]
  },
  {
   "cell_type": "code",
   "execution_count": 2,
   "metadata": {
    "scrolled": true
   },
   "outputs": [
    {
     "name": "stdout",
     "output_type": "stream",
     "text": [
      "The original list is  ['red', 'green', 'blue', 'black', 'orange', 'magnenta']\n",
      "The color to remove is  green\n",
      "The new list is ['red', 'blue', 'black', 'orange', 'magnenta']\n"
     ]
    }
   ],
   "source": [
    "# Write the function below\n",
    "def removeColor(colorToRemove, colors):\n",
    "    for color in colors:\n",
    "        if colorToRemove in colors:\n",
    "            colors.remove(colorToRemove)\n",
    "\n",
    "# Do not change the code below\n",
    "colors = ['red','green','blue','black','orange','magnenta']\n",
    "color_to_remove = 'green'\n",
    "\n",
    "# write your code below\n",
    "print(\"The original list is\", colors)\n",
    "print(\"The color to remove is\", color_to_remove)\n",
    "removeColor(color_to_remove,colors)\n",
    "print(\"The new list is\",colors)\n"
   ]
  },
  {
   "cell_type": "markdown",
   "metadata": {},
   "source": [
    "<span style=\"color:blue\">Expected output:</span><br/>\n",
    "<span style=\"font: courier; font-size: 13px\">\n",
    "The original list is ['red', 'green', 'blue', 'black', 'orange', 'magnenta']<br/>\n",
    "The color to remove is green<br/>\n",
    "The new list is ['red', 'blue', 'black', 'orange', 'magnenta']</span>"
   ]
  },
  {
   "cell_type": "markdown",
   "metadata": {},
   "source": [
    "### Problem 3\n",
    "Write a function _countVowels_ that accepts a string and counts the number of vowels (a,e,i,o,u) in the string.  The function must not be case sensitive, so an \"A\" or \"a\" are both counted as vowels. The function needs to return the count to the calling environment. "
   ]
  },
  {
   "cell_type": "code",
   "execution_count": 3,
   "metadata": {},
   "outputs": [
    {
     "name": "stdout",
     "output_type": "stream",
     "text": [
      "There are  99 vowels in the string\n"
     ]
    }
   ],
   "source": [
    "# Write the function below\n",
    "def countVowels(string1):\n",
    "    vowels=['a','e','i','o','u']\n",
    "    vowelCount=0\n",
    "    for letter in string1:\n",
    "        letter=letter.lower()\n",
    "        if letter in vowels:\n",
    "            vowelCount+=1\n",
    "    return vowelCount\n",
    "\n",
    "# Do not change the code below\n",
    "theRaven = '''Once upon a midnight dreary, while I pondered, weak and weary,\n",
    "Over many a quaint and curious volume of forgotten lore—\n",
    "    While I nodded, nearly napping, suddenly there came a tapping,\n",
    "As of some one gently rapping, rapping at my chamber door.\n",
    "“’Tis some visitor,” I muttered, “tapping at my chamber door—\n",
    "            Only this and nothing more.”'''    \n",
    "    \n",
    "count = countVowels(theRaven)\n",
    "print(\"There are \",count,\"vowels in the string\")"
   ]
  },
  {
   "cell_type": "markdown",
   "metadata": {},
   "source": [
    "<span style=\"color:blue\">Expected output:</span><br/>\n",
    "<span style=\"font: courier; font-size: 13px\">\n",
    "There are  99 vowels in the string</span>"
   ]
  },
  {
   "cell_type": "markdown",
   "metadata": {},
   "source": [
    "### Problem 4\n",
    "Define a function called _getValues_ that is passed the dictionary _myDict_.  The function must create a list of the dictionary values and return that list to the caller.  **Do not use** any dictionary method other than the _items()_ method.  You must iterate over _myDict_  to create the list of values.  "
   ]
  },
  {
   "cell_type": "code",
   "execution_count": 22,
   "metadata": {},
   "outputs": [
    {
     "name": "stdout",
     "output_type": "stream",
     "text": [
      "[60, 30, 20]\n"
     ]
    }
   ],
   "source": [
    "# Write the function below\n",
    "def getValues(myDict):\n",
    "    dictList=[]\n",
    "    for item in myDict:\n",
    "        value= myDict[item]\n",
    "        dictList.append(value)\n",
    "    return dictList\n",
    "# do not change the code below\n",
    "courses = {'CPS141':60, 'CSS210':30, 'CPS161':20}\n",
    "print(getValues(courses))"
   ]
  },
  {
   "cell_type": "markdown",
   "metadata": {},
   "source": [
    "<span style=\"color:blue\">Expected output:</span><br/>\n",
    "<span style=\"font: courier; font-size: 13px\">\n",
    "[60, 30, 20]</span>"
   ]
  },
  {
   "cell_type": "markdown",
   "metadata": {},
   "source": [
    "### Problem 5\n",
    "Define a function called _maxInList_ that accepts a parameter which as list of integers.  The function returns the largest integer from a list parameter. If the list is empty, your function should return False."
   ]
  },
  {
   "cell_type": "code",
   "execution_count": 1,
   "metadata": {},
   "outputs": [
    {
     "name": "stdout",
     "output_type": "stream",
     "text": [
      "73\n",
      "False\n"
     ]
    }
   ],
   "source": [
    "# Write the function below\n",
    "def maxInList(intList):\n",
    "    if len(intList)==0:\n",
    "            return False\n",
    "    maxVal=0\n",
    "    for item in intList:\n",
    "        if item>maxVal:\n",
    "                maxVal=item\n",
    "    return maxVal   \n",
    "        \n",
    "#  Do not change the code below\n",
    "my_list = [1,15,73,3,6,10,24]\n",
    "print(maxInList(my_list))\n",
    "print(maxInList([]))"
   ]
  },
  {
   "cell_type": "markdown",
   "metadata": {},
   "source": [
    "<span style=\"color:blue\">Expected output:</span><br/>\n",
    "<span style=\"font: courier; font-size: 13px\">\n",
    "73<br/>\n",
    "False</span>"
   ]
  },
  {
   "cell_type": "markdown",
   "metadata": {},
   "source": [
    "### Problem 6\n",
    "Write a function named _wordsStartingWith_ that accepts the string _sentence_.  The function returns a dictionary whose keys are the unique first letter of each word in the string and whose associated value is a list of words starting with that letter. For example, calling the function as below:\n",
    "&nbsp;&nbsp;&nbsp;&nbsp;&nbsp;&nbsp;wordsStartingWith(\"this is the correct Terminal\")    \n",
    "returns:    \n",
    "&nbsp;&nbsp;&nbsp;&nbsp;&nbsp;&nbsp;{ \"t\": [\"this\", \"the\", \"terminal\"], \"i\": [\"is\"], \"c\": [\"correct\"]}\n",
    "      \n",
    "Do the following in the function:\n",
    "1. Split the sentence into words. Note, the string has embedded new-line (\\n) characters.  You need to replace the new-line character with a space. (search for the replace() function in strings).\n",
    "2. Initialize an empty dictionary.\n",
    "3. Iterate over the words:\n",
    "    1. Convert the first letter to lower case.\n",
    "    2. If the first character of the current word is not in the dictionary:<br />\n",
    "          Initialize the dictionary entry for the current character with a list containing the current word.\n",
    "    3. Otherwise:  \n",
    "          Append the current word to the value for the current character key.  \n",
    "4. Return the dictionary"
   ]
  },
  {
   "cell_type": "code",
   "execution_count": 29,
   "metadata": {},
   "outputs": [
    {
     "name": "stdout",
     "output_type": "stream",
     "text": [
      "{'a': ['A', 'always', 'Are', 'apart'], 's': ['satire,', 'see', 'satire', 'so'], 'h': ['however', 'hard', 'how'], 'i': ['it', 'it', 'is', 'it'], 't': ['tries', 'tear', 'to', 'the'], 'w': ['Will'], 'b': ['be', 'by'], 'd': ['delightful', 'delicious', 'Does'], 'y': ['you', 'you'], 'u': ['upset'], 'p': ['pleasing']}\n"
     ]
    }
   ],
   "source": [
    "# Write the function below\n",
    "def wordsStartingWith(sentence):\n",
    "    sentence=sentence.replace(\"\\n\",\" \")\n",
    "    newSentence=sentence.split(\" \")\n",
    "    firstLetter={}\n",
    "    \n",
    "    for word in newSentence:\n",
    "        firstLet=word[0].lower()\n",
    "        if firstLet not in firstLetter:\n",
    "            firstLetter[firstLet]=[word]\n",
    "        else:\n",
    "            firstLetter[firstLet].append(word)\n",
    "    return firstLetter\n",
    "# Do not change the code below\n",
    "sentence = \"\"\"A satire, however hard it tries\n",
    "Will always be delightful\n",
    "Are you upset by how delicious it is\n",
    "Does it tear you apart to see the satire so pleasing\"\"\"\n",
    "print(wordsStartingWith(sentence))"
   ]
  },
  {
   "cell_type": "markdown",
   "metadata": {},
   "source": [
    "<span style=\"color:blue\">Expected output:</span><br/>\n",
    "<span style=\"font: courier; font-size: 13px\">\n",
    "{'a': ['A', 'always', 'Are', 'apart'], 's': ['satire,', 'see', 'satire', 'so'], 'h': ['however', 'hard', 'how'], 'i': ['it', 'it', 'is', 'it'], 't': ['tries', 'tear', 'to', 'the'], 'w': ['Will'], 'b': ['be', 'by'], 'd': ['delightful', 'delicious', 'Does'], 'y': ['you', 'you'], 'u': ['upset'], 'p': ['pleasing']}</span>"
   ]
  },
  {
   "cell_type": "markdown",
   "metadata": {},
   "source": [
    "### Problem 7\n",
    "Define a function called _square_ that accepts the integer parameter _num_ and returns the square of _num_.\n",
    "\n",
    "Define a function called _myMap_ that accepts two arguments: a function _func_ and a list _myList_. The function does the following:\n",
    "1. Initialize _result_ to an empty list.\n",
    "2. Iterate of _myList_:\n",
    "   1. Calls _func_ with the current list element.\n",
    "   2. Append the value returned by _func_ to _result_. \n",
    "3. Return _result_"
   ]
  },
  {
   "cell_type": "code",
   "execution_count": 30,
   "metadata": {},
   "outputs": [
    {
     "name": "stdout",
     "output_type": "stream",
     "text": [
      "[1, 4, 9]\n"
     ]
    }
   ],
   "source": [
    "# Write the functions below\n",
    "def square(num):\n",
    "    return (num*num)\n",
    "def myMap(func, myList):\n",
    "    result=[]\n",
    "    for val in myList:\n",
    "        result.append(func(val))\n",
    "        \n",
    "    return result\n",
    "# Do not change the code below\n",
    "my_list = [1,2,3]\n",
    "result = myMap(square, my_list)\n",
    "print(result)"
   ]
  },
  {
   "cell_type": "markdown",
   "metadata": {},
   "source": [
    "<span style=\"color:blue\">Expected output:</span><br/>\n",
    "<span style=\"font: courier; font-size: 13px\">\n",
    "[1, 4, 9]</span>"
   ]
  },
  {
   "cell_type": "markdown",
   "metadata": {},
   "source": [
    "### Problem 8\n",
    "In this problem you are to calculate the largest Scrabble score for a word in a list of words and find the word with the highest Scrabble score.  This problem has the following parts:\n",
    "\n",
    "1. Write the function _computeScrabbleScore_ that accepts the parameter _word_ that returns the Scrabble score for that word. The Scrabble Score for a word is the sum of the values associated with each letter in the word.  The dictionary *letter_values*  has the letter values.  This is a simple accumulation where the score is determined by iterating over each letter in _word_ and indexing into _letter_values_ using that letter.\n",
    "\n",
    "\n",
    "2. Write the function _wordScore_ that accepts a list of words as a parameter and builds a dictionary that has the word as the key and the associated Scrabble score of the word as the value.  This function calls _computeScrabbleScore_ to get the score for each word.\n",
    "\n",
    "\n",
    "3.  Write the function _bestWord_ that accepts the dictionary of words and scores and returns the tuple of the word and score of the word with the highest score.  Use the max accumulation pattern to iterate over the dictionary to find the word with the highest score.\n",
    "\n",
    "Note, that *letter_values* has only lower case letters.  You need to allow for uppercase letters.  This means you need to convert upper case letters to lower case before accumulating the Scrabble score for the word. \n",
    "\n",
    "Develop this problem incrementally:\n",
    "1. Develop the code for _computeScrabbleScore_.\n",
    "2. Test _computeScrabbleScore_ until successful.\n",
    "3. Develop the code for _wordScore_.\n",
    "4. Test _wordScore_ until successful.\n",
    "5. Develop the code for _bestWord_ .\n",
    "6. Test _bestWord_ until successful."
   ]
  },
  {
   "cell_type": "code",
   "execution_count": 4,
   "metadata": {},
   "outputs": [
    {
     "name": "stdout",
     "output_type": "stream",
     "text": [
      "{'Half': 10, 'a': 1, 'league': 7, 'half': 10, 'onward': 10, 'All': 3, 'in': 2, 'the': 6, 'valley': 16, 'of': 5, 'Death': 9, 'Rode': 5, 'six': 10, 'hundred': 12, 'Forward': 14, 'Light': 9, 'Brigade': 11, 'Charge': 12, 'for': 6, 'guns': 5, 'he': 5, 'said': 5, 'Into': 4}\n",
      "The word with the highest score is valley with a score of 16\n"
     ]
    }
   ],
   "source": [
    "# Write the functions below\n",
    "def computeScrabbleScore(word):\n",
    "    wordValue=0\n",
    "    for char in word:\n",
    "        char=char.lower()\n",
    "        wordValue+=letter_values[char]\n",
    "    return wordValue\n",
    "\n",
    "def wordScore(listWords):\n",
    "    wordDict={}\n",
    "    for word in listWords:\n",
    "        wordDict[word]=computeScrabbleScore(word)\n",
    "    return wordDict\n",
    "def bestWord(dictWords):\n",
    "    bestScoreTup=()\n",
    "    highScore=0\n",
    "    for words in dictWords:\n",
    "        if dictWords[words]>highScore:\n",
    "            highScore=dictWords[words]\n",
    "            bestScoreTup=(words, highScore)\n",
    "    \n",
    "    return bestScoreTup\n",
    "\n",
    "# do not change the code below\n",
    "letter_values = {'a': 1, 'b': 3, 'c': 3, 'd': 2, 'e': 1, 'f':4, 'g': 2, 'h':4, 'i':1,'j':8, 'k':5,\n",
    "                 'l':1, 'm':3, 'n':1, 'o':1, 'p':3, 'q':10, 'r':1, 's':1, 't':1, 'u':1,'v':8, 'w':4,\n",
    "                 'x':8, 'y':4, 'z':10}\n",
    "word_list = ['Half','a','league','half','a','league','Half','a','league','onward',\n",
    "         'All','in','the','valley','of','Death','Rode','the','six','hundred',\n",
    "         'Forward','the','Light','Brigade','Charge','for','the','guns','he','said',\n",
    "         'Into','the','valley','of','Death','Rode','the','six','hundred']\n",
    "wordDict = wordScore(word_list)\n",
    "print(wordDict)\n",
    "best_word = bestWord(wordDict)\n",
    "print(\"The word with the highest score is\",best_word[0],\"with a score of\",best_word[1])"
   ]
  },
  {
   "cell_type": "markdown",
   "metadata": {},
   "source": [
    "<span style=\"color:blue\">Expected output:</span><br/>\n",
    "<span style=\"font: courier; font-size: 13px\">\n",
    "{'Half': 10, 'a': 1, 'league': 7, 'half': 10, 'onward': 10, 'All': 3, 'in': 2, 'the': 6, 'valley': 16, 'of': 5, 'Death': 9, 'Rode': 5, 'six': 10, 'hundred': 12, 'Forward': 14, 'Light': 9, 'Brigade': 11, 'Charge': 12, 'for': 6, 'guns': 5, 'he': 5, 'said': 5, 'Into': 4}<br />\n",
    "The word with the highest score is valley with a score of 16</span>"
   ]
  },
  {
   "cell_type": "markdown",
   "metadata": {},
   "source": [
    "### Problem 9\n",
    "Write the function _scrabbleTuples_ that accepts the list parameter _words_ and uses the _computeScrabbleScore_ function developed earlier to return a list of tuples.  Each element in the list is a tuple that consists of the word and the associated Scrabble score.  However, only words with a score of 8 or greater are returned.\n",
    "\n",
    "Note, you do not need to copy the code for _computeScrabbleScore_ to the cell below.  Once problem 8 is working correctly, running the cell containing problem 8 will load _computeScrabbleScore_ into the addresspace making it available anywhere in the notebook."
   ]
  },
  {
   "cell_type": "code",
   "execution_count": 5,
   "metadata": {},
   "outputs": [
    {
     "name": "stdout",
     "output_type": "stream",
     "text": [
      "[('python', 14), ('program', 12), ('unix', 11), ('hours', 8), ('syntax', 16)]\n"
     ]
    }
   ],
   "source": [
    "# Write the function below\n",
    "def scrabbleTuples(words):\n",
    "    result=[]\n",
    "    for word in words:\n",
    "        score=computeScrabbleScore(word)\n",
    "        if score >=8:\n",
    "            result.append((word,score))\n",
    "    return result\n",
    "# do not change the code below\n",
    "my_words = ['python', 'program', 'list', 'string', 'unix', 'hours', 'syntax', 'error']\n",
    "result = scrabbleTuples(my_words)\n",
    "print(result)"
   ]
  },
  {
   "cell_type": "markdown",
   "metadata": {},
   "source": [
    "<span style=\"color:blue\">Expected output:</span><br/>\n",
    "<span style=\"font: courier; font-size: 13px\">\n",
    "[('python', 14), ('program', 12), ('unix', 11), ('hours', 8), ('syntax', 16)]</span>"
   ]
  },
  {
   "cell_type": "markdown",
   "metadata": {},
   "source": [
    "### Problem 10\n",
    "Your code needs to do the following:\n",
    "1. Create a function called _pigLatin_ that accepts  a string of English words in the parameter _sentence_ and returns a string of those words translated into Pig Latin. English is translated to Pig Latin by taking the first letter of every word, moving it to the end of the word and adding ‘ay’. For example the sentence “The quick brown fox” becomes “hetay uickqay rownbay oxfay”.  You may assume the words in the parameter _sentence_ are separated by a space.\n",
    "2. Print the original sentence.\n",
    "3. Print the Pig Latin sentence\n",
    "4. Use the _scrabbleTuples_ function, developed earlier, to produce a list of tuples of the Pig Latin words and their associated Scrabble scores.\n",
    "5. Print the list of Pig Latin tuples. "
   ]
  },
  {
   "cell_type": "code",
   "execution_count": 6,
   "metadata": {},
   "outputs": [
    {
     "name": "stdout",
     "output_type": "stream",
     "text": [
      "The quick brown fox jumps over the lazy dog\n",
      "heTay uickqay rownbay oxfay umpsjay veroay hetay azylay ogday\n",
      "[('heTay', 11), ('uickqay', 25), ('rownbay', 15), ('oxfay', 18), ('umpsjay', 21), ('veroay', 16), ('hetay', 11), ('azylay', 21), ('ogday', 10)]\n"
     ]
    }
   ],
   "source": [
    "# Write the function below\n",
    "def pigLatin(sentence):\n",
    "    words=sentence.split()\n",
    "    new_sentence=\"\"\n",
    "    for word in words:\n",
    "        new_sentence+=word[1:]+word[0]+\"ay\"+\" \"\n",
    "    new_sentence=new_sentence[0:-1]\n",
    "    return new_sentence\n",
    "# Use the variable below to test\n",
    "sentence = 'The quick brown fox jumps over the lazy dog'\n",
    "\n",
    "# write your code below\n",
    "print(sentence)\n",
    "pl_sentence=pigLatin(sentence)\n",
    "print(pl_sentence)\n",
    "pl_list=pl_sentence.split()\n",
    "print(scrabbleTuples(pl_list))"
   ]
  },
  {
   "cell_type": "markdown",
   "metadata": {},
   "source": [
    "<span style=\"color:blue\">Expected output:</span><br/>\n",
    "<span style=\"font: courier; font-size: 13px\">\n",
    "The quick brown fox jumps over the lazy dog<br/>\n",
    "heTay uickqay rownbay oxfay umpsjay veroay hetay azylay ogday<br/> \n",
    "[('heTay', 11), ('uickqay', 25), ('rownbay', 15), ('oxfay', 18), ('umpsjay', 21), ('veroay', 16), ('hetay', 11), ('azylay', 21), ('ogday', 10)]</span>"
   ]
  },
  {
   "cell_type": "code",
   "execution_count": 7,
   "metadata": {},
   "outputs": [],
   "source": [
    "import unittest\n",
    "\n",
    "class PS05_01 (unittest.TestCase):\n",
    "    def test_problem01(self):\n",
    "        self.assertEqual(isFactor(20,10), True)\n",
    "        self.assertEqual(isFactor(20,11), False)\n",
    "class PS05_02 (unittest.TestCase):\n",
    "    def test_problem02(self):\n",
    "        l = ['a','b','c']\n",
    "        removeColor('b',l)\n",
    "        self.assertEqual(l, ['a','c'])\n",
    "        l = ['a','b','c']\n",
    "        removeColor('z',l)        \n",
    "        self.assertEqual(l, ['a','b','c'])\n",
    "class PS05_03 (unittest.TestCase):\n",
    "    def test_problem03(self):\n",
    "        s = 'The quick brown fox jumps over the lazy dog'\n",
    "        c = countVowels(s)\n",
    "        self.assertEqual(c,11)\n",
    "class PS05_04 (unittest.TestCase):\n",
    "    def test_problem04(self):\n",
    "        d = {'a':11, 'b':21, 'c':31}\n",
    "        self.assertEqual(getValues(d), [11,21,31])\n",
    "class PS05_05 (unittest.TestCase):\n",
    "    def test_problem05(self):\n",
    "        l = [10,5,13,2]\n",
    "        self.assertEqual(maxInList(l), 13)\n",
    "        l = []\n",
    "        self.assertEqual(maxInList(l), False)\n",
    "class PS05_06 (unittest.TestCase):\n",
    "    def test_problem06(self):\n",
    "        s = 'Able amy August Bus Board burn'\n",
    "        r = {'a': ['Able', 'amy', 'August'], 'b': ['Bus', 'Board', 'burn']}\n",
    "        self.assertEqual(wordsStartingWith(s), r)\n",
    "class PS05_07 (unittest.TestCase):\n",
    "    def test_problem07(self):\n",
    "        l = [2,4,6]\n",
    "        self.assertEqual(myMap(square,l), [4,16,36])\n",
    "class PS05_08 (unittest.TestCase):\n",
    "    def test_problem08(self):\n",
    "        l = ['Half','a','mile']\n",
    "        d = wordScore(l)\n",
    "        self.assertEqual(d, {'Half': 10, 'a': 1, 'mile': 6})\n",
    "        t = bestWord(d)\n",
    "        self.assertEqual(t[0],'Half')\n",
    "        self.assertEqual(t[1],10)\n",
    "class PS05_09 (unittest.TestCase):\n",
    "    def test_problem09(self):\n",
    "        my_words = ['python', 'program', 'list']\n",
    "        result = scrabbleTuples(my_words)\n",
    "        self.assertEqual(result,[('python', 14), ('program', 12)])\n",
    "class PS05_10 (unittest.TestCase):\n",
    "    def test_problem10(self):\n",
    "        s = 'The quick brown'\n",
    "        pl_s = pigLatin(s)\n",
    "        if pl_s[-1] == \" \":\n",
    "            pl_s = pl_s[0:-1]\n",
    "        self.assertEqual(pl_s, \"heTay uickqay rownbay\")  "
   ]
  },
  {
   "cell_type": "code",
   "execution_count": 8,
   "metadata": {},
   "outputs": [
    {
     "name": "stderr",
     "output_type": "stream",
     "text": [
      "test_problem01 (__main__.PS05_01) ... ERROR\n",
      "test_problem02 (__main__.PS05_02) ... ERROR\n",
      "test_problem03 (__main__.PS05_03) ... ERROR\n",
      "test_problem04 (__main__.PS05_04) ... ERROR\n",
      "test_problem05 (__main__.PS05_05) ... ERROR\n",
      "test_problem06 (__main__.PS05_06) ... ERROR\n",
      "test_problem07 (__main__.PS05_07) ... ERROR\n",
      "test_problem08 (__main__.PS05_08) ... ok\n",
      "test_problem09 (__main__.PS05_09) ... ok\n",
      "test_problem10 (__main__.PS05_10) ... ok\n",
      "\n",
      "======================================================================\n",
      "ERROR: test_problem01 (__main__.PS05_01)\n",
      "----------------------------------------------------------------------\n",
      "Traceback (most recent call last):\n",
      "  File \"/tmp/ipykernel_2242703/3353580558.py\", line 5, in test_problem01\n",
      "    self.assertEqual(isFactor(20,10), True)\n",
      "NameError: name 'isFactor' is not defined\n",
      "\n",
      "======================================================================\n",
      "ERROR: test_problem02 (__main__.PS05_02)\n",
      "----------------------------------------------------------------------\n",
      "Traceback (most recent call last):\n",
      "  File \"/tmp/ipykernel_2242703/3353580558.py\", line 10, in test_problem02\n",
      "    removeColor('b',l)\n",
      "NameError: name 'removeColor' is not defined\n",
      "\n",
      "======================================================================\n",
      "ERROR: test_problem03 (__main__.PS05_03)\n",
      "----------------------------------------------------------------------\n",
      "Traceback (most recent call last):\n",
      "  File \"/tmp/ipykernel_2242703/3353580558.py\", line 18, in test_problem03\n",
      "    c = countVowels(s)\n",
      "NameError: name 'countVowels' is not defined\n",
      "\n",
      "======================================================================\n",
      "ERROR: test_problem04 (__main__.PS05_04)\n",
      "----------------------------------------------------------------------\n",
      "Traceback (most recent call last):\n",
      "  File \"/tmp/ipykernel_2242703/3353580558.py\", line 23, in test_problem04\n",
      "    self.assertEqual(getValues(d), [11,21,31])\n",
      "NameError: name 'getValues' is not defined\n",
      "\n",
      "======================================================================\n",
      "ERROR: test_problem05 (__main__.PS05_05)\n",
      "----------------------------------------------------------------------\n",
      "Traceback (most recent call last):\n",
      "  File \"/tmp/ipykernel_2242703/3353580558.py\", line 27, in test_problem05\n",
      "    self.assertEqual(maxInList(l), 13)\n",
      "NameError: name 'maxInList' is not defined\n",
      "\n",
      "======================================================================\n",
      "ERROR: test_problem06 (__main__.PS05_06)\n",
      "----------------------------------------------------------------------\n",
      "Traceback (most recent call last):\n",
      "  File \"/tmp/ipykernel_2242703/3353580558.py\", line 34, in test_problem06\n",
      "    self.assertEqual(wordsStartingWith(s), r)\n",
      "NameError: name 'wordsStartingWith' is not defined\n",
      "\n",
      "======================================================================\n",
      "ERROR: test_problem07 (__main__.PS05_07)\n",
      "----------------------------------------------------------------------\n",
      "Traceback (most recent call last):\n",
      "  File \"/tmp/ipykernel_2242703/3353580558.py\", line 38, in test_problem07\n",
      "    self.assertEqual(myMap(square,l), [4,16,36])\n",
      "NameError: name 'myMap' is not defined\n",
      "\n",
      "----------------------------------------------------------------------\n",
      "Ran 10 tests in 0.024s\n",
      "\n",
      "FAILED (errors=7)\n"
     ]
    },
    {
     "data": {
      "text/plain": [
       "<unittest.main.TestProgram at 0x7f2eee75e280>"
      ]
     },
     "execution_count": 8,
     "metadata": {},
     "output_type": "execute_result"
    }
   ],
   "source": [
    "unittest.main(argv=['first-arg-is-ignored'], exit=False, verbosity=2)"
   ]
  },
  {
   "cell_type": "code",
   "execution_count": null,
   "metadata": {},
   "outputs": [],
   "source": []
  }
 ],
 "metadata": {
  "kernelspec": {
   "display_name": "Python 3 (ipykernel)",
   "language": "python",
   "name": "python3"
  },
  "language_info": {
   "codemirror_mode": {
    "name": "ipython",
    "version": 3
   },
   "file_extension": ".py",
   "mimetype": "text/x-python",
   "name": "python",
   "nbconvert_exporter": "python",
   "pygments_lexer": "ipython3",
   "version": "3.9.6"
  },
  "varInspector": {
   "cols": {
    "lenName": 16,
    "lenType": 16,
    "lenVar": 40
   },
   "kernels_config": {
    "python": {
     "delete_cmd_postfix": "",
     "delete_cmd_prefix": "del ",
     "library": "var_list.py",
     "varRefreshCmd": "print(var_dic_list())"
    },
    "r": {
     "delete_cmd_postfix": ") ",
     "delete_cmd_prefix": "rm(",
     "library": "var_list.r",
     "varRefreshCmd": "cat(var_dic_list()) "
    }
   },
   "types_to_exclude": [
    "module",
    "function",
    "builtin_function_or_method",
    "instance",
    "_Feature"
   ],
   "window_display": false
  }
 },
 "nbformat": 4,
 "nbformat_minor": 2
}
