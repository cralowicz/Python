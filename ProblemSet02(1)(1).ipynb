{
 "cells": [
  {
   "cell_type": "markdown",
   "metadata": {},
   "source": [
    "## <span style=\"color:blue\">Problem Set 2</span>"
   ]
  },
  {
   "cell_type": "raw",
   "metadata": {},
   "source": [
    "#Cosette Ralowicz"
   ]
  },
  {
   "cell_type": "markdown",
   "metadata": {},
   "source": [
    "### <span style=\"color:red\">Run the cell below first</span>\n",
    "Before starting the assignment, run the cell below.  \n",
    "\n",
    "**Note:**   \n",
    "1. You need to use code to arrive at a solution.  Hardcoding a solution results in 0 points for the problem.\n",
    "2. **Use only syntax covered in the Units so far.**  Using any other syntax results in 0 points for the problem. "
   ]
  },
  {
   "cell_type": "code",
   "execution_count": 11,
   "metadata": {},
   "outputs": [],
   "source": [
    "sentence = 'Half a league, half a league, Half a league onward, All in the valley of Death rode the six hundred'\n",
    "colors = ['red','green','blue','orange','magenta','brown','white','black']\n",
    "vowels = ('a','e','i')"
   ]
  },
  {
   "cell_type": "markdown",
   "metadata": {},
   "source": [
    "### Problem 1:\n",
    "\n",
    "Write code in the cell below that does the following:\n",
    "  1. Assign the tenth character in _sentence_ to the variable _char_.\n",
    "  2. Print _char_\n",
    "  3. Concatenate (join) the sixth character and the last character of _sentence_ and store the result _chars_.\n",
    "  4. Print _chars_.\n",
    "  5. Assign the length of _sentence_ to the variable _lens_.\n",
    "  6. Print the length of _lens_.\n",
    "  7. Write an assignment statement that stores in the variable _stars_ a string consisting of one thousands asterisks(*).  Do not hard code a string of 1000 *.\n",
    "  8. Print the length of _stars_."
   ]
  },
  {
   "cell_type": "code",
   "execution_count": 10,
   "metadata": {},
   "outputs": [
    {
     "name": "stdout",
     "output_type": "stream",
     "text": [
      "a\n",
      "ad\n",
      "99\n",
      "1000\n"
     ]
    }
   ],
   "source": [
    "char=sentence[9]\n",
    "print(char)\n",
    "chars=sentence[5]+sentence[-1]\n",
    "print(chars)\n",
    "lens=len(sentence)\n",
    "print(lens)\n",
    "stars='*'*1000\n",
    "print(len(stars))"
   ]
  },
  {
   "cell_type": "markdown",
   "metadata": {},
   "source": [
    "<span style=\"color:blue\">Expected output:</span><br/>\n",
    "<span style=\"font: courier; font-size: 13px\">\n",
    "a<br />\n",
    "ad<br />\n",
    "99<br />\n",
    "1000</span>"
   ]
  },
  {
   "cell_type": "markdown",
   "metadata": {},
   "source": [
    "### Problem 2:\n",
    "\n",
    "Write code in the cell below that does the following:\n",
    "  1. Replace all occurances of the word \"league\" with the word \"mile\" in the string _sentence_ and store the result in the variable _newSent_.  Do not change _sentence_. \n",
    "  2. Print _newSent_\n",
    "  3. Assign the variable _numWords_ the number of words in the string _sentence_. Hint, the string class has the method split(). Do not be concerned about the commas.\n",
    "  3. Print _numWords_.\n",
    "  4. Write an assignment statement that reverses the string _sentence_ using slices and stores the result in _revSent_.\n",
    "  5. Print _revSent_."
   ]
  },
  {
   "cell_type": "code",
   "execution_count": 34,
   "metadata": {},
   "outputs": [
    {
     "name": "stdout",
     "output_type": "stream",
     "text": [
      "Half a mile, half a mile, Half a mile onward, All in the valley of Death rode the six hundred\n",
      "20\n",
      "derdnuh xis eht edor htaeD fo yellav eht ni llA ,drawno eugael a flaH ,eugael a flah ,eugael a flaH\n"
     ]
    }
   ],
   "source": [
    "newSent=sentence.replace('league','mile')\n",
    "print(newSent)\n",
    "numWords=len(sentence.split())\n",
    "print(numWords)\n",
    "revSent=sentence[-1::-1]\n",
    "print(revSent)"
   ]
  },
  {
   "cell_type": "markdown",
   "metadata": {},
   "source": [
    "<span style=\"color:blue\">Expected output:</span><br/>\n",
    "<span style=\"font: courier; font-size: 13px\">\n",
    "Half a mile, half a mile, Half a mile onward, All in the valley of Death rode the six hundred<br />\n",
    "20<br />\n",
    "derdnuh xis eht edor htaeD fo yellav eht ni llA ,drawno eugael a flaH ,eugael a flah ,eugael a flaH</span>"
   ]
  },
  {
   "cell_type": "markdown",
   "metadata": {},
   "source": [
    "### Problem 3:\n",
    "\n",
    "Write code below that does the following:\n",
    "1. Shifts with wraparound the string _sentence_ three position to the right  and stores the result in _rotSent_.\n",
    "2. Print _rotSent_\n",
    "This means that the last three characters of the string become the first three characters and the last three characters of the original string are dropped.  Hint:  string slices are helpful."
   ]
  },
  {
   "cell_type": "code",
   "execution_count": 26,
   "metadata": {},
   "outputs": [
    {
     "name": "stdout",
     "output_type": "stream",
     "text": [
      "redHalf a league, half a league, Half a league onward, All in the valley of Death rode the six hund\n"
     ]
    }
   ],
   "source": [
    "rotSent=sentence[-3:]+sentence[:-3]\n",
    "print(rotSent)"
   ]
  },
  {
   "cell_type": "markdown",
   "metadata": {},
   "source": [
    "<span style=\"color:blue\">Expected output:</span><br/>\n",
    "<span style=\"font: courier; font-size: 13px\">\n",
    "redHalf a league, half a league, Half a league onward, All in the valley of Death rode the six hund</span>"
   ]
  },
  {
   "cell_type": "markdown",
   "metadata": {},
   "source": [
    "### Problem 4:\n",
    "\n",
    "Write code below that does the following:\n",
    "1. Uses list slices to assign the fifth through the second element in the list _colors_ to the variable _myColors_.\n",
    "2. Print myColors.\n",
    "3. Create a new list _extColors_ that includes all of the elements in _colors_ plus the additional the element \"pink\". Your code must use the list _colors_ in the creation of the _extColors_.\n",
    "4. Print _extColors_. \n",
    "5. Create the string _newColors_ that consists of all the elements in colors separated by a comma.\n",
    "6. Print _newColors_"
   ]
  },
  {
   "cell_type": "code",
   "execution_count": 39,
   "metadata": {},
   "outputs": [
    {
     "name": "stdout",
     "output_type": "stream",
     "text": [
      "['magenta', 'orange', 'blue', 'green']\n",
      "['red', 'green', 'blue', 'orange', 'magenta', 'brown', 'white', 'black', 'pink']\n",
      "red,green,blue,orange,magenta,brown,white,black\n"
     ]
    }
   ],
   "source": [
    "colors = ['red','green','blue','orange','magenta','brown','white','black']\n",
    "\n",
    "myColors=colors[4:0:-1]\n",
    "print(myColors)\n",
    "extColors=colors+['pink']\n",
    "print(extColors)\n",
    "newColors=','.join(colors)\n",
    "print(newColors)"
   ]
  },
  {
   "cell_type": "markdown",
   "metadata": {},
   "source": [
    "<span style=\"color:blue\">Expected output:</span><br/>\n",
    "<span style=\"font: courier; font-size: 13px\">\n",
    "['magenta', 'orange', 'blue', 'green']<br />\n",
    "['red', 'green', 'blue', 'orange', 'magenta', 'brown', 'white', 'black', 'pink']<br/>\n",
    "red,green,blue,orange,magenta,brown,white,black\n",
    "</span>"
   ]
  },
  {
   "cell_type": "markdown",
   "metadata": {},
   "source": [
    "### Problem 5:\n",
    "\n",
    "Write code below that does the following:\n",
    "1. Shifts with wraparound the list _colors_ three positions to the right  and stores the result in _rotColors_.\n",
    "2. Print _rotColors_\n",
    "This means that the last three elements of the list _colors_ become the first three elements and the last three elements of the original list are dropped.  "
   ]
  },
  {
   "cell_type": "code",
   "execution_count": 40,
   "metadata": {},
   "outputs": [
    {
     "name": "stdout",
     "output_type": "stream",
     "text": [
      "['brown', 'white', 'black', 'red', 'green', 'blue', 'orange', 'magenta']\n"
     ]
    }
   ],
   "source": [
    "rotColors=colors[-3:]+colors[:-3]\n",
    "print(rotColors)"
   ]
  },
  {
   "cell_type": "markdown",
   "metadata": {},
   "source": [
    "<span style=\"color:blue\">Expected output:</span><br/>\n",
    "<span style=\"font: courier; font-size: 13px\">\n",
    "['brown', 'white', 'black', 'red', 'green', 'blue', 'orange', 'magenta']\n",
    "</span>"
   ]
  },
  {
   "cell_type": "markdown",
   "metadata": {},
   "source": [
    "### Problem 6:\n",
    "\n",
    "The code snippet below is intended to count the number of elements in the list _colors_.  Do the following to complete the it:\n",
    "1. Where indicated in the cell below, write an assignment statement that adds 1 to the variable _colorCount_.\n",
    "2. Print _colorCount_ as shown in the expected output."
   ]
  },
  {
   "cell_type": "code",
   "execution_count": 45,
   "metadata": {},
   "outputs": [
    {
     "name": "stdout",
     "output_type": "stream",
     "text": [
      "The number of colors is 8\n"
     ]
    }
   ],
   "source": [
    "colorCount = 0\n",
    "for color in colors:\n",
    "    # write your statement below\n",
    "    colorCount+=1\n",
    "print(\"The number of colors is \"+ str(colorCount))"
   ]
  },
  {
   "cell_type": "markdown",
   "metadata": {},
   "source": [
    "<span style=\"color:blue\">Expected output:</span><br/>\n",
    "<span style=\"font: courier; font-size: 13px\">\n",
    "The number of colors is 8</span>"
   ]
  },
  {
   "cell_type": "markdown",
   "metadata": {},
   "source": [
    "### Problem 7:\n",
    "\n",
    "Write code below the removes the element \"black\" from _locColors_. DO NOT make any assumptions as to the location of the color black in the list.  Assume that it may be any element. Print _locColors_. "
   ]
  },
  {
   "cell_type": "code",
   "execution_count": 59,
   "metadata": {},
   "outputs": [
    {
     "name": "stdout",
     "output_type": "stream",
     "text": [
      "['red', 'green', 'blue', 'orange', 'magenta', 'brown', 'white']\n"
     ]
    }
   ],
   "source": [
    "locColors = ['red','green','blue','orange','magenta','brown','white','black']\n",
    "# write your code below\n",
    "locColors.remove('black')\n",
    "print(locColors)"
   ]
  },
  {
   "cell_type": "markdown",
   "metadata": {},
   "source": [
    "<span style=\"color:blue\">Expected output:</span><br/>\n",
    "<span style=\"font: courier; font-size: 13px\">\n",
    "['red', 'green', 'blue', 'orange', 'magenta', 'brown', 'white']</span>"
   ]
  },
  {
   "cell_type": "markdown",
   "metadata": {},
   "source": [
    "### Problem 8:\n",
    "\n",
    "Write code below that does the following:\n",
    "1. Creates a tuple called _numsTuple_ that has the elments 5,13,27,89. \n",
    "2. Print _numsTuple_\n",
    "3. Write an assignment statement where indicated in the cell below that adds _n_ to _tot_.\n",
    "3. Prints _tot_ as shown below in expected output."
   ]
  },
  {
   "cell_type": "code",
   "execution_count": 64,
   "metadata": {},
   "outputs": [
    {
     "name": "stdout",
     "output_type": "stream",
     "text": [
      "(5, 13, 27, 89)\n",
      "Total of all elements is 134\n"
     ]
    }
   ],
   "source": [
    "# write code to define and print numsTuple here\n",
    "numsTuple=(5,13,27,89)\n",
    "print(numsTuple)\n",
    "\n",
    "tot = 0\n",
    "for n in numsTuple:\n",
    "        # write the assignment statement here\n",
    "        tot+=n\n",
    "print('Total of all elements is '+ str(tot))"
   ]
  },
  {
   "cell_type": "markdown",
   "metadata": {},
   "source": [
    "<span style=\"color:blue\">Expected output:</span><br/>\n",
    "<span style=\"font: courier; font-size: 13px\">\n",
    "(5, 13, 27, 89)<br />\n",
    "Total of all elements is 134</span>"
   ]
  },
  {
   "cell_type": "markdown",
   "metadata": {},
   "source": [
    "### Problem 9:\n",
    "\n",
    "Write code below that uses the + operator to append the string \"o\" to the tuple *vowels*. Print vowels."
   ]
  },
  {
   "cell_type": "code",
   "execution_count": 67,
   "metadata": {},
   "outputs": [
    {
     "name": "stdout",
     "output_type": "stream",
     "text": [
      "('a', 'e', 'i', 'o')\n"
     ]
    }
   ],
   "source": [
    "vowels = vowels + (\"o\",)\n",
    "print(vowels)"
   ]
  },
  {
   "cell_type": "markdown",
   "metadata": {},
   "source": [
    "<span style=\"color:blue\">Expected output:</span><br/>\n",
    "<span style=\"font: courier; font-size: 13px\">\n",
    "('a', 'e', 'i', 'o')</span>"
   ]
  },
  {
   "cell_type": "markdown",
   "metadata": {},
   "source": [
    "### Problem 10:\n",
    "\n",
    "Write code below that uses the Turtle module to create a basic shape.  You have the liberty to create whatever shape you desire."
   ]
  },
  {
   "cell_type": "code",
   "execution_count": 72,
   "metadata": {},
   "outputs": [
    {
     "data": {
      "application/vnd.jupyter.widget-view+json": {
       "model_id": "e7d8bec5a09547789d77d971ae8465cd",
       "version_major": 2,
       "version_minor": 0
      },
      "text/plain": [
       "Turtle()"
      ]
     },
     "metadata": {},
     "output_type": "display_data"
    }
   ],
   "source": [
    "from mobilechelonian import Turtle\n",
    "t=Turtle()\n",
    "t.forward(100)\n",
    "t.left(120)\n",
    "t.forward(100)\n",
    "t.left(120)\n",
    "t.forward(100)\n",
    "#turtle bowtie proceeding\n",
    "t.right(60)\n",
    "t.forward(100)\n",
    "t.left(120)\n",
    "t.forward(100)\n",
    "t.left(120)\n",
    "t.forward(100)\n"
   ]
  },
  {
   "cell_type": "markdown",
   "metadata": {},
   "source": [
    "### <span style=\"color:dark green\">Run the cells below to test your code</span>"
   ]
  },
  {
   "cell_type": "code",
   "execution_count": 73,
   "metadata": {},
   "outputs": [],
   "source": [
    "import unittest\n",
    "\n",
    "class PS02_01 (unittest.TestCase):\n",
    "    def test_problem01(self):\n",
    "        self.assertEqual(char, 'a')\n",
    "        self.assertEqual(chars, 'ad')\n",
    "        self.assertEqual(lens,99)\n",
    "        self.assertEqual(len(stars),1000)\n",
    "    \n",
    "class PS02_02 (unittest.TestCase):\n",
    "    def test_problem02(self):\n",
    "        s = 'Half a mile, half a mile, Half a mile onward, All in the valley of Death rode the six hundred'\n",
    "        self.assertEqual(newSent,s)\n",
    "        self.assertEqual(numWords,20)\n",
    "        \n",
    "class PS02_03 (unittest.TestCase):\n",
    "    def test_problem03(self):\n",
    "        s = 'redHalf a league, half a league, Half a league onward, All in the valley of Death rode the six hund'\n",
    "        self.assertEqual(rotSent,s)\n",
    "\n",
    "class PS02_04 (unittest.TestCase):\n",
    "    def test_problem04(self):\n",
    "        l = ['magenta', 'orange', 'blue', 'green']\n",
    "        self.assertEqual(myColors,l)\n",
    "        l = ['red', 'green', 'blue', 'orange', 'magenta', 'brown', 'white', 'black', 'pink']\n",
    "        self.assertEqual(extColors,l)\n",
    "        s = 'red,green,blue,orange,magenta,brown,white,black'\n",
    "        self.assertEqual(newColors,s)\n",
    "\n",
    "class PS02_05 (unittest.TestCase):\n",
    "    def test_problem05(self):\n",
    "        l = ['brown', 'white', 'black', 'red', 'green', 'blue', 'orange', 'magenta']\n",
    "        self.assertEqual(rotColors,l)        \n",
    "        \n",
    "class PS02_06 (unittest.TestCase):\n",
    "    def test_problem06(self):\n",
    "        self.assertEqual(colorCount,8)         \n",
    "        \n",
    "class PS02_07 (unittest.TestCase):\n",
    "    def test_problem07(self):\n",
    "        l = ['red', 'green', 'blue', 'orange', 'magenta', 'brown', 'white']\n",
    "        self.assertEqual(locColors,l)\n",
    "        \n",
    "class PS02_08 (unittest.TestCase):\n",
    "    def test_problem08(self):\n",
    "        self.assertIsInstance(numsTuple,tuple)\n",
    "        self.assertEqual(tot,134)\n",
    "        \n",
    "class PS02_09 (unittest.TestCase):\n",
    "    def test_problem09(self):\n",
    "        self.assertIsInstance(vowels,tuple)\n",
    "        t = ('a', 'e', 'i', 'o')\n",
    "        self.assertEqual(vowels,t)"
   ]
  },
  {
   "cell_type": "code",
   "execution_count": 74,
   "metadata": {},
   "outputs": [
    {
     "name": "stderr",
     "output_type": "stream",
     "text": [
      "test_problem01 (__main__.PS02_01) ... ok\n",
      "test_problem02 (__main__.PS02_02) ... ok\n",
      "test_problem03 (__main__.PS02_03) ... ok\n",
      "test_problem04 (__main__.PS02_04) ... ok\n",
      "test_problem05 (__main__.PS02_05) ... ok\n",
      "test_problem06 (__main__.PS02_06) ... ok\n",
      "test_problem07 (__main__.PS02_07) ... ok\n",
      "test_problem08 (__main__.PS02_08) ... ok\n",
      "test_problem09 (__main__.PS02_09) ... ok\n",
      "\n",
      "----------------------------------------------------------------------\n",
      "Ran 9 tests in 0.005s\n",
      "\n",
      "OK\n"
     ]
    },
    {
     "data": {
      "text/plain": [
       "<unittest.main.TestProgram at 0x7ff2bc071ac0>"
      ]
     },
     "execution_count": 74,
     "metadata": {},
     "output_type": "execute_result"
    }
   ],
   "source": [
    "unittest.main(argv=['first-arg-is-ignored'], exit=False, verbosity=2)"
   ]
  },
  {
   "cell_type": "code",
   "execution_count": null,
   "metadata": {},
   "outputs": [],
   "source": []
  }
 ],
 "metadata": {
  "kernelspec": {
   "display_name": "Python 3 (ipykernel)",
   "language": "python",
   "name": "python3"
  },
  "language_info": {
   "codemirror_mode": {
    "name": "ipython",
    "version": 3
   },
   "file_extension": ".py",
   "mimetype": "text/x-python",
   "name": "python",
   "nbconvert_exporter": "python",
   "pygments_lexer": "ipython3",
   "version": "3.9.6"
  },
  "varInspector": {
   "cols": {
    "lenName": 16,
    "lenType": 16,
    "lenVar": 40
   },
   "kernels_config": {
    "python": {
     "delete_cmd_postfix": "",
     "delete_cmd_prefix": "del ",
     "library": "var_list.py",
     "varRefreshCmd": "print(var_dic_list())"
    },
    "r": {
     "delete_cmd_postfix": ") ",
     "delete_cmd_prefix": "rm(",
     "library": "var_list.r",
     "varRefreshCmd": "cat(var_dic_list()) "
    }
   },
   "types_to_exclude": [
    "module",
    "function",
    "builtin_function_or_method",
    "instance",
    "_Feature"
   ],
   "window_display": false
  }
 },
 "nbformat": 4,
 "nbformat_minor": 2
}
