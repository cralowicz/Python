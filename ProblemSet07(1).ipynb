{
 "cells": [
  {
   "cell_type": "markdown",
   "metadata": {},
   "source": [
    "## <span style=\"color:blue\">Problem Set 7</span>"
   ]
  },
  {
   "cell_type": "raw",
   "metadata": {},
   "source": [
    "#Cosette Ralowicz 3/14"
   ]
  },
  {
   "cell_type": "markdown",
   "metadata": {},
   "source": [
    "### Problem 1\n",
    "In the early days of computing, languages did not provide sort functions.  The developer was required to write the code necessary to sort a collection.  There are many sorting algorithms available. For this problem you are to develop a function called _bubbleSort_ that accepts a list as a parameter and sorts that list using the _bubble sort algorithm_.  A bubble sort is the simplest, and least efficient, sorting algorithm that works by repeatedly swapping the adjacent elements if they are in wrong order.  In effect, the algorithm bubbles larger values to the end of the collection.  The algorithm makes multiple passes over the collection as shown below.\n",
    "\n",
    "Example: Given the list [5,1,4,2,8]  &nbsp;&nbsp;&nbsp;&nbsp; # thanks to GeeksforGeeks for the example. https://www.geeksforgeeks.org/bubble-sort/\n",
    "First Pass:  \n",
    "[**5**,1,4,2,8] –> [1,**5**,4,2,8] &nbsp;&nbsp;&nbsp;&nbsp;# 5 > 1 so swap.  \n",
    "[1,**5**,4,2,8] –> [1,4,**5**,2,8] &nbsp;&nbsp;&nbsp;&nbsp;# 5 > 4 so swap.  \n",
    "[1,4,**5**,2,8] –> [1,4,2,**5**,8] &nbsp;&nbsp;&nbsp;&nbsp;# 5 > 2 so swap.   \n",
    "[1,4,2,**5**,8] –> [1,4,2,**5**,8] &nbsp;&nbsp;&nbsp;&nbsp;# 5 < 8 so do nothing.\n",
    "\n",
    "Second Pass:   \n",
    "[1,**4**,2,5,8] –> [1,**4**,2,5,8] &nbsp;&nbsp;&nbsp;&nbsp;# 4 > 1 so do nothing.  \n",
    "[1,**4**,2,5,8] –> [1,2,**4**,5,8] &nbsp;&nbsp;&nbsp;&nbsp;# 4 > 2 so swap.  \n",
    "[1,2,**4**,5,8] –> [1,2,**4**,5,8] &nbsp;&nbsp;&nbsp;&nbsp;# 4 < 5 so do nothing.  \n",
    "[1,2,**4**,5,8] –> [1,2,**4**,5,8] &nbsp;&nbsp;&nbsp;&nbsp;# 4 < 8 so do nothing.   \n",
    "  \n",
    "The list is sorted after the second pass but the algorithm doesn't know it.  It has to make a third pass.\n",
    "\n",
    "Third Pass:   \n",
    "[1,**2**,4,5,8] –> [1,**2**,4,5,8] &nbsp;&nbsp;&nbsp;&nbsp;# 2 > 1 so do nothing.   \n",
    "[1,**2**,4,5,8] –> [1,**2**,4,5,8] &nbsp;&nbsp;&nbsp;&nbsp;# 2 < 4 so do nothing.   \n",
    "[1,**2**,4,5,8] –> [1,**2**,4,5,8] &nbsp;&nbsp;&nbsp;&nbsp;# 2 < 5 so do nothing.     \n",
    "[1,**2**,4,5,8] –> [1,**2**,4,5,8] &nbsp;&nbsp;&nbsp;&nbsp;# 2 < 8 so do nothing.     \n",
    "\n",
    "Because the algorithm requires referencing and comparing individual elements, an index is used to reference the elements of the list. The algorithm also requires a nested loop. \n",
    "\n",
    "Do the following in the function:\n",
    "1. Using i as the loop variable, iterate over the range 0 through the length of the list:\n",
    "   1. Using j as the loop variable, iterate over the range 0 through (length of the list - i - 1):\n",
    "   2. if the list element referenced by j is greater than the list element reference by j + 1:\n",
    "      1. Swap the elements\n",
    "      \n",
    "Note, your code should work with the list parameter passed to the function, i.e., do not attempt to create a new list.  As evidenced by the above algorithm, the position of the list elements are changing as the algorithm executes.  The expression _length of list - i - 1_ reduces the upper range since with each successive pass the larger values are being moved to the end of the list.  You may want to use print statements to print i and j to observe how the algorithm works."
   ]
  },
  {
   "cell_type": "code",
   "execution_count": 14,
   "metadata": {},
   "outputs": [
    {
     "name": "stdout",
     "output_type": "stream",
     "text": [
      "['antelope', 'bear', 'cat', 'cow', 'deer', 'elephant', 'elk', 'giraffe', 'goat', 'minx', 'moose', 'otter', 'rabbit', 'salamander', 'tiger', 'yak', 'zebra']\n"
     ]
    }
   ],
   "source": [
    "# Write the function below\n",
    "def bubbleSort(list1):\n",
    "    for i in range (len(list1)):\n",
    "        for j in range (len(list1)-1):\n",
    "            if list1[i]<list1[j]:\n",
    "                newIndexforI=list1[j]\n",
    "                newIndexforJ=list1[i]\n",
    "                list1[j]=newIndexforJ\n",
    "                list1[i]=newIndexforI\n",
    "  \n",
    "# Do not change this code        \n",
    "animals = ['elephant', 'cat', 'moose', 'antelope', 'elk', 'rabbit', 'zebra', 'yak', 'salamander', 'deer',\\\n",
    "           'otter', 'minx', 'giraffe', 'goat', 'cow', 'tiger', 'bear']        \n",
    "bubbleSort(animals)\n",
    "print(animals)"
   ]
  },
  {
   "cell_type": "markdown",
   "metadata": {},
   "source": [
    "<span style=\"color:blue\">Expected output:</span><br/>\n",
    "<span style=\"font: courier; font-size: 13px\">\n",
    "['antelope', 'bear', 'cat', 'cow', 'deer', 'elephant', 'elk', 'giraffe', 'goat', 'minx', 'moose', 'otter', 'rabbit', 'salamander', 'tiger', 'yak', 'zebra']</span>"
   ]
  },
  {
   "cell_type": "markdown",
   "metadata": {},
   "source": [
    "### Problem 2\n",
    "Sort the list animals using the sorted function."
   ]
  },
  {
   "cell_type": "code",
   "execution_count": 17,
   "metadata": {},
   "outputs": [
    {
     "name": "stdout",
     "output_type": "stream",
     "text": [
      "['antelope', 'bear', 'cat', 'cow', 'deer', 'elephant', 'elk', 'giraffe', 'goat', 'minx', 'moose', 'otter', 'rabbit', 'salamander', 'tiger', 'yak', 'zebra']\n"
     ]
    }
   ],
   "source": [
    "animals = ['elephant', 'cat', 'moose', 'antelope', 'elk', 'rabbit', 'zebra', 'yak', 'salamander', 'deer',\\\n",
    "           'otter', 'minx', 'giraffe', 'goat', 'cow', 'tiger', 'bear']\n",
    "# write your code below\n",
    "print(sorted(animals))"
   ]
  },
  {
   "cell_type": "markdown",
   "metadata": {},
   "source": [
    "<span style=\"color:blue\">Expected output:</span><br/>\n",
    "<span style=\"font: courier; font-size: 13px\">\n",
    "['antelope', 'bear', 'cat', 'cow', 'deer', 'elephant', 'elk', 'giraffe', 'goat', 'minx', 'moose', 'otter', 'rabbit', 'salamander', 'tiger', 'yak', 'zebra']</span>"
   ]
  },
  {
   "cell_type": "markdown",
   "metadata": {},
   "source": [
    "### Problem 3\n",
    "Write code that iterates over numList and uses a lambda function to compute the square of each value in numList.  Print each value and the square of the value on one line."
   ]
  },
  {
   "cell_type": "code",
   "execution_count": 24,
   "metadata": {},
   "outputs": [
    {
     "name": "stdout",
     "output_type": "stream",
     "text": [
      "The number is 1\n",
      "The number squared is 1 \n",
      "\n",
      "The number is 2\n",
      "The number squared is 4 \n",
      "\n",
      "The number is 3\n",
      "The number squared is 9 \n",
      "\n"
     ]
    }
   ],
   "source": [
    "numList = [1,2,3]\n",
    "# write your code below\n",
    "for i in numList:\n",
    "    print(\"The number is\", i)\n",
    "    print(\"The number squared is\", ((lambda x: x*x) (i)),\"\\n\")"
   ]
  },
  {
   "cell_type": "markdown",
   "metadata": {},
   "source": [
    "<span style=\"color:blue\">Expected output:</span><br/>\n",
    "<span style=\"font: courier; font-size: 13px\">\n",
    "The number is 1<br />\n",
    "The number squared is 1<br />\n",
    "<br />\n",
    "The number is 2<br />\n",
    "The number squared is 4<br />\n",
    "<br />\n",
    "The number is 3<br />\n",
    "The number squared is 9</span>"
   ]
  },
  {
   "cell_type": "markdown",
   "metadata": {},
   "source": [
    "### Problem 4\n",
    "Given numList below, sort the list on the absolute value of the entry.  Use the **sorted** function to sort the list. You will need to pass sorted the list and a lambda function as the key parameter.  The lambda function returns the absolute value of the parameter.  Use the **abs** function to compute the absolute value."
   ]
  },
  {
   "cell_type": "code",
   "execution_count": 36,
   "metadata": {},
   "outputs": [
    {
     "name": "stdout",
     "output_type": "stream",
     "text": [
      "[1, -2, 3, 4, -7]\n"
     ]
    }
   ],
   "source": [
    "numList = [1, -7, 4, -2, 3]\n",
    "# write your code below\n",
    "print(sorted(numList, key=(lambda x: abs(x))))"
   ]
  },
  {
   "cell_type": "markdown",
   "metadata": {},
   "source": [
    "<span style=\"color:blue\">Expected output:</span><br/>\n",
    "<span style=\"font: courier; font-size: 13px\">\n",
    "[1, -2, 3, 4, -7]</span>"
   ]
  },
  {
   "cell_type": "markdown",
   "metadata": {},
   "source": [
    "### Problem 5\n",
    "Given the dictionary states where the key is the state and the value is the population. Sort states on population and print the three states with the highest population and the three states with the lowest population."
   ]
  },
  {
   "cell_type": "code",
   "execution_count": 45,
   "metadata": {},
   "outputs": [
    {
     "name": "stdout",
     "output_type": "stream",
     "text": [
      "The three states with the lowest population are ['Wyoming', 'Vermont', 'District of Columbia']\n",
      "The three states with the largest population are ['California', 'Texas', 'Florida']\n"
     ]
    }
   ],
   "source": [
    "states = {\"California\":39536653,\"Texas\":28304596,\"Florida\":20984400,\"New York\":19849399,\"Pennsylvania\":12805537,\n",
    "          \"Illinois\":12802023,\"Ohio\":11658609,\"Georgia\":10429379,\"North Carolina\":10273419,\"Michigan\":9962311,\n",
    "          \"New Jersey\":9005644,\"Virginia\":8470020,\"Washington\":7405743,\"Arizona\":7016270,\"Massachusetts\":6859819,\n",
    "          \"Tennessee\":6715984,\"Indiana\":6666818,\"Missouri\":6113532,\"Maryland\":6052177,\"Wisconsin\":5795483,\n",
    "          \"Colorado\":5607154,\"Minnesota\":5576606,\"South Carolina\":5024369,\"Alabama\":4874747,\"Louisiana\":4684333,\n",
    "          \"Kentucky\":4454189,\"Oregon\":4142776,\"Oklahoma\":3930864,\"Connecticut\":3588184,\"Puerto Rico\":3337177,\n",
    "          \"Iowa\":3145711,\"Utah\":3101833,\"Arkansas\":3004279,\"Nevada\":2998039,\"Mississippi\":2984100,\"Kansas\":2913123,\n",
    "          \"New Mexico\":2088070,\"Nebraska\":1920076,\"West Virginia\":1815857,\"Idaho\":1716943,\"Hawaii\":1427538,\n",
    "          \"New Hampshire\":1342795,\"Maine\":1335907,\"Rhode Island\":1059639,\"Montana\":1050493,\"Delaware\":961939,\n",
    "          \"South Dakota\":869666,\"North Dakota\":755393,\"Alaska\":739795,\"District of Columbia\":693972,\"Vermont\":623657,\n",
    "          \"Wyoming\":579315}\n",
    "# write your code below\n",
    "states_NewList=sorted(states, key=lambda x: states[x])\n",
    "print(\"The three states with the lowest population are {}\".format(states_NewList[0:3]))\n",
    "print(\"The three states with the largest population are {}\".format(states_NewList[-1:-4:-1]))"
   ]
  },
  {
   "cell_type": "markdown",
   "metadata": {},
   "source": [
    "<span style=\"color:blue\">Expected output:</span><br/>\n",
    "<span style=\"font: courier; font-size: 13px\">\n",
    "The three states with the lowest population are ['Wyoming', 'Vermont', 'District of Columbia']<br />\n",
    "The three states with the largest population are ['California', 'Texas', 'Florida']</span>"
   ]
  },
  {
   "cell_type": "markdown",
   "metadata": {},
   "source": [
    "### Problem 6\n",
    "This problem is a variation of a previous problem using the function _computeScrabbleScore_.  You may reuse that function here.\n",
    "\n",
    "Write the function _bestScrabbleWords_ that accepts two parameters:  _words_, which is a list of words, and _howMany_, which is an integer with a default value of three.  The function needs sort the words on their scrabble score and return the top _howMany_ words which have the largest scrabble score.  You need to use a the key parameter to the sorted function with the key parameter specifying a lambda function. "
   ]
  },
  {
   "cell_type": "code",
   "execution_count": 58,
   "metadata": {},
   "outputs": [
    {
     "name": "stdout",
     "output_type": "stream",
     "text": [
      "4\n",
      "['syntax', 'python', 'program', 'unix']\n"
     ]
    }
   ],
   "source": [
    "# write the functions below\n",
    "letter_values = {'a': 1, 'b': 3, 'c': 3, 'd': 2, 'e': 1, 'f':4, 'g': 2, 'h':4, 'i':1,'j':8, 'k':5,\n",
    "                 'l':1, 'm':3, 'n':1, 'o':1, 'p':3, 'q':10, 'r':1, 's':1, 't':1, 'u':1,'v':8, 'w':4,\n",
    "                 'x':8, 'y':4, 'z':10}\n",
    "def computeScrabbleScore(word):\n",
    "    wordValue=0\n",
    "    for char in word:\n",
    "        char=char.lower()\n",
    "        wordValue+=letter_values[char]\n",
    "    return wordValue\n",
    "def bestScrabbleWords(words, howMany=3):\n",
    "    scrabScore={}\n",
    "    for word in words:\n",
    "        scrabScore[word]=computeScrabbleScore(word)\n",
    "    sortedScore=sorted(scrabScore, key=lambda x: scrabScore[x])\n",
    "    return sortedScore[-1:-howMany-1:-1]\n",
    "\n",
    "# Do not change this code\n",
    "scrabbleWords = ['python', 'program', 'list', 'string', 'unix', 'hours', 'syntax', 'error']\n",
    "bestWords = bestScrabbleWords(scrabbleWords, 4)\n",
    "print(bestWords)"
   ]
  },
  {
   "cell_type": "markdown",
   "metadata": {},
   "source": [
    "<span style=\"color:blue\">Expected output:</span><br/>\n",
    "<span style=\"font: courier; font-size: 13px\">\n",
    "['syntax', 'python', 'program', 'unix']</span>"
   ]
  }
 ],
 "metadata": {
  "kernelspec": {
   "display_name": "Python 3 (ipykernel)",
   "language": "python",
   "name": "python3"
  },
  "language_info": {
   "codemirror_mode": {
    "name": "ipython",
    "version": 3
   },
   "file_extension": ".py",
   "mimetype": "text/x-python",
   "name": "python",
   "nbconvert_exporter": "python",
   "pygments_lexer": "ipython3",
   "version": "3.9.6"
  },
  "varInspector": {
   "cols": {
    "lenName": 16,
    "lenType": 16,
    "lenVar": 40
   },
   "kernels_config": {
    "python": {
     "delete_cmd_postfix": "",
     "delete_cmd_prefix": "del ",
     "library": "var_list.py",
     "varRefreshCmd": "print(var_dic_list())"
    },
    "r": {
     "delete_cmd_postfix": ") ",
     "delete_cmd_prefix": "rm(",
     "library": "var_list.r",
     "varRefreshCmd": "cat(var_dic_list()) "
    }
   },
   "types_to_exclude": [
    "module",
    "function",
    "builtin_function_or_method",
    "instance",
    "_Feature"
   ],
   "window_display": false
  }
 },
 "nbformat": 4,
 "nbformat_minor": 2
}
