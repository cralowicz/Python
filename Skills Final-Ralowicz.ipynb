{
 "cells": [
  {
   "cell_type": "code",
   "execution_count": null,
   "id": "c8a61256",
   "metadata": {},
   "outputs": [],
   "source": [
    "#Cosette Ralowicz\n",
    "#CPS 141 Intro to Python\n",
    "#Final Skills Exam\n",
    "#April 2023"
   ]
  },
  {
   "cell_type": "code",
   "execution_count": 32,
   "id": "96428f19",
   "metadata": {},
   "outputs": [],
   "source": [
    "import json\n",
    "popFile=open('population.json','r')\n",
    "popList=json.load(popFile)\n"
   ]
  },
  {
   "cell_type": "code",
   "execution_count": 33,
   "id": "f9fbb24c",
   "metadata": {},
   "outputs": [],
   "source": [
    "usaPop=[]\n",
    "rusPop=[]\n",
    "for entry in popList:\n",
    "\n",
    "    if entry['region'] == \"United States of America\":\n",
    "        year=int(entry['year'])\n",
    "        if year>1979:\n",
    "            usaPop.append(entry)\n",
    "    if entry['region'] == \"Russian Federation\":\n",
    "        year=int(entry['year'])\n",
    "        if year>1979:\n",
    "            rusPop.append(entry)\n"
   ]
  },
  {
   "cell_type": "code",
   "execution_count": 71,
   "id": "301aa177",
   "metadata": {},
   "outputs": [],
   "source": [
    "def show_growth(pop_list):\n",
    "    prevyearPop=0\n",
    "    for entry in pop_list:\n",
    "        currentyearPop=int(entry[\"population\"])\n",
    "        try:\n",
    "            growthRate=((currentyearPop-prevyearPop)/prevyearPop)*100\n",
    "        except:\n",
    "            growthRate=0.0\n",
    "        print(\"{} {} {:.3f}\".format(entry['year'], currentyearPop,growthRate))\n",
    "        prevyearPop=currentyearPop\n",
    "    lastPop=pop_list[-1]\n",
    "    firstPop=pop_list[0]\n",
    "    overallGrowRt=((int(lastPop['population'])-firstPop['population'])/firstPop['population'])*100\n",
    "    print(\"Overall growth: {:.2f}\".format(overallGrowRt))\n",
    "    print()"
   ]
  },
  {
   "cell_type": "code",
   "execution_count": 75,
   "id": "39e92c6b",
   "metadata": {},
   "outputs": [
    {
     "name": "stdout",
     "output_type": "stream",
     "text": [
      "Russian Population Growth\n",
      "1980 138058 0.000\n",
      "1981 139002 0.684\n",
      "1982 139964 0.692\n",
      "1983 140946 0.702\n",
      "1984 141950 0.712\n",
      "1985 142971 0.719\n",
      "1986 144011 0.727\n",
      "1987 145051 0.722\n",
      "1988 146035 0.678\n",
      "1989 146890 0.585\n",
      "1990 147564 0.459\n",
      "1991 148035 0.319\n",
      "1992 148318 0.191\n",
      "1993 148431 0.076\n",
      "1994 148411 -0.013\n",
      "1995 148288 -0.083\n",
      "1996 148073 -0.145\n",
      "1997 147768 -0.206\n",
      "1998 147381 -0.262\n",
      "1999 146919 -0.313\n",
      "2000 146396 -0.356\n",
      "2001 145814 -0.398\n",
      "2002 145194 -0.425\n",
      "2003 144584 -0.420\n",
      "2004 144044 -0.373\n",
      "2005 143618 -0.296\n",
      "2006 143322 -0.206\n",
      "2007 143150 -0.120\n",
      "2008 143083 -0.047\n",
      "2009 143092 0.006\n",
      "2010 143153 0.043\n",
      "2011 143263 0.077\n",
      "2012 143420 0.110\n",
      "2013 143597 0.123\n",
      "2014 143761 0.114\n",
      "2015 143888 0.088\n",
      "Overall growth: 4.22\n",
      "\n",
      "USA Population Growth\n",
      "1980 229763 0.000\n",
      "1981 231938 0.947\n",
      "1982 234132 0.946\n",
      "1983 236344 0.945\n",
      "1984 238573 0.943\n",
      "1985 240824 0.944\n",
      "1986 243098 0.944\n",
      "1987 245402 0.948\n",
      "1988 247739 0.952\n",
      "1989 250113 0.958\n",
      "1990 252529 0.966\n",
      "1991 254974 0.968\n",
      "1992 257454 0.973\n",
      "1993 260020 0.997\n",
      "1994 262741 1.046\n",
      "1995 265658 1.110\n",
      "1996 268803 1.184\n",
      "1997 272136 1.240\n",
      "1998 275542 1.252\n",
      "1999 278862 1.205\n",
      "2000 281982 1.119\n",
      "2001 284852 1.018\n",
      "2002 287506 0.932\n",
      "2003 290027 0.877\n",
      "2004 292539 0.866\n",
      "2005 295129 0.885\n",
      "2006 297827 0.914\n",
      "2007 300595 0.929\n",
      "2008 303374 0.924\n",
      "2009 306076 0.891\n",
      "2010 308641 0.838\n",
      "2011 311051 0.781\n",
      "2012 313335 0.734\n",
      "2013 315536 0.702\n",
      "2014 317718 0.692\n",
      "2015 319929 0.696\n",
      "Overall growth: 39.24\n",
      "\n"
     ]
    }
   ],
   "source": [
    "print(\"Russian Population Growth\")\n",
    "show_growth(rusPop)\n",
    "print(\"USA Population Growth\")\n",
    "show_growth(usaPop)"
   ]
  },
  {
   "cell_type": "code",
   "execution_count": null,
   "id": "f12438dc",
   "metadata": {},
   "outputs": [],
   "source": []
  }
 ],
 "metadata": {
  "kernelspec": {
   "display_name": "Python 3 (ipykernel)",
   "language": "python",
   "name": "python3"
  },
  "language_info": {
   "codemirror_mode": {
    "name": "ipython",
    "version": 3
   },
   "file_extension": ".py",
   "mimetype": "text/x-python",
   "name": "python",
   "nbconvert_exporter": "python",
   "pygments_lexer": "ipython3",
   "version": "3.9.6"
  }
 },
 "nbformat": 4,
 "nbformat_minor": 5
}
