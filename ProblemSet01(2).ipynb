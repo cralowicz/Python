{
 "cells": [
  {
   "cell_type": "markdown",
   "metadata": {},
   "source": [
    "## <span style=\"color:blue\">Problem Set 1<span>"
   ]
  },
  {
   "cell_type": "raw",
   "metadata": {},
   "source": [
    "<enter you name here>"
   ]
  },
  {
   "cell_type": "markdown",
   "metadata": {},
   "source": [
    "### <span style=\"color:red\">Run the cell below first</span>\n",
    "Before starting the assignment, run the cell below.  This cell has python functions that are used in the problems. \n",
    "\n",
    "<span style=\"color:red\">DO NOT HARD CODE anything unless otherwise directed.</span>"
   ]
  },
  {
   "cell_type": "code",
   "execution_count": null,
   "metadata": {},
   "outputs": [],
   "source": [
    "def sqr(num):\n",
    "    import math\n",
    "    n = math.sqrt(num)\n",
    "    return n\n",
    "\n",
    "def greeting(st):\n",
    "    st = str(st) # just in case\n",
    "    return \"Hello, \" + st\n",
    "\n",
    "def randomDigit():\n",
    "    import random\n",
    "    return random.choice([0,1,2,3,4,5,6,7,8,9])\n",
    "\n",
    "def addLengths(str1, str2):\n",
    "    return len(str1) + len(str2)"
   ]
  },
  {
   "cell_type": "markdown",
   "metadata": {},
   "source": [
    "### Problem 1\n",
    "\n",
    "In the cell below write code that does the following:\n",
    "\n",
    "Problem A:\n",
    "1. Print \"Output for problem A:\" \n",
    "2. Assign the value 3.145 to the variable _p_.\n",
    "3. Print the data type of _p_ preceded by the message \"The type of p is\".\n",
    "4. Write an assignment statement that multiplies _p_ by 2 and assigns the result back to _p_.\n",
    "5. Print the value of _p_.\n",
    "\n",
    "Problem B:\n",
    "1. Print \"Output for problem B:\" \n",
    "2. Write code to assign the number of characters in the string _rv_ to the variable _numChars_.\n",
    "3. Print _numChars_ preceded by the message \"The number of chars is\"."
   ]
  },
  {
   "cell_type": "code",
   "execution_count": null,
   "metadata": {},
   "outputs": [],
   "source": [
    "rv = \"\"\"Once upon a midnight dreary, while I pondered, weak and weary,\n",
    "    Over many a quaint and curious volume of forgotten lore,\n",
    "    While I nodded, nearly napping, suddenly there came a tapping,\n",
    "    As of some one gently rapping, rapping at my chamber door.\n",
    "    'Tis some visitor, I muttered, tapping at my chamber door;\n",
    "    Only this and nothing more.\"\"\"\n",
    "\n",
    "print(\"Output for problem 1A:\")\n",
    "# write your code for problem A below\n",
    "\n",
    "\n",
    "print(\"Output for problem 1B:\")\n",
    "# write your code for problem B below\n"
   ]
  },
  {
   "cell_type": "markdown",
   "metadata": {},
   "source": [
    "<span style=\"color:blue\">Expected output:</span><br/>\n",
    "<span style=\"font: courier; font-size: 13px\">\n",
    "Output for problem 1A:<br/>\n",
    "The type of p is <class 'float'><br/>\n",
    "6.29<br/>\n",
    "Output for problem 1B:<br/>\n",
    "The number of chars is 348</span>"
   ]
  },
  {
   "cell_type": "markdown",
   "metadata": {},
   "source": [
    "### Problem 2\n",
    "\n",
    "The Pythagorean Theorem provides us with the relationship between the sides in a right triangle.  The formula is c<sup>2</sup> = a<sup>2</sup> + b<sup>2</sup> where a and b are the lengths of the sides and c is the length of the hypotenuse.  To calculate the value of c you need to take the square root of a<sup>2</sup> + b<sup>2</sup>.  \n",
    "\n",
    "In the cell below, write code that does the following:\n",
    "1. Write an assignment statement that assigns the square of the variable _a_ plus the square of variable _b_  to the variable _temp_. Note, the square of a number is that number multiplied by itself, e.g., _a_ * _a_.\n",
    "2. Write an assignment statement that passes _temp_ to the function sqr and assigns the return value to _cee_. \n",
    "2. Print cee. "
   ]
  },
  {
   "cell_type": "code",
   "execution_count": null,
   "metadata": {},
   "outputs": [],
   "source": [
    "a = 5\n",
    "b = 6\n",
    "# write your code below\n"
   ]
  },
  {
   "cell_type": "markdown",
   "metadata": {},
   "source": [
    "<span style=\"color:blue\">Expected output:</span><br/>\n",
    "<span style=\"font: courier; font-size: 13px\">\n",
    "The length of c is 7.810249675906654</span>"
   ]
  },
  {
   "cell_type": "markdown",
   "metadata": {},
   "source": [
    "### Problem 3\n",
    "\n",
    "Write code where indicated in the cell below that calculates the total of the numbers in the list _l_. Immediately below the comment add an assignment statement that adds  _n_ to _tot_ and stores the result back into _tot_. "
   ]
  },
  {
   "cell_type": "code",
   "execution_count": null,
   "metadata": {},
   "outputs": [],
   "source": [
    "l = [3,5,7]\n",
    "tot = 0\n",
    "for n in l:\n",
    "    # write the assignment statement below\n",
    "\n",
    "    \n",
    "print(\"The total is\",tot)"
   ]
  },
  {
   "cell_type": "markdown",
   "metadata": {},
   "source": [
    "<span style=\"color:blue\">Expected output:</span><br/>\n",
    "<span style=\"font: courier; font-size: 13px\">\n",
    "The total is 15</span>"
   ]
  },
  {
   "cell_type": "markdown",
   "metadata": {},
   "source": [
    "### Problem 4\n",
    "\n",
    "The objective of the code below is:\n",
    "1. Calculate the circumference of a circle and store the result in the variable _circum_.\n",
    "2. Print the contents of the variable _circum_.\n",
    "\n",
    "Run the cell below.  There two errors in the code: a run time error and a logic error. Alter the code below to correct the errors and print the correct value.  "
   ]
  },
  {
   "cell_type": "code",
   "execution_count": null,
   "metadata": {},
   "outputs": [],
   "source": [
    "pi = 0\n",
    "radius = 5\n",
    "pi == 3.145\n",
    "circum = 2 * PI * radius\n",
    "print(\"The circumference of a circule with radius 5 is\",circum)"
   ]
  },
  {
   "cell_type": "markdown",
   "metadata": {},
   "source": [
    "<span style=\"color:blue\">Expected output:</span><br/>\n",
    "<span style=\"font: courier; font-size: 13px\">\n",
    "The circumference of a circule with radius 5 is 31.45</span>"
   ]
  },
  {
   "cell_type": "markdown",
   "metadata": {},
   "source": [
    "### Problem 5\n",
    "\n",
    "The first line of code below prompts the user to enter an integer. Write additional code below as follows:\n",
    "1. Print the type of the variable _userInput_.  Notice the type.\n",
    "2. Assign the variable _result1_ two times the contents of _userInput_.\n",
    "3. Print _result1_."
   ]
  },
  {
   "cell_type": "code",
   "execution_count": null,
   "metadata": {},
   "outputs": [],
   "source": [
    "userInput = input('Enter an integer: ')\n",
    "# write your code below\n"
   ]
  },
  {
   "cell_type": "markdown",
   "metadata": {},
   "source": [
    "<span style=\"color:blue\">Expected output if the user entered the value below:</span><br/>\n",
    "<span style=\"font: courier; font-size: 13px\">\n",
    "Enter an integer: 5<br />\n",
    "< class 'str' > <br />\n",
    "10</span>"
   ]
  },
  {
   "cell_type": "markdown",
   "metadata": {},
   "source": [
    "### Problem 6\n",
    "\n",
    "The following code asks the user to enter two numbers. Write additional code in the cell below that does the following:\n",
    "1. Divides the first number by the second number and stores the result in the variable _result2_.\n",
    "2. Print the variable _result2_."
   ]
  },
  {
   "cell_type": "code",
   "execution_count": null,
   "metadata": {},
   "outputs": [],
   "source": [
    "firstNum = input('Enter the first number: ')\n",
    "secondNum = input('Enter the second number: ')\n",
    "# write your code below\n"
   ]
  },
  {
   "cell_type": "markdown",
   "metadata": {},
   "source": [
    "<span style=\"color:blue\">Expected output if the user entered the values below:</span><br/>\n",
    "<span style=\"font: courier; font-size: 13px\">\n",
    "Enter the first number: 20<br />\n",
    "Enter the second number: 10<br />\n",
    "2.0</span>"
   ]
  },
  {
   "cell_type": "markdown",
   "metadata": {},
   "source": [
    "### Problem 7\n",
    "\n",
    "There a function in the first cell called **greeting**, which takes any string and prepends \"Hello, \".  Another function is called *randomDigit*, which returns a random integer between 0 and 9 (inclusive). \n",
    "\n",
    "Code is already include in the cell below that demonstrates the use of these functions.\n",
    "\n",
    "Write code below that does the following:\n",
    "1.  Call the function **greeting** with a string of your choice and stores the returned result in the variable _greet_. \n",
    "2.  Print the type of the variable _greet_.\n",
    "3.  Print _greet_.\n",
    "4.  Call the function **randomDigit** without any parameters (you still need the parantheses) and store the returned value in  the variable _newDigit_. "
   ]
  },
  {
   "cell_type": "code",
   "execution_count": null,
   "metadata": {},
   "outputs": [],
   "source": [
    "print(greeting(\"Jackie\"))\n",
    "print(greeting(\"everybody\"))\n",
    "print(greeting(\"sdgadgsal\"))\n",
    "\n",
    "# Try running all this code more than once, so you can see how calling the function\n",
    "# random_digit works.\n",
    "print(randomDigit())\n",
    "print(randomDigit())\n",
    "\n",
    "# Write your code below that assigns the variables as mentioned in the instructions.\n"
   ]
  },
  {
   "cell_type": "markdown",
   "metadata": {},
   "source": [
    "<span style=\"color:blue\">Expected output is similar to but not identical to that below:</span><br/>\n",
    "<span style=\"font: courier; font-size: 13px\">\n",
    "Hello, Jackie<br />\n",
    "Hello, everybody<br />\n",
    "Hello, sdgadgsal<br />\n",
    "0<br />\n",
    "7<br />\n",
    "< class 'str' > <br />\n",
    "Hello, Mike\n",
    "5</span>"
   ]
  },
  {
   "cell_type": "markdown",
   "metadata": {},
   "source": [
    "### Problem 8\n",
    "\n",
    "The code below includes a user written function called **cube** that accepts an integer parameter _num_.   The function should cube the variable _num_, i.e., multiply _num_ by itself three times, and store the result in the variable _result_.  Do not change the existing code of the cell but add your code where indicated to achieve this goal.  "
   ]
  },
  {
   "cell_type": "code",
   "execution_count": null,
   "metadata": {},
   "outputs": [],
   "source": [
    "def cube(num):\n",
    "    #  add your code here\n",
    "\n",
    "    return result\n",
    "\n",
    "r = cube(2)\n",
    "print(r)\n",
    "r = cube(3)\n",
    "print(r)"
   ]
  },
  {
   "cell_type": "markdown",
   "metadata": {},
   "source": [
    "<span style=\"color:blue\">Expected output:</span><br/>\n",
    "<span style=\"font: courier; font-size: 13px\">\n",
    "8<br />\n",
    "27</span>"
   ]
  },
  {
   "cell_type": "markdown",
   "metadata": {},
   "source": [
    "### Problem 9\n",
    "\n",
    "Alter the arithmetic expression in the assignment statement below so that the subexpressions 6 - 2 and 4 - 2 are evaluated first.  "
   ]
  },
  {
   "cell_type": "code",
   "execution_count": null,
   "metadata": {},
   "outputs": [],
   "source": [
    "num1 = 4 * 6 - 2 * 4 - 2\n",
    "print(num1)"
   ]
  },
  {
   "cell_type": "markdown",
   "metadata": {},
   "source": [
    "<span style=\"color:blue\">Expected output:</span><br/>\n",
    "<p style=\"font: courier; font-size: 13px\">\n",
    "32</p>"
   ]
  },
  {
   "cell_type": "markdown",
   "metadata": {},
   "source": [
    "### Problem 10\n",
    "\n",
    "The cell below contains syntax and semantic errors.  Run the cell and observe the errors.  Correct any errors that are present such that the code in the cell runs error free.  DO NOT REMOVE any code."
   ]
  },
  {
   "cell_type": "code",
   "execution_count": null,
   "metadata": {},
   "outputs": [],
   "source": [
    "2nd = 0\n",
    "\n",
    "1 + 2 = var\n",
    "\n",
    "x = \"1.2\"\n",
    "y = 2 * float(x)\n",
    "\n",
    " z = 5"
   ]
  },
  {
   "cell_type": "markdown",
   "metadata": {},
   "source": [
    "### <span style=\"color:dark green\">Run the cells below to test your code</span>"
   ]
  },
  {
   "cell_type": "code",
   "execution_count": null,
   "metadata": {},
   "outputs": [],
   "source": [
    "import unittest\n",
    "\n",
    "class PS01_01 (unittest.TestCase):\n",
    "    def test_problem01(self):\n",
    "        self.assertEqual(p, 6.29)\n",
    "        self.assertEqual(numChars,348)\n",
    "        \n",
    "class PS01_02 (unittest.TestCase):\n",
    "    def test_problem02(self):\n",
    "        self.assertEqual(cee,7.810249675906654)        \n",
    "\n",
    "class PS01_03 (unittest.TestCase):\n",
    "    def test_problem03(self):\n",
    "        self.assertEqual(tot,15)\n",
    "\n",
    "class PS01_04 (unittest.TestCase):\n",
    "    def test_problem04(self):\n",
    "        self.assertEqual(circum,31.45)\n",
    "\n",
    "class PS01_05 (unittest.TestCase):\n",
    "    def test_problem05(self):\n",
    "        self.assertEqual(result1,2 * int(userInput))\n",
    "\n",
    "class PS01_06 (unittest.TestCase):\n",
    "    def test_problem06(self):\n",
    "        self.assertEqual(result2,int(firstNum)/int(secondNum))\n",
    "\n",
    "class PS01_07 (unittest.TestCase):\n",
    "    def test_problem08(self):\n",
    "        self.assertIsInstance(greet,str)\n",
    "        self.assertTrue(0 <= newDigit <= 9)\n",
    "        \n",
    "class PS01_08 (unittest.TestCase):\n",
    "    def test_problem08(self):\n",
    "        self.assertEqual(8,cube(2))\n",
    "\n",
    "class PS01_09 (unittest.TestCase):\n",
    "    def test_problem09(self):\n",
    "        self.assertEqual(num1,32)"
   ]
  },
  {
   "cell_type": "code",
   "execution_count": null,
   "metadata": {},
   "outputs": [],
   "source": [
    "unittest.main(argv=['first-arg-is-ignored'], exit=False, verbosity=2)"
   ]
  },
  {
   "cell_type": "code",
   "execution_count": null,
   "metadata": {},
   "outputs": [],
   "source": []
  }
 ],
 "metadata": {
  "kernelspec": {
   "display_name": "Python 3 (ipykernel)",
   "language": "python",
   "name": "python3"
  },
  "language_info": {
   "codemirror_mode": {
    "name": "ipython",
    "version": 3
   },
   "file_extension": ".py",
   "mimetype": "text/x-python",
   "name": "python",
   "nbconvert_exporter": "python",
   "pygments_lexer": "ipython3",
   "version": "3.10.2"
  },
  "varInspector": {
   "cols": {
    "lenName": 16,
    "lenType": 16,
    "lenVar": 40
   },
   "kernels_config": {
    "python": {
     "delete_cmd_postfix": "",
     "delete_cmd_prefix": "del ",
     "library": "var_list.py",
     "varRefreshCmd": "print(var_dic_list())"
    },
    "r": {
     "delete_cmd_postfix": ") ",
     "delete_cmd_prefix": "rm(",
     "library": "var_list.r",
     "varRefreshCmd": "cat(var_dic_list()) "
    }
   },
   "types_to_exclude": [
    "module",
    "function",
    "builtin_function_or_method",
    "instance",
    "_Feature"
   ],
   "window_display": false
  }
 },
 "nbformat": 4,
 "nbformat_minor": 2
}
