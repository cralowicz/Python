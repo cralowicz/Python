{
 "cells": [
  {
   "cell_type": "markdown",
   "metadata": {},
   "source": [
    "## <span style=\"color:blue\">Problem Set 12</span>"
   ]
  },
  {
   "cell_type": "raw",
   "metadata": {},
   "source": [
    "#Cosette Ralowicz 4/24"
   ]
  },
  {
   "cell_type": "markdown",
   "metadata": {},
   "source": [
    "#### Note:  These problems require recursive solutions.  No points will be give for solutions that are not recursive."
   ]
  },
  {
   "cell_type": "markdown",
   "metadata": {},
   "source": [
    "### Problem 1\n",
    "Write a recursive function called _power_ that does exponentiation. The function accepts two arguments: num and exp.  The function takes num and raises to the power exp.  The solution does not require any python functions, and obviously should not use the python exponentiation operator."
   ]
  },
  {
   "cell_type": "code",
   "execution_count": 176,
   "metadata": {},
   "outputs": [
    {
     "name": "stdout",
     "output_type": "stream",
     "text": [
      "2 to the 8th power is 256\n",
      "2 to the 15th power is 32768\n"
     ]
    }
   ],
   "source": [
    " # write your function below\n",
    "def power(num, exp):\n",
    "    if exp==0:\n",
    "        return 1\n",
    "    if exp>1:\n",
    "        return num*power(num,exp-1)\n",
    "    \n",
    "    else:\n",
    "        return num\n",
    "        \n",
    "   \n",
    "# do not change the code below but you may add additional calls to the function\n",
    "print(\"2 to the 8th power is\",power(2,8))\n",
    "print(\"2 to the 15th power is\",power(2,15))"
   ]
  },
  {
   "cell_type": "markdown",
   "metadata": {},
   "source": [
    "<span style=\"color:blue\">Expected output:</span><br/>\n",
    "<span style=\"font: courier; font-size: 13px\">\n",
    "2 to the 8th power is 256<br />\n",
    "2 to the 15th power is 32768</span>   "
   ]
  },
  {
   "cell_type": "markdown",
   "metadata": {},
   "source": [
    "### Problem 2\n",
    "Write a recursive function called _reverseString_ that reverses a string passed as an argument. Do not use any python function to reverse the string.  The string must be reversed by your code.  The only python function required is len().  "
   ]
  },
  {
   "cell_type": "code",
   "execution_count": 175,
   "metadata": {},
   "outputs": [
    {
     "name": "stdout",
     "output_type": "stream",
     "text": [
      "The original string: the quick brown fox jumps over the lazy dog\n",
      "The reversed string: god yzal eht revo spmuj xof nworb kciuq eht\n",
      "\n",
      "The original string: able was I ere I saw elba\n",
      "The reversed string: able was I ere I saw elba\n"
     ]
    }
   ],
   "source": [
    " # write your function below\n",
    "def reverse_string(string): \n",
    "    if len(string) == 0:\n",
    "        return string\n",
    "    else:\n",
    "        return reverse_string(string[1:]) + string[0]\n",
    "              \n",
    "    \n",
    "# do not change the code below but you may add additional calls to the function\n",
    "string_to_reverse = \"the quick brown fox jumps over the lazy dog\"\n",
    "print(\"The original string:\",string_to_reverse)\n",
    "print(\"The reversed string:\",reverse_string(string_to_reverse))\n",
    "print()\n",
    "string_to_reverse = \"able was I ere I saw elba\"\n",
    "print(\"The original string:\",string_to_reverse)\n",
    "print(\"The reversed string:\",reverse_string(string_to_reverse))"
   ]
  },
  {
   "cell_type": "markdown",
   "metadata": {},
   "source": [
    "<span style=\"color:blue\">Expected output:</span><br/>\n",
    "<span style=\"font: courier; font-size: 13px\">\n",
    "The original string: the quick brown fox jumps over the lazy dog<br />\n",
    "The reversed string: god yzal eht revo spmuj xof nworb kciuq eht<br />\n",
    "<br />\n",
    "The original string: able was I ere I saw elba<br />\n",
    "The reversed string: able was I ere I saw elba</span>   "
   ]
  },
  {
   "cell_type": "markdown",
   "metadata": {},
   "source": [
    "### Problem 3\n",
    "Write a recursive function called _reverseList_ that reverses a list passed as an argument. Do not use any python function to reverse the list.  The list must be reversed by your code.  The only python function required is len().  Hint:  The expression list1 + list2 is a new list consisting of list 2 appended to list 1."
   ]
  },
  {
   "cell_type": "code",
   "execution_count": 91,
   "metadata": {},
   "outputs": [
    {
     "name": "stdout",
     "output_type": "stream",
     "text": [
      "The original list: [1, 2, 3, 4, 5, 6, 7, 8, 9, 0]\n",
      "The reversed list: [0, 9, 8, 7, 6, 5, 4, 3, 2, 1]\n"
     ]
    }
   ],
   "source": [
    " # write your function below\n",
    "def reverse_list(lst):\n",
    "    if len(lst)==0:\n",
    "        return lst\n",
    "    else:\n",
    "        lst2=[lst[0]]\n",
    "        lst=lst[1:]\n",
    "        return reverse_list(lst)+lst2\n",
    "\n",
    "# do not change the code below but you may add additional calls to the function\n",
    "list_to_reverse = [1,2,3,4,5,6,7,8,9,0]\n",
    "print(\"The original list:\",list_to_reverse)\n",
    "print(\"The reversed list:\",reverse_list(list_to_reverse))"
   ]
  },
  {
   "cell_type": "markdown",
   "metadata": {},
   "source": [
    "### Problem 4\n",
    "Write a recursive function called _totalDigits_ that give a number _n_ returns the sum of the digits of _n_. Hint: you need to convert the number to a string in the function."
   ]
  },
  {
   "cell_type": "code",
   "execution_count": 173,
   "metadata": {},
   "outputs": [
    {
     "name": "stdout",
     "output_type": "stream",
     "text": [
      "The total of the digits in 111 is 3\n",
      "The total of the digits in 222 is 6\n",
      "The total of the digits in 333 is 9\n",
      "The total of the digits in 1076458 is 31\n"
     ]
    }
   ],
   "source": [
    " # write your function below\n",
    "def totalDigits(n):\n",
    "    num=str(n)\n",
    "    if len(num)==1:\n",
    "        return int(num)\n",
    "    else:\n",
    "        smallerNum=int(num[0])\n",
    "        num=num[1:]\n",
    "        return smallerNum+totalDigits(num)\n",
    "    \n",
    "    \n",
    "# do not change the code below but you may add additional calls to the function\n",
    "for m in [111,222,333,1076458]:\n",
    "    print(\"The total of the digits in\",m,\"is\",totalDigits(m))"
   ]
  },
  {
   "cell_type": "markdown",
   "metadata": {},
   "source": [
    "<span style=\"color:blue\">Expected output:</span><br/>\n",
    "<span style=\"font: courier; font-size: 13px\">\n",
    "TThe total of the digits in 111 is 3<br/>\n",
    "The total of the digits in 222 is 6<br/>\n",
    "The total of the digits in 333 is 9<br/>\n",
    "The total of the digits in 1076458 is 31</span>  "
   ]
  },
  {
   "cell_type": "markdown",
   "metadata": {},
   "source": [
    "### Problem 5\n",
    "\n",
    "Write a recursive function called **convertToDecimal** that accepts a binary number (string type) and converts it to decimal. Assume a valid binary number is passed so there is not need for error checking.  Also since the binary number passed is a string, you will need to coerce each digit into an integer using the int() function.  This function must work for any binary number of any length, so do not hard code position values.  Position values must be calculated by the function.\n",
    "\n",
    "The value of the positions for binary numbers are:\n",
    "\n",
    "    2**n  2**(n-1) ... 2**3  2**2  2**1  2**0   where 2**0 is 1\n",
    "\n",
    "Determining the decimal value of a binary number:\n",
    "  1. For each digit, multiply the digit by the value of the position\n",
    "  2. Repeat step one for all digits in the binary number\n",
    "  3. Add all the results together\n",
    "  \n"
   ]
  },
  {
   "cell_type": "code",
   "execution_count": 164,
   "metadata": {
    "scrolled": true
   },
   "outputs": [
    {
     "name": "stdout",
     "output_type": "stream",
     "text": [
      "The binary number 11111111 is 255 in decimal\n",
      "The binary number 10101010 is 170 in decimal\n"
     ]
    }
   ],
   "source": [
    " # write your function below\n",
    "def convertToDecimal(binary):\n",
    "    binary=str(binary)\n",
    "    if len(binary)==1:\n",
    "        if binary[0]==\"0\":\n",
    "            return 0\n",
    "        else:\n",
    "            return 1\n",
    "    else:\n",
    "        position=len(binary)-1\n",
    "        indexZero=int(binary[0])\n",
    "        binary=binary[1:]\n",
    "        math=0\n",
    "        if indexZero==1:\n",
    "            math=2**position\n",
    "            return math+int(convertToDecimal(binary))\n",
    "        else:\n",
    "            return convertToDecimal(binary)\n",
    "        \n",
    "bin = '11111111'\n",
    "print(\"The binary number\",bin,\"is\",convertToDecimal(bin),\"in decimal\")\n",
    "bin = '10101010'\n",
    "print(\"The binary number\",bin,\"is\",convertToDecimal(bin),\"in decimal\")"
   ]
  },
  {
   "cell_type": "raw",
   "metadata": {},
   "source": [
    "<span style=\"color:blue\">Expected output:</span><br/>\n",
    "<span style=\"font: courier; font-size: 13px\">\n",
    "The binary number 11111111 is 255 in decimal<br />\n",
    "The binary number 10101010 is 170 in decimal</span>  "
   ]
  },
  {
   "cell_type": "code",
   "execution_count": null,
   "metadata": {},
   "outputs": [],
   "source": []
  },
  {
   "cell_type": "code",
   "execution_count": null,
   "metadata": {},
   "outputs": [],
   "source": []
  }
 ],
 "metadata": {
  "kernelspec": {
   "display_name": "Python 3 (ipykernel)",
   "language": "python",
   "name": "python3"
  },
  "language_info": {
   "codemirror_mode": {
    "name": "ipython",
    "version": 3
   },
   "file_extension": ".py",
   "mimetype": "text/x-python",
   "name": "python",
   "nbconvert_exporter": "python",
   "pygments_lexer": "ipython3",
   "version": "3.9.6"
  }
 },
 "nbformat": 4,
 "nbformat_minor": 2
}
