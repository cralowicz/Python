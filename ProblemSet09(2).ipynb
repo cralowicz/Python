{
 "cells": [
  {
   "cell_type": "markdown",
   "metadata": {},
   "source": [
    "## <span style=\"color:blue\">Problem Set 9</span>"
   ]
  },
  {
   "cell_type": "raw",
   "metadata": {},
   "source": [
    "#Cosette Ralowicz 04-04"
   ]
  },
  {
   "cell_type": "markdown",
   "metadata": {},
   "source": [
    "<Enter your name here>"
   ]
  },
  {
   "cell_type": "markdown",
   "metadata": {},
   "source": [
    "### <span style=\"color:red\">Run the cell below first</span>\n",
    "Before starting the assignment, run the cell below. "
   ]
  },
  {
   "cell_type": "code",
   "execution_count": 4,
   "metadata": {},
   "outputs": [],
   "source": [
    "import requests\n",
    "import json"
   ]
  },
  {
   "cell_type": "markdown",
   "metadata": {},
   "source": [
    "### Overview\n",
    "In this problem set, you will make use of the OMDB API, which provides information about movies. The instructions will walk you through creating an interactive service that runs inside the Python notebook. It will do the following:\n",
    "- keeps track of movies the user says they have seen, in a file and in a python list\n",
    "- asks the user to enter one or more movie titles they are considering watching\n",
    "- for each movie title the user enters:\n",
    "  - present some information about the movie, gathered from OMDB\n",
    "  - if they user says they plan to watch it; add it to the list of already-watched movies.\n",
    "  \n",
    "#### Get an OMDB API key\n",
    "- Get an OMDB API Key from: http://www.omdbapi.com/apikey.aspx \n",
    "- Be sure to respond to the email they send you, in order to activate the key\n",
    "- Fill in the OMDB_API_KEY field below:\n",
    "- After filling in the key below, run the cell."
   ]
  },
  {
   "cell_type": "code",
   "execution_count": 5,
   "metadata": {},
   "outputs": [],
   "source": [
    "OMDB_API_KEY = 'd00b3286'"
   ]
  },
  {
   "cell_type": "markdown",
   "metadata": {},
   "source": [
    "Below is an example of the json returned by the API.  You will use the highlighted keys and associated values in your code below.\n",
    "\n",
    "{__'Title'__: 'Black Panther',<br />\n",
    "__'Year'__: '2018',<br />\n",
    " 'Rated': 'PG-13',<br />\n",
    " 'Released': '16 Feb 2018',<br />\n",
    " 'Runtime': '134 min',<br />\n",
    " 'Genre': 'Action, Adventure, Sci-Fi',<br />\n",
    " 'Director': 'Ryan Coogler',<br />\n",
    " 'Writer': 'Ryan Coogler, Joe Robert Cole, Stan Lee',<br />\n",
    " 'Actors': \"Chadwick Boseman, Michael B. Jordan, Lupita Nyong'o\",<br />\n",
    " __'Plot'__: \"T'Challa, heir to the hidden but advanced kingdom of Wakanda, must step forward to lead his people into a new future and must confront a challenger from his country's past.\",<br />\n",
    "...<br />\n",
    " 'BoxOffice': '$700,426,566',<br />\n",
    " 'Production': 'N/A',<br />\n",
    " 'Website': 'N/A',<br />"
   ]
  },
  {
   "cell_type": "markdown",
   "metadata": {},
   "source": [
    "### Problem 1\n",
    "Define a function *getOMDBData* that calls the OMDB API (described here: http://www.omdbapi.com) to get the data about a movie.\n",
    "\n",
    "Note: You should use the \"By ID or Title\" features of the OMDB API.  Note, the API parameters are:\n",
    "- The title parameter is named _t_\n",
    "- The API key parameter is name _apikey_\n",
    "\n",
    "Use the URL _http://www.omdbapi.com/_.  \n",
    "\n",
    "The function *getOMDBData* accepts the parameter _title_ and does the following\n",
    "1. Try: to retrieve the movie data using the _requests.get_ method using the parameters _t_ and _apikey_.  The call to _requests.get_ should include the _URL_ and the _params_ parameters.  \n",
    "2.     If data is retrieved, store the json returned into a _variable_. \n",
    "3.     If the _Response_ key of the _variable_ has a string value equal to 'False', return a _boolean_ False.  \n",
    "4.     Otherwise return the _variable_.\n",
    "5. If the Try fails, return a _boolean_ False."
   ]
  },
  {
   "cell_type": "code",
   "execution_count": 6,
   "metadata": {},
   "outputs": [],
   "source": [
    "def getOMDBData(title):\n",
    "    try:\n",
    "        params={'t':title, 'apikey':OMDB_API_KEY}\n",
    "        res=requests.get(\"http://www.omdbapi.com/\", params)\n",
    "        #print(\"request success\")\n",
    "        omdb_json=json.loads(res.text)\n",
    "        if res==False:\n",
    "            return False\n",
    "        else:\n",
    "            return(omdb_json)\n",
    "    except:\n",
    "        return False\n",
    "    \n",
    "        "
   ]
  },
  {
   "cell_type": "code",
   "execution_count": 7,
   "metadata": {},
   "outputs": [
    {
     "data": {
      "text/plain": [
       "{'Title': 'Black Panther',\n",
       " 'Year': '2018',\n",
       " 'Rated': 'PG-13',\n",
       " 'Released': '16 Feb 2018',\n",
       " 'Runtime': '134 min',\n",
       " 'Genre': 'Action, Adventure, Sci-Fi',\n",
       " 'Director': 'Ryan Coogler',\n",
       " 'Writer': 'Ryan Coogler, Joe Robert Cole, Stan Lee',\n",
       " 'Actors': \"Chadwick Boseman, Michael B. Jordan, Lupita Nyong'o\",\n",
       " 'Plot': \"T'Challa, heir to the hidden but advanced kingdom of Wakanda, must step forward to lead his people into a new future and must confront a challenger from his country's past.\",\n",
       " 'Language': 'English, Swahili, Nama, Xhosa, Korean',\n",
       " 'Country': 'United States',\n",
       " 'Awards': 'Won 3 Oscars. 117 wins & 282 nominations total',\n",
       " 'Poster': 'https://m.media-amazon.com/images/M/MV5BMTg1MTY2MjYzNV5BMl5BanBnXkFtZTgwMTc4NTMwNDI@._V1_SX300.jpg',\n",
       " 'Ratings': [{'Source': 'Internet Movie Database', 'Value': '7.3/10'},\n",
       "  {'Source': 'Rotten Tomatoes', 'Value': '96%'},\n",
       "  {'Source': 'Metacritic', 'Value': '88/100'}],\n",
       " 'Metascore': '88',\n",
       " 'imdbRating': '7.3',\n",
       " 'imdbVotes': '795,068',\n",
       " 'imdbID': 'tt1825683',\n",
       " 'Type': 'movie',\n",
       " 'DVD': '02 May 2018',\n",
       " 'BoxOffice': '$700,426,566',\n",
       " 'Production': 'N/A',\n",
       " 'Website': 'N/A',\n",
       " 'Response': 'True'}"
      ]
     },
     "execution_count": 7,
     "metadata": {},
     "output_type": "execute_result"
    }
   ],
   "source": [
    "# run this cell to test your function with a valid movie title\n",
    "getOMDBData('Black Panther')"
   ]
  },
  {
   "cell_type": "markdown",
   "metadata": {},
   "source": [
    "<span style=\"color:blue\">Expected output:</span><br/>\n",
    "<span style=\"font: courier; font-size: 13px\">\n",
    "{'Actors': \"Chadwick Boseman, Michael B. Jordan, Lupita Nyong'o, Danai Gurira\",<br />\n",
    " 'Awards': '14 nominations.',<br />\n",
    " 'BoxOffice': '$501,105,037',<br />\n",
    " 'Country': 'USA, South Africa, South Korea, Australia',<br />\n",
    " 'DVD': '15 May 2018',<br />\n",
    " 'Director': 'Ryan Coogler',<br />\n",
    " 'Genre': 'Action, Adventure, Sci-Fi',<br />\n",
    " 'Language': 'Swahili, Nama, English, Xhosa, Korean',<br />\n",
    " _remaining output omitted_</span>"
   ]
  },
  {
   "cell_type": "code",
   "execution_count": 8,
   "metadata": {},
   "outputs": [
    {
     "data": {
      "text/plain": [
       "{'Response': 'False', 'Error': 'Movie not found!'}"
      ]
     },
     "execution_count": 8,
     "metadata": {},
     "output_type": "execute_result"
    }
   ],
   "source": [
    "# run this cell to test your function with a invalid movie title\n",
    "getOMDBData(\"asdfasdfasdfasdfasdf\")"
   ]
  },
  {
   "cell_type": "markdown",
   "metadata": {},
   "source": [
    "<span style=\"color:blue\">Expected output:</span><br/>\n",
    "<span style=\"font: courier; font-size: 13px\">\n",
    "False</span>"
   ]
  },
  {
   "cell_type": "markdown",
   "metadata": {},
   "source": [
    "### Problem 2: \n",
    "Define the function *getMoviesData* that: \n",
    "- accepts a *list* of titles (strings) as input parameter\n",
    "- returns a *list* of dictionaries fetched from the OMDB API, by calling your getOMDBData function.\n"
   ]
  },
  {
   "cell_type": "code",
   "execution_count": 9,
   "metadata": {},
   "outputs": [],
   "source": [
    "def getMoviesData(movieTitles):\n",
    "    data=[]\n",
    "    for movie in movieTitles:\n",
    "        data+=[getOMDBData(movie)]\n",
    "    return data\n",
    "    return None"
   ]
  },
  {
   "cell_type": "code",
   "execution_count": 10,
   "metadata": {},
   "outputs": [
    {
     "name": "stdout",
     "output_type": "stream",
     "text": [
      "[{'Title': 'Black Panther', 'Year': '2018', 'Rated': 'PG-13', 'Released': '16 Feb 2018', 'Runtime': '134 min', 'Genre': 'Action, Adventure, Sci-Fi', 'Director': 'Ryan Coogler', 'Writer': 'Ryan Coogler, Joe Robert Cole, Stan Lee', 'Actors': \"Chadwick Boseman, Michael B. Jordan, Lupita Nyong'o\", 'Plot': \"T'Challa, heir to the hidden but advanced kingdom of Wakanda, must step forward to lead his people into a new future and must confront a challenger from his country's past.\", 'Language': 'English, Swahili, Nama, Xhosa, Korean', 'Country': 'United States', 'Awards': 'Won 3 Oscars. 117 wins & 282 nominations total', 'Poster': 'https://m.media-amazon.com/images/M/MV5BMTg1MTY2MjYzNV5BMl5BanBnXkFtZTgwMTc4NTMwNDI@._V1_SX300.jpg', 'Ratings': [{'Source': 'Internet Movie Database', 'Value': '7.3/10'}, {'Source': 'Rotten Tomatoes', 'Value': '96%'}, {'Source': 'Metacritic', 'Value': '88/100'}], 'Metascore': '88', 'imdbRating': '7.3', 'imdbVotes': '795,068', 'imdbID': 'tt1825683', 'Type': 'movie', 'DVD': '02 May 2018', 'BoxOffice': '$700,426,566', 'Production': 'N/A', 'Website': 'N/A', 'Response': 'True'}, {'Title': 'Clue', 'Year': '1985', 'Rated': 'PG', 'Released': '13 Dec 1985', 'Runtime': '94 min', 'Genre': 'Comedy, Crime, Mystery', 'Director': 'Jonathan Lynn', 'Writer': 'John Landis, Jonathan Lynn, Anthony E. Pratt', 'Actors': 'Eileen Brennan, Tim Curry, Madeline Kahn', 'Plot': 'Six guests are anonymously invited to a strange mansion for dinner, but after their host is killed, they must cooperate with the staff to identify the murderer as the bodies pile up.', 'Language': 'English, French', 'Country': 'United States', 'Awards': 'N/A', 'Poster': 'https://m.media-amazon.com/images/M/MV5BM2VlNTE1ZmMtOTAyNS00ODYwLWFmY2MtZWEzOTE2YjE1NDE2XkEyXkFqcGdeQXVyNDk3NzU2MTQ@._V1_SX300.jpg', 'Ratings': [{'Source': 'Internet Movie Database', 'Value': '7.2/10'}, {'Source': 'Rotten Tomatoes', 'Value': '68%'}, {'Source': 'Metacritic', 'Value': '41/100'}], 'Metascore': '41', 'imdbRating': '7.2', 'imdbVotes': '100,886', 'imdbID': 'tt0088930', 'Type': 'movie', 'DVD': '27 Jun 2000', 'BoxOffice': '$14,643,997', 'Production': 'N/A', 'Website': 'N/A', 'Response': 'True'}, {'Response': 'False', 'Error': 'Movie not found!'}]\n"
     ]
    }
   ],
   "source": [
    "# Run this cell to test the function\n",
    "movies = getMoviesData([\"Black Panther\", \"Clue\",\"foobarbat\"])\n",
    "print(movies)"
   ]
  },
  {
   "cell_type": "markdown",
   "metadata": {},
   "source": [
    "<span style=\"color:blue\">Expected output:</span><br/>\n",
    "<span style=\"font: courier; font-size: 13px\">\n",
    "{'Title': 'Black Panther', 'Year': '2018', 'Rated': 'PG-13', 'Released': '16 Feb 2018', 'Runtime': '134 min', 'Genre':<br /> 'Action, Adventure, Sci-Fi', 'Director': 'Ryan Coogler', 'Writer': 'Ryan Coogler, Joe Robert Cole, Stan Lee (based on ... _remaining output omitted_</span>"
   ]
  },
  {
   "cell_type": "markdown",
   "metadata": {},
   "source": [
    "### Problem 3: \n",
    "Define the function *getValidMoviesData* that:\n",
    "- accepts a *list* of movie titles\n",
    "- Uses the getMoviesData function to return a list of valid movie dictionaries.\n",
    "\n",
    "This function needs to test the return value from getMoviesData to filter out any False return values. "
   ]
  },
  {
   "cell_type": "code",
   "execution_count": 11,
   "metadata": {},
   "outputs": [],
   "source": [
    "def getValidMoviesData(movieTitles):\n",
    "    valid_list=[]\n",
    "    validmovie=''\n",
    "    \n",
    "    for movie in movieTitles:\n",
    "        validmovie=getMoviesData(movieTitles)\n",
    "    for title in validmovie:\n",
    "        if title['Response'] !='False':\n",
    "            valid_list.append(title)\n",
    "    return valid_list\n",
    "    return None"
   ]
  },
  {
   "cell_type": "code",
   "execution_count": 12,
   "metadata": {},
   "outputs": [
    {
     "name": "stdout",
     "output_type": "stream",
     "text": [
      "Superbabies: Baby Geniuses 2 2004\n",
      "The Shawshank Redemption 1994\n",
      "Thor 2011\n"
     ]
    }
   ],
   "source": [
    "# Run this cell to test the function\n",
    "for movie in getValidMoviesData([\"Superbabies: Baby Geniuses 2\", \n",
    "                  \"The Shawshank Redemption\", \n",
    "                  \"Foobarbat\",\n",
    "                  \"asdfasdfasdfasdfasdf\" , \n",
    "                  \"Thor\"]):\n",
    "    print(movie['Title'],movie['Year'])"
   ]
  },
  {
   "cell_type": "markdown",
   "metadata": {},
   "source": [
    "<span style=\"color:blue\">Expected output:</span><br/>\n",
    "<span style=\"font: courier; font-size: 13px\">\n",
    "Superbabies: Baby Geniuses 2 2004<br/>\n",
    "The Shawshank Redemption 1994<br/>\n",
    "Thor 2011</span>"
   ]
  },
  {
   "cell_type": "markdown",
   "metadata": {},
   "source": [
    "### Problem 4: \n",
    "Define a function *sortedMoviesData* that:\n",
    "- accepts a *list* of movie titles\n",
    "- builds the list of dictionaries returned by getValidMoviesData \n",
    "- returns the list of dictionaries sorted _high to low_ on the IMDB rating\n",
    "\n",
    "Note: Be sure to cast the ratings as floats.  The optomized solution uses the sorted function and a lambda expression."
   ]
  },
  {
   "cell_type": "code",
   "execution_count": 223,
   "metadata": {},
   "outputs": [],
   "source": [
    "def sortedMoviesData(movieTitles):\n",
    "    validlist=[]\n",
    "    validlist=getValidMoviesData(movieTitles)\n",
    "    sortedList=[]\n",
    "    imdbDict={}\n",
    "    \n",
    "    for movie in validlist:\n",
    "        imdbRating=float(movie['imdbRating'])\n",
    "        imdbDict[imdbRating]=movie\n",
    "        pairs=imdbDict.items()\n",
    "        sortPairs= sorted(pairs, key=lambda pairs:pairs[0], reverse=True ) \n",
    "        \n",
    "    for i in sortPairs:\n",
    "        sortedList.append(i[1])\n",
    "    return sortedList\n",
    "    "
   ]
  },
  {
   "cell_type": "code",
   "execution_count": 224,
   "metadata": {},
   "outputs": [
    {
     "name": "stdout",
     "output_type": "stream",
     "text": [
      "The Shawshank Redemption 1994 9.3\n",
      "The Lord of the Rings: The Fellowship of the Ring 2001 8.8\n",
      "Source Code 2011 7.5\n",
      "Black Panther 2018 7.3\n",
      "Clue 1985 7.2\n",
      "Superbabies: Baby Geniuses 2 2004 1.5\n"
     ]
    }
   ],
   "source": [
    "result = sortedMoviesData([\"Superbabies: Baby Geniuses 2\", \n",
    "                  \"The Shawshank Redemption\", \n",
    "                  \"Clue\",\n",
    "                  \"asdfasdfasdfasdfasdf\" , \n",
    "                  \"Black Panther\",\n",
    "                  \"Lord of the Rings\",\n",
    "                  \"Source Code\"])\n",
    "for movie in result:\n",
    "    print(movie['Title'],movie['Year'],movie['imdbRating'])"
   ]
  },
  {
   "cell_type": "markdown",
   "metadata": {},
   "source": [
    "<span style=\"color:blue\">Expected output:</span><br/>\n",
    "<span style=\"font: courier; font-size: 13px\">\n",
    "The Shawshank Redemption 1994 9.3<br/>\n",
    "Lord of the Rings 2014 8.8<br/>\n",
    "Source Code 2011 7.5<br/>\n",
    "Clue 1985 7.3<br/>\n",
    "Black Panther 2018 7.3<br/>\n",
    "Superbabies: Baby Geniuses 2 2004 1.9</span>"
   ]
  },
  {
   "cell_type": "markdown",
   "metadata": {},
   "source": [
    "### PROBLEM 5:\n",
    "The next few problems require the use of a file that tracks the movies that the user has viewed.   \n",
    "\n",
    "Write function called _loadViewedMovies_ that does the following:\n",
    "1. Open the file *PREVIOUSLY_VIEWED_FNAME* (see below)\n",
    "2. If the file opens successfully:\n",
    "   1. Read and load its contents using json into the variable _viewed_movies_.\n",
    "3. Otherwise:  #this is the case for the first time the cell is run\n",
    "   1. Assign _viewed_movies_ an empty list.\n",
    "4. Returns the _viewed_movies_.\n",
    "\n",
    "Notes:\n",
    "- Use try/except when opening the file.\n",
    "- The contents of PREVIOUSLY_VIEWED_FNAME will be a list of movie titles\n",
    "- If code you will develop in other cells below gets into a bad state, you may have to delete the _viewed_movies.txt_ file and recreate."
   ]
  },
  {
   "cell_type": "code",
   "execution_count": 188,
   "metadata": {},
   "outputs": [],
   "source": [
    "PREVIOUSLY_VIEWED_FNAME = 'viewed_movies.txt'\n",
    "\n",
    "# write your code below\n",
    "def loadViewedMovies():\n",
    "    try:\n",
    "        moviefile=open(PREVIOUSLY_VIEWED_FNAME,'r')\n",
    "        contents=moviefile.read()\n",
    "        viewed_movies=json.loads(contents)\n",
    "    except:\n",
    "        viewed_movies=[]\n",
    "\n",
    "        \n",
    "    \n",
    "    return viewed_movies"
   ]
  },
  {
   "cell_type": "code",
   "execution_count": 189,
   "metadata": {},
   "outputs": [
    {
     "name": "stdout",
     "output_type": "stream",
     "text": [
      "[\"It's a Beautiful Life\", 'Black Panther', 'Thor']\n"
     ]
    }
   ],
   "source": [
    "# Run this to test the above code.  The first time this cell is run, an empty list will print.\n",
    "#  Note:  use viewed_movies in code you will write later\n",
    "viewed_movies = loadViewedMovies()\n",
    "print(viewed_movies)"
   ]
  },
  {
   "cell_type": "markdown",
   "metadata": {},
   "source": [
    "<span style=\"color:blue\">Expected output:</span><br/>\n",
    "<span style=\"font: courier; font-size: 13px\">\n",
    "[]<br />\n",
    "</span>"
   ]
  },
  {
   "cell_type": "markdown",
   "metadata": {},
   "source": [
    "### PROBLEM 6: \n",
    " Define a function *hasSeenMovie* that:\n",
    " - accepts a title \n",
    " - returns True if that title is in the viewed_movies list\n",
    " - otherwise returns False\n"
   ]
  },
  {
   "cell_type": "code",
   "execution_count": 125,
   "metadata": {},
   "outputs": [],
   "source": [
    "def hasSeenMovie(title):\n",
    "    if title in viewed_movies:\n",
    "        return True\n",
    "    else:\n",
    "        return False\n",
    "    return None"
   ]
  },
  {
   "cell_type": "markdown",
   "metadata": {},
   "source": [
    "### PROBLEM 7:\n",
    "Define a function *markAsViewed* that accepts a title, and:\n",
    "1. If that title IS in viewed_movies, do nothing\n",
    "2. If that title IS NOT in viewed_movies\n",
    "    - add the title to the list viewed_movies\n",
    "    - write the entire contents of viewed_movies to the file PREVIOUSLY_VIEWED_FNAME as a json-formatted string\n",
    "3. return nothing\n"
   ]
  },
  {
   "cell_type": "code",
   "execution_count": 179,
   "metadata": {},
   "outputs": [],
   "source": [
    "def markAsViewed(title):\n",
    "    if hasSeenMovie(title)==True:\n",
    "        return None\n",
    "    else:\n",
    "        viewed_movies.append(title)\n",
    "        delimiter=\" \"\n",
    "        with open(PREVIOUSLY_VIEWED_FNAME, 'w') as outfile:\n",
    "            string=json.dumps(viewed_movies)\n",
    "            \n",
    "            outfile.write(string+\"\\n\")\n",
    "    return None"
   ]
  },
  {
   "cell_type": "code",
   "execution_count": 190,
   "metadata": {},
   "outputs": [
    {
     "name": "stdout",
     "output_type": "stream",
     "text": [
      "[\"It's a Beautiful Life\", 'Black Panther', 'Thor']\n",
      "[\"It's a Beautiful Life\", 'Black Panther', 'Thor']\n"
     ]
    }
   ],
   "source": [
    "# Run this cell to test maskAsViewed\n",
    "markAsViewed(\"It's a Beautiful Life\")\n",
    "markAsViewed(\"Black Panther\")\n",
    "markAsViewed(\"Thor\")\n",
    "# confirm that the viewed_movies list was built correctly\n",
    "print(viewed_movies)\n",
    "# confirm that the viewed_movies list was written to the file correctly\n",
    "viewed_movies = loadViewedMovies()\n",
    "print(viewed_movies)"
   ]
  },
  {
   "cell_type": "markdown",
   "metadata": {},
   "source": [
    "<span style=\"color:blue\">Expected output:</span><br/>\n",
    "<span style=\"font: courier; font-size: 13px\">\n",
    "If the file viewed_movies.txt file was empty before you ran this cell, the expected output is shown below.<br />\n",
    "[\"It's a Beautiful Life\", 'Black Panther', 'Thor']<br />\n",
    "[\"It's a Beautiful Life\", 'Black Panther', 'Thor']</span>"
   ]
  },
  {
   "cell_type": "markdown",
   "metadata": {},
   "source": [
    "### PROBLEM 8:\n",
    "Define a function *getMovieAdvice* that takes the following steps:\n",
    "\n",
    "1. Ask the user for a list of movies separated by commas\n",
    "2. Call the sortedMoviesData function (defined earlier) on that list of movies (you need to split by commas)\n",
    "3. Iterate over each movie. For each movie:\n",
    " - If the user has seen the movie before (use hasSeenMovie), print \"You have already seen {title}\"\n",
    " - If the user has NOT seen the movie before, print the title, year, rating, and plot in the format:\n",
    "\n",
    "          {title} ({year}): {rating}\n",
    "          --------------------\n",
    "          {plot}\n",
    "\n",
    " - Ask the user if they want to watch the movie (yes or no)\n",
    "      - If the user types \"no\" (or anything other than yes) do nothing.\n",
    "      - If the user types \"yes\", then call markAsViewed on that movie\n",
    "          title and print the runtime in the format:\n",
    "\n",
    "          Watched {title} for {runtime}\n",
    "4. return nothing"
   ]
  },
  {
   "cell_type": "code",
   "execution_count": 237,
   "metadata": {},
   "outputs": [],
   "source": [
    "def getMovieAdvice():\n",
    "    movielistOne=input(\"Please enter a list of movies separated by commas: \")\n",
    "    movielist=movielistOne.split(\",\")\n",
    "    result=sortedMoviesData(movielist)\n",
    "    answeredyes=False\n",
    "    for movie in result:\n",
    "        if hasSeenMovie(movie)==True:\n",
    "            print(\"You have already seen {}\".format(movie))\n",
    "        else:\n",
    "            movieData=getMoviesData(movie)\n",
    "            print('{} ({}): {}'.format(movie['Title'], movie['Year'],movie['imdbRating'])) \n",
    "            print('---------------------------')\n",
    "            print(movie['Plot'])\n",
    "            wanttowatch=input(\"Do you want to watch this movie? yes or no \")\n",
    "            if wanttowatch==\"yes\" or wanttowatch==\"YES\" or wanttowatch==\"Yes\":\n",
    "                markAsViewed(movie)\n",
    "                print(\"Watched {} for {}\".format(movie['Title'], movie['Runtime']))\n",
    "                answeredyes=True\n",
    "            if wanttowatch==\"no\" or wanttowatch==\"NO\" or wanttowatch==\"No\":\n",
    "                None\n",
    "            else:\n",
    "                if answeredyes==True:\n",
    "                    None\n",
    "                else:\n",
    "                    print(\"Invalid response\")\n",
    "            \n",
    "    return None\n"
   ]
  },
  {
   "cell_type": "code",
   "execution_count": 238,
   "metadata": {},
   "outputs": [
    {
     "name": "stdout",
     "output_type": "stream",
     "text": [
      "Please enter a list of movies separated by commas: Lion King, Juno\n",
      "The Lion King (1994): 8.5\n",
      "---------------------------\n",
      "Lion prince Simba and his father are targeted by his bitter uncle, who wants to ascend the throne himself.\n",
      "Do you want to watch this movie? yes or noNo\n",
      "Jenny, Juno (2005): 6.3\n",
      "---------------------------\n",
      "Fearing their families' disapproval, Jeni and her boyfriend Juno keep her pregnancy hidden. How long can the teenagers keep the secret?\n",
      "Do you want to watch this movie? yes or nono\n"
     ]
    }
   ],
   "source": [
    "getMovieAdvice()"
   ]
  },
  {
   "cell_type": "markdown",
   "metadata": {},
   "source": [
    "<span style=\"color:blue\">Expected input and output:</span><br/>\n",
    "<span style=\"font: courier; font-size: 13px\">\n",
    "Given the input:<br />\n",
    "    Enter some movies separated by commas: Terminator,The Big Chill<br />\n",
    "The expected interaction would be:<br />\n",
    "The Big Chill (1983): 7.2<br />\n",
    "--------------------<br />\n",
    "A group of seven former college friends gather for a week-end reunion at a South Carolina vacation home after the funeral of another of their college friends.<br />\n",
    "====================<br />\n",
    "Want to watch this movie? (yes or no):yes<br />\n",
    "Watched The Big Chill for 105 min<br />\n",
    "Terminator (1991): 6.1<br />\n",
    "--------------------<br />\n",
    "A cyborg comes from the future, to kill a girl named Sarah Lee.<br />\n",
    "====================<br />\n",
    "Want to watch this movie? (yes or no):no</span>"
   ]
  },
  {
   "cell_type": "code",
   "execution_count": null,
   "metadata": {},
   "outputs": [],
   "source": []
  }
 ],
 "metadata": {
  "kernelspec": {
   "display_name": "Python 3 (ipykernel)",
   "language": "python",
   "name": "python3"
  },
  "language_info": {
   "codemirror_mode": {
    "name": "ipython",
    "version": 3
   },
   "file_extension": ".py",
   "mimetype": "text/x-python",
   "name": "python",
   "nbconvert_exporter": "python",
   "pygments_lexer": "ipython3",
   "version": "3.9.6"
  },
  "varInspector": {
   "cols": {
    "lenName": 16,
    "lenType": 16,
    "lenVar": 40
   },
   "kernels_config": {
    "python": {
     "delete_cmd_postfix": "",
     "delete_cmd_prefix": "del ",
     "library": "var_list.py",
     "varRefreshCmd": "print(var_dic_list())"
    },
    "r": {
     "delete_cmd_postfix": ") ",
     "delete_cmd_prefix": "rm(",
     "library": "var_list.r",
     "varRefreshCmd": "cat(var_dic_list()) "
    }
   },
   "types_to_exclude": [
    "module",
    "function",
    "builtin_function_or_method",
    "instance",
    "_Feature"
   ],
   "window_display": false
  }
 },
 "nbformat": 4,
 "nbformat_minor": 2
}
