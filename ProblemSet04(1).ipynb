{
 "cells": [
  {
   "cell_type": "markdown",
   "metadata": {},
   "source": [
    "## <span style=\"color:blue\">Problem Set 4</span>"
   ]
  },
  {
   "cell_type": "raw",
   "metadata": {},
   "source": [
    "#Cosette Ralowicz 02-07-2023"
   ]
  },
  {
   "cell_type": "markdown",
   "metadata": {},
   "source": [
    "**Note:**   \n",
    "1. You need to use code to arrive at a solution.  Hardcoding a solution results in 0 points for the problem.\n",
    "2. **Use only syntax covered in the Units so far.**  Using any other syntax results in 0 points for the problem."
   ]
  },
  {
   "cell_type": "markdown",
   "metadata": {},
   "source": [
    "### <span style=\"color:red\">Run this cell first</span>"
   ]
  },
  {
   "cell_type": "code",
   "execution_count": 68,
   "metadata": {},
   "outputs": [],
   "source": [
    "umSchools = {\n",
    "  \"A. Alfred Taubman College of Architecture & Urban Planning\": 1906,\n",
    "  \"College of Engineering\": 1854,\n",
    "  \"College of Literature, Science, and the Arts\": 1841,\n",
    "  \"Gerald R. Ford School of Public Policy\": 1914,\n",
    "  \"Horace H. Rackham School of Graduate Studies\": 1912,\n",
    "  \"Penny W. Stamps School of Art & Design\": 1974,\n",
    "  \"School of Dentistry\": 1875,\n",
    "  \"School of Education\": 1921,\n",
    "  \"School of Information\": 1996,\n",
    "  \"School of Kinesiology\": 1984,\n",
    "  \"School of Law\": 1859,\n",
    "  \"School of Medicine\": 1850,\n",
    "  \"School of Music, Theatre & Dance\": 1880,\n",
    "  \"School of Natural Resources & Environment\": 1927,\n",
    "  \"School of Nursing\": 1893,\n",
    "  \"School of Pharmacy\": 1876,\n",
    "  \"School of Public Health\": 1941,\n",
    "  \"School of Social Work\": 1951,\n",
    "  \"Stephen M. Ross School of Business\": 1924\n",
    "}\n",
    "\n",
    "janTemps = \"\"\"2016,   6, 51\n",
    "        2015,  -3, 41\n",
    "        2014, -14, 43\n",
    "        2013,  -3, 60\n",
    "        2012,   2, 55\n",
    "        2011,   1, 52\n",
    "        2010,   3, 47\n",
    "        2009, -10, 39\n",
    "        2008,   3, 62\n",
    "        2007,   5, 50\n",
    "        2006,  18, 53\n",
    "        2005,  -3, 56\n",
    "        2004,  -6, 55\n",
    "        2003,  -5, 47\n",
    "        2002,  11, 55\n",
    "        2001,   1, 43\n",
    "        2000,  -2, 56\"\"\""
   ]
  },
  {
   "cell_type": "markdown",
   "metadata": {},
   "source": [
    " ### Problem 1\n",
    "The dictionary _courses_ is a hypothetical schedule for a semester.  The key is the course code and the value is the number of credits. Print the course code along with the number of credits as shown in expected out. Also, use an accumulation pattern to find the total number of credits taken this semester and assign it to the variable _credits_. Print the variable _credits_ as shown below.\n",
    "\n",
    "Do the following:\n",
    "1. Iterate over courses:\n",
    "   1.  Print the course code and credits.\n",
    "   2.  Accumulate the credits in the variable _credits_.\n",
    "2. Print the total credits"
   ]
  },
  {
   "cell_type": "code",
   "execution_count": 148,
   "metadata": {},
   "outputs": [
    {
     "name": "stdout",
     "output_type": "stream",
     "text": [
      "CPS141 4\n",
      "ENG101 3\n",
      "CIS100 3\n",
      "CNT206 4\n",
      "MTH160 4\n",
      "Total credits this semester: 18\n"
     ]
    }
   ],
   "source": [
    "courses = {'CPS141':4, 'ENG101':3, 'CIS100':3, 'CNT206':4, 'MTH160':4}\n",
    "# write your code below\n",
    "credits=0\n",
    "for course in courses:\n",
    "    print(course, courses[course])\n",
    "    credits+=int(courses[course])\n",
    "print(\"Total credits this semester:\", credits)"
   ]
  },
  {
   "cell_type": "markdown",
   "metadata": {},
   "source": [
    "<span style=\"color:blue\">Expected output:</span><br/>\n",
    "<span style=\"font: courier; font-size: 13px\">\n",
    "CPS141 4<br/>\n",
    "ENG101 3<br/>\n",
    "CIS100 3<br/>\n",
    "CNT206 4<br/>\n",
    "MTH160 4<br/>\n",
    "Total credits this semester 18</span>"
   ]
  },
  {
   "cell_type": "markdown",
   "metadata": {},
   "source": [
    "### Problem 2\n",
    "The dictionary _umSchools_ maps the names of schools at Michigan to the year they were founded. Write code that creates a dictionary called _oldSchools_ that has the key/value pairs from _umSchools_ that correspond to the schools listed in the list _schools_ below.\n",
    "\n",
    "Do the following:\n",
    "1. Iterate over schools:\n",
    "   1. Create a new dictionary using the current school as the key and the corresponding value from umSchools\n",
    "2. Print _oldSchools_"
   ]
  },
  {
   "cell_type": "code",
   "execution_count": 19,
   "metadata": {},
   "outputs": [
    {
     "name": "stdout",
     "output_type": "stream",
     "text": [
      "{'College of Engineering': 1854, 'School of Nursing': 1893, 'School of Dentistry': 1875}\n"
     ]
    }
   ],
   "source": [
    "schools = [ \"College of Engineering\",\"School of Nursing\",\"School of Dentistry\"]\n",
    "# write your code below\n",
    "oldSchools={}\n",
    "for school in schools:\n",
    "    oldSchools[school]=umSchools[school]\n",
    "    \n",
    "print(oldSchools)"
   ]
  },
  {
   "cell_type": "markdown",
   "metadata": {},
   "source": [
    "<span style=\"color:blue\">Expected output:</span><br/>\n",
    "<span style=\"font: courier; font-size: 13px\">\n",
    "{'College of Engineering': 1854, 'School of Nursing': 1893, 'School of Dentistry': 1875}</span>"
   ]
  },
  {
   "cell_type": "markdown",
   "metadata": {},
   "source": [
    "### Problem 3\n",
    "Using the _umSchools_ dictionary, write code to add the name of every school that was founded in the 20th century (after 1900) into a list _newerSchools_. Print the list *newerSchools* as shown below."
   ]
  },
  {
   "cell_type": "code",
   "execution_count": 23,
   "metadata": {},
   "outputs": [
    {
     "name": "stdout",
     "output_type": "stream",
     "text": [
      "A. Alfred Taubman College of Architecture & Urban Planning was founded in the 20th century\n",
      "Gerald R. Ford School of Public Policy was founded in the 20th century\n",
      "Horace H. Rackham School of Graduate Studies was founded in the 20th century\n",
      "Penny W. Stamps School of Art & Design was founded in the 20th century\n",
      "School of Education was founded in the 20th century\n",
      "School of Information was founded in the 20th century\n",
      "School of Kinesiology was founded in the 20th century\n",
      "School of Natural Resources & Environment was founded in the 20th century\n",
      "School of Public Health was founded in the 20th century\n",
      "School of Social Work was founded in the 20th century\n",
      "Stephen M. Ross School of Business was founded in the 20th century\n"
     ]
    }
   ],
   "source": [
    "newerSchools={}\n",
    "for schools in umSchools:\n",
    "    if(umSchools[schools]>=1900):\n",
    "        newerSchools[schools]=umSchools[schools]\n",
    "for schools in newerSchools:\n",
    "    print(schools, \"was founded in the 20th century.\")"
   ]
  },
  {
   "cell_type": "markdown",
   "metadata": {},
   "source": [
    "<span style=\"color:blue\">Expected output:</span><br />\n",
    "The required output is shown below but only the first three schools are shown to conserve space.  There are a total of 11 schools that meet this criterion.<br/>\n",
    "<br />\n",
    "<span style=\"font: courier; font-size: 13px\">\n",
    "A. Alfred Taubman College of Architecture & Urban Planning was founded in the 20th century.<br />\n",
    "Gerald R. Ford School of Public Policy was founded in the 20th century.<br />\n",
    "Horace H. Rackham School of Graduate Studies was founded in the 20th century</span>"
   ]
  },
  {
   "cell_type": "markdown",
   "metadata": {},
   "source": [
    "### Problem 4\n",
    "Given the string _paragraph_ below, write code to determine the most common word in the string and assign it to the variable _commonWord_, assign the frequency to _maxWordCount_.  The is a case insensitive frequency which means that case must be disregarded.\n",
    "\n",
    "There are two parts:\n",
    "1. The first part requires a loop that builds a dictionary of words and their frequency.\n",
    "2. The second part requires a max accumulation pattern to find the word with the largest count.\n",
    "\n",
    "A) Do the following to build the frequency dictionary:\n",
    "1. Split the paragraph into words and store in a variable.\n",
    "2. Initialize an empty dictionary\n",
    "3. Iterate over the variable:\n",
    "   1. You need to remove punctuation from the word.  \n",
    "      If the last character in the word is a \".\", \",\", or a \";\":\n",
    "         1. Remove the last character in the word\n",
    "   2. Convert the word to lowercase.\n",
    "   3. If the word is in the dictionary:\n",
    "         1. Increment the value associated with the word.  \n",
    "   4. Otherwise:\n",
    "         1. Initialize a new key using the word and assign 1 to the value\n",
    "\n",
    "B) Determine the word with the largest frequency:\n",
    "1. Iterate over the keys dictionary created in part A.\n",
    "   1. if the value associated with current key is greater than _maxWordCount_:\n",
    "      1. Store the current key in _commonWord_.\n",
    "      2. Store the value of the current key in _maxWordCount_.\n",
    "\n",
    "C) Print\n",
    "1. Print _commonWord_ and _maxWordCount_ as shown below. \n",
    "\n",
    "Punctuation in the sentence must be removed as your code processes the word. You will also need to lower case the word.  You need to use the **split**, the **in** operator, and the **lower** function."
   ]
  },
  {
   "cell_type": "code",
   "execution_count": 55,
   "metadata": {},
   "outputs": [
    {
     "name": "stdout",
     "output_type": "stream",
     "text": [
      "he is the most common word with 4 occurances\n"
     ]
    }
   ],
   "source": [
    "paragraph = \"\"\"\n",
    "He was getting  old and paunchy and his hair was falling fast,\n",
    "And he sat around the Legion, telling stories of the past.\n",
    "Of a war that he had fought in and the deeds that he had done,\n",
    "In his exploits with his buddies; they were heroes, every one.\n",
    "\"\"\"\n",
    "# write your code below\n",
    "maxWordCount=0\n",
    "commonWord=''\n",
    "paragraphSplit=paragraph.split(\"\\n\")\n",
    "paragraphString=\"\"\n",
    "wordFrequency={}\n",
    "for word in paragraphSplit:\n",
    "    paragraphString+=word \n",
    "paragraphSplit=paragraphString.split(\" \") #Question: it counts \"fast,And\", \"past.Of\" etc as one word. How to handle this?\n",
    "for item in paragraphSplit:\n",
    "    item=item.lower()\n",
    "    for char in item:\n",
    "        if char==',' or char=='.' or char==';':\n",
    "            item=item[0:item.index(char)]\n",
    "    if item not in wordFrequency:\n",
    "        wordFrequency[item]=1\n",
    "    else:\n",
    "        wordFrequency[item]+=1\n",
    "for wrd in wordFrequency:\n",
    "    if wordFrequency[wrd]>maxWordCount:\n",
    "        maxWordCount=wordFrequency[wrd]\n",
    "        commonWord=wrd\n",
    "        \n",
    "print(commonWord, \"is the most common word with\", maxWordCount,\"occurances\")"
   ]
  },
  {
   "cell_type": "markdown",
   "metadata": {},
   "source": [
    "<span style=\"color:blue\">Expected output:</span><br />\n",
    "<span style=\"font: courier; font-size: 13px\">\n",
    "he is the most common word with 4 occurances</span>"
   ]
  },
  {
   "cell_type": "markdown",
   "metadata": {},
   "source": [
    "### Problem 5\n",
    "Given the string _poem_ below, write code to determine the most common letter in the string and assign that to the variable _mostCommon_.  Also, assign the frequency of the most common letter to the variable _maxLetterCount_.  This is a case insensitive frequency which means lowercase and uppercase letters represent a single letter.\n",
    "\n",
    "This problem is almost identical to problem 4 with the exception that you iterate over a string.  You should be able to make minor modifications to the code from problem 4 to achieve a solution.  Note, you need to skip spaces and punctuation.\n",
    "\n",
    "Print _mostCommon_ and _maxLetterCount_ as shown below."
   ]
  },
  {
   "cell_type": "code",
   "execution_count": 66,
   "metadata": {},
   "outputs": [
    {
     "name": "stdout",
     "output_type": "stream",
     "text": [
      "e is the most common letter with 66 occurances\n"
     ]
    }
   ],
   "source": [
    "# A poem by Robert Frost\n",
    "poem = \"\"\"\n",
    "Whose woods these are I think I know.\n",
    "His house is in the village though;\n",
    "He will not see me stopping here\n",
    "To watch his woods fill up with snow.\n",
    "My little horse must think it queer\n",
    "To stop without a farmhouse near\n",
    "Between the woods and frozen lake\n",
    "The darkest evening of the year.\n",
    "He gives his harness bells a shake\n",
    "To ask if there is some mistake.\n",
    "The only other sound’s the sweep\n",
    "Of easy wind and downy flake.\n",
    "The woods are lovely, dark and deep,\n",
    "But I have promises to keep,\n",
    "And miles to go before I sleep,\n",
    "And miles to go before I sleep.\n",
    "\"\"\"\n",
    "# write your code below\n",
    "poemSplit=poem.split(\"\\n\")\n",
    "poemString=\"\"\n",
    "mostCommon=''\n",
    "maxLetterCount=0\n",
    "letterFrequency={}\n",
    "for words in poemSplit:\n",
    "    poemString+=words+\" \"\n",
    "for char in poemString:\n",
    "    if char==',' or char=='.' or char==';' or char==\" \":\n",
    "        char=char\n",
    "    else:\n",
    "        if char not in letterFrequency:\n",
    "            letterFrequency[char]=1\n",
    "        else:\n",
    "            letterFrequency[char]+=1\n",
    "for letter in letterFrequency:\n",
    "    if letterFrequency[letter]>maxLetterCount:\n",
    "        maxLetterCount=letterFrequency[letter]\n",
    "        mostCommon=letter\n",
    "print(mostCommon, \"is the most common letter with\", maxLetterCount,\"occurances\")\n",
    "         "
   ]
  },
  {
   "cell_type": "markdown",
   "metadata": {},
   "source": [
    "<span style=\"color:blue\">Expected output:</span><br />\n",
    "<span style=\"font: courier; font-size: 13px\">\n",
    "e is the most common letter with 66 occurances</span>"
   ]
  },
  {
   "cell_type": "markdown",
   "metadata": {},
   "source": [
    "### Problem 6\n",
    "Write code that creates the dictionary _vowelFrequency_ where the keys are the five vowels and the values are number of occurances of that vowel in the string _sentence_. Using the _vowelFrequencies_ dictionary and a max accumulation pattern determine the most common vowel and assign the result to the variable _commonVowel_.  Print the variable _commonVowel_ and the _vowelFrequency_ dictionary as shown below. \n",
    "\n",
    "The problem is similar to the previous problem.  The exception is that you need to select only vowels in the string sentence."
   ]
  },
  {
   "cell_type": "code",
   "execution_count": 67,
   "metadata": {},
   "outputs": [
    {
     "name": "stdout",
     "output_type": "stream",
     "text": [
      "{'i': 11, 'e': 8, 'a': 7, 'o': 5, 'u': 3}\n",
      "The most common vowel is i\n"
     ]
    }
   ],
   "source": [
    "sentence = \"singing in the rain and playing in the rain are two entirely different situations but both can be good fun\"\n",
    "vowels = ['a','e','i','o','u']\n",
    "# write your code below\n",
    "vowelFrequency={}\n",
    "commonVowel=''\n",
    "maxVowelCount=0\n",
    "for char in sentence:\n",
    "    if char not in vowels:\n",
    "        char=char\n",
    "    else:\n",
    "        if char not in vowelFrequency:\n",
    "            vowelFrequency[char]=1\n",
    "        else:\n",
    "            vowelFrequency[char]+=1\n",
    "for vow in vowelFrequency:\n",
    "    if vowelFrequency[vow]>maxVowelCount:\n",
    "        maxVowelCount=vowelFrequency[vow]\n",
    "        commonVowel=vow\n",
    "print(vowelFrequency)\n",
    "print(\"The most common vowel is\", commonVowel)"
   ]
  },
  {
   "cell_type": "markdown",
   "metadata": {},
   "source": [
    "<span style=\"color:blue\">Expected output:</span><br />\n",
    "<span style=\"font: courier; font-size: 13px\">\n",
    "{'i': 11, 'e': 8, 'a': 7, 'o': 5, 'u': 3}<br />\n",
    "The most common vowel is i</span>"
   ]
  },
  {
   "cell_type": "markdown",
   "metadata": {},
   "source": [
    "### Problem 7\n",
    "The string _janTemps_ contains January temperature information for Ann Arbor for the years 2016 to 2000. This string is formatted so that it consists of multiple lines.  Each line is composed of three “columns” separated by commas. \n",
    "1. Year.\n",
    "2. Lowest temperature.\n",
    "3. Highest temperature.\n",
    "\n",
    "Write code that will create two dictionaries: _janLows_, which maps the year to the lowest temperature, and _janHighs_, which maps the year to the highest temperature. The key for each dictionary is the year and the values are the temperatures.\n",
    "\n",
    "Each set of values in the string is separated by a new-line character.  You must use .split('\\n') to split the lines of _janTemps_ into a list. This results in a list of strings where each string holds the three columns.  As you iterate over that list, split a given line using a \",\" into a list containing the three column values. Use int() to cast the year, low temperature, and high temperature to integers.\n",
    "\n",
    "Print the variables _janLows_ and _janHighs_."
   ]
  },
  {
   "cell_type": "code",
   "execution_count": 120,
   "metadata": {},
   "outputs": [
    {
     "name": "stdout",
     "output_type": "stream",
     "text": [
      "January low temperatures:\n",
      " {2016: 6, 2015: -3, 2014: -14, 2013: -3, 2012: 2, 2011: 1, 2010: 3, 2009: -10, 2008: 3, 2007: 5, 2006: 18, 2005: -3, 2004: -6, 2003: -5, 2002: 11, 2001: 1, 2000: -2}\n",
      "January high temperatures:\n",
      " {2016: 51, 2015: 41, 2014: 43, 2013: 60, 2012: 55, 2011: 52, 2010: 47, 2009: 39, 2008: 62, 2007: 50, 2006: 53, 2005: 56, 2004: 55, 2003: 47, 2002: 55, 2001: 43, 2000: 56}\n"
     ]
    }
   ],
   "source": [
    "januaryTemps=janTemps.split(\"\\n\")\n",
    "janHighs={}\n",
    "janLows={}\n",
    "\n",
    "for line in januaryTemps:\n",
    "    lineList=line.split(',')\n",
    "    newLineList=[]\n",
    "    for item in lineList:\n",
    "        item=item.strip()\n",
    "        item=int(item)\n",
    "        newLineList.append(item)\n",
    "    janHighs[newLineList[0]]=newLineList[2]\n",
    "    janLows[newLineList[0]]=newLineList[1]\n",
    "\n",
    "print(\"January low temperatures:\\n\", janLows)\n",
    "print(\"January high temperatures:\\n\", janHighs)"
   ]
  },
  {
   "cell_type": "markdown",
   "metadata": {},
   "source": [
    "<span style=\"color:blue\">Expected output:</span><br />\n",
    "<span style=\"font: courier; font-size: 13px\">\n",
    "January low temperatures:<br />\n",
    "{2016: 6, 2015: -3, 2014: -14, 2013: -3, 2012: 2, 2011: 1, 2010: 3, 2009: -10, 2008: 3, 2007: 5, 2006: 18, 2005: -3, 2004: -6, 2003: -5, 2002: 11, 2001: 1, 2000: -2}<br />\n",
    "January high temperatatures:<br />\n",
    "{2016: 51, 2015: 41, 2014: 43, 2013: 60, 2012: 55, 2011: 52, 2010: 47, 2009: 39, 2008: 62, 2007: 50, 2006: 53, 2005: 56, 2004: 55, 2003: 47, 2002: 55, 2001: 43, 2000: 56}</span>"
   ]
  },
  {
   "cell_type": "markdown",
   "metadata": {},
   "source": [
    "### Problem 8\n",
    "Again using he string _janTemps_, write code that will determine which year had the largest difference between the lowest and highest temperature. Store the year as an integer in the variable  _maxTempDiffYear_ and temperature difference is the variable _maxTempDiff_.  \n",
    "\n",
    "You need use much of the code from the above problem to parse each line in janTemps into the three values: year, lowest temperature, and the highest temperature.  Write additional code that uses a max accumulation pattern to calculate the largest temperature difference and the year when that difference occured.\n",
    "\n",
    "Print _maxTempDiffYear_  and _maxTempDiff_ as shown below."
   ]
  },
  {
   "cell_type": "code",
   "execution_count": 130,
   "metadata": {},
   "outputs": [
    {
     "name": "stdout",
     "output_type": "stream",
     "text": [
      "In January of 2013 the difference betweeb high and low temperatures was 63\n"
     ]
    }
   ],
   "source": [
    "maxTempDiffYear=0\n",
    "maxTempDiff=0\n",
    "for year in janHighs:\n",
    "    tempDiff=janHighs[year]-janLows[year]\n",
    "    if tempDiff>maxTempDiff:\n",
    "        maxTempDiff=tempDiff\n",
    "        maxTempDiffYear=year\n",
    "print(\"In January of {} the difference betweeb high and low temperatures was {}\".format(maxTempDiffYear,maxTempDiff))"
   ]
  },
  {
   "cell_type": "markdown",
   "metadata": {},
   "source": [
    "<span style=\"color:blue\">Expected output:</span><br />\n",
    "<span style=\"font: courier; font-size: 13px\">\n",
    "In January of 2013 the difference between high and low temperatures was 63</span>"
   ]
  },
  {
   "cell_type": "markdown",
   "metadata": {},
   "source": [
    "### Problem 9\n",
    "The text file **Unit04_wnvhumancases.txt** contains data on West Nile virus infections in the United States from 2006 through 2018. Each record (line) in the file has four columns(values) separated by a comma. Each column is described below.\n",
    "\n",
    "    Column 1:  Year (reported)\n",
    "    Column 2:  Week (week reported)\n",
    "    Column 3:  County\n",
    "    Column 4:  Cases (number of cases reported)\n",
    "\n",
    "Process the file and use an accumulation pattern to provide a count of the number of records(lines) in the file in the variable _numRecs_ and the total number of cases in the variable _numCases_.  Make sure you close the file after processing the data.\n",
    "\n",
    "Hint:  Since this is a text file each line is a string. You will need to split the line into a list of values. \n",
    "\n",
    "This file must be co-resident with you notebook, otherwise a \"file not found\" error is thrown.\n",
    "\n",
    "Print the variables _numRecs_  and _numCases_ as shown below."
   ]
  },
  {
   "cell_type": "code",
   "execution_count": 138,
   "metadata": {},
   "outputs": [
    {
     "name": "stdout",
     "output_type": "stream",
     "text": [
      "Total number of records: 1789\n",
      "Total number of cases: 4993\n"
     ]
    }
   ],
   "source": [
    "file=open(\"Unit04_wnvhumancases.txt\",\"r\")\n",
    "numRecs=0\n",
    "numCases=0\n",
    "for line in file:\n",
    "    numRecs+=1\n",
    "    lineSplit=line.split(',')\n",
    "    numCases+=int(lineSplit[-1])\n",
    "print(\"Total number of records: {}\".format(numRecs))\n",
    "print(\"Total number of cases: {}\".format(numCases))\n",
    "file.close()"
   ]
  },
  {
   "cell_type": "markdown",
   "metadata": {},
   "source": [
    "<span style=\"color:blue\">Expected output:</span><br />\n",
    "Total number of records: 1789<br />\n",
    "Total number of cases: 4993</span>"
   ]
  },
  {
   "cell_type": "markdown",
   "metadata": {},
   "source": [
    "### Problem 10\n",
    "The csv file Unit04_wnvhumancases.csv is identical to the text file used in the previous proble, with the exception that it contains a header line and all fields are delimited by double-quotes.  The column names are shown below.\n",
    "\n",
    "    Column 1:  Year (reported)\n",
    "    Column 2:  Week (week reported)\n",
    "    Column 3:  County\n",
    "    Column 4:  Cases (number of cases reported)\n",
    "\n",
    "Use the csv module to process the file and use an accumulation pattern to provide a count of the number of records in the file in the variable _numRows_ and the total number of incidents, i.e., a total of Positive Cases, in the variable _numIncidents_.  \n",
    "\n",
    "You also need to identify the county with the highest number of incidents in the variable _maxCounty_, the year that the highest number of incidents occurred  in the variable _maxCountyYear_, and the number of incidents in _maxCountyIncidents_.\n",
    "\n",
    "Do the same as the above but for the minimum,  Store the results in _minCounty_, _minCountyYear_, and _minCountyIncidents_. \n",
    "\n",
    "Print the information as shown below."
   ]
  },
  {
   "cell_type": "code",
   "execution_count": 145,
   "metadata": {},
   "outputs": [
    {
     "name": "stdout",
     "output_type": "stream",
     "text": [
      "Total cases: 1789\n",
      "Total incidents: 4993\n",
      "The county with the largest number of cases is Los Angeles, with 40 incidents reported in the year 2017\n",
      "The county with the smallest number of cases is Alameda, with 1 incidents reported in the year 2006\n"
     ]
    }
   ],
   "source": [
    "with open(\"Unit04_wnvhumancases.csv\",\"r\")as wnvFile:\n",
    "    content=wnvFile.readlines()\n",
    "    numRows=0\n",
    "    numIncidents=0\n",
    "    maxCounty=''\n",
    "    maxCountyYear=0\n",
    "    maxCountyIncidents=0\n",
    "    minCounty=''\n",
    "    minCountyYear=0\n",
    "    minCountyIncidents=999999\n",
    "    for line in content[1:]:\n",
    "        numRows+=1\n",
    "        eachLine=line.split(',')\n",
    "        numIncidents+=int(eachLine[3])\n",
    "        if int(eachLine[3])>maxCountyIncidents:\n",
    "            maxCountyIncidents=int(eachLine[3])\n",
    "            maxCounty= eachLine[2]\n",
    "            maxCountyYear=int(eachLine[0])\n",
    "        if (int(eachLine[3]))<minCountyIncidents:\n",
    "            minCountyIncidents=int(eachLine[3])\n",
    "            minCounty= eachLine[2]\n",
    "            minCountyYear=int(eachLine[0])\n",
    "print(\"Total cases: {}\".format(numRows))\n",
    "print(\"Total incidents: {}\".format(numIncidents))\n",
    "print(\"The county with the largest number of cases is {}, with {} incidents reported in the year {}\".format(maxCounty,maxCountyIncidents,maxCountyYear))\n",
    "print(\"The county with the smallest number of cases is {}, with {} incidents reported in the year {}\".format(minCounty,minCountyIncidents,minCountyYear))\n",
    "file.close()\n"
   ]
  },
  {
   "cell_type": "markdown",
   "metadata": {},
   "source": [
    "<span style=\"color:blue\">Expected output:</span><br />\n",
    "Total cases:              1789<br />\n",
    "Total incidents:          4993<br />\n",
    "The county with the largest number of cases is Los Angeles, with 40 incidents reported in the year 2017<br />\n",
    "The county with the smallest number of cases is Alameda, with 1 incidents reported in the year 2006</span>"
   ]
  },
  {
   "cell_type": "markdown",
   "metadata": {},
   "source": [
    "### <span style=\"color:dark green\">Run the cells below to test your code</span>"
   ]
  },
  {
   "cell_type": "code",
   "execution_count": 146,
   "metadata": {},
   "outputs": [],
   "source": [
    "import unittest\n",
    "\n",
    "class PS04_01 (unittest.TestCase):\n",
    "    def test_problem01(self):\n",
    "        self.assertEqual(credits, 18)\n",
    "class PS04_02 (unittest.TestCase):\n",
    "    def test_problem02(self):\n",
    "        self.assertEqual(oldSchools, {'College of Engineering': 1854, 'School of Nursing': 1893, 'School of Dentistry': 1875})\n",
    "class PS04_03 (unittest.TestCase):\n",
    "    def test_problem03(self):\n",
    "        self.assertTrue(type(newerSchools) is list) \n",
    "        self.assertEqual(len(newerSchools), 11)\n",
    "class PS04_04 (unittest.TestCase):\n",
    "    def test_problem04(self):\n",
    "        self.assertEqual(commonWord, 'he')\n",
    "        self.assertEqual(maxWordCount, 4)\n",
    "class PS04_05 (unittest.TestCase):\n",
    "    def test_problem05(self):\n",
    "        self.assertEqual(mostCommon, 'e')\n",
    "        self.assertEqual(maxLetterCount, 66)        \n",
    "class PS04_06 (unittest.TestCase):\n",
    "    def test_problem06(self):\n",
    "        self.assertEqual(commonVowel, 'i')\n",
    "        self.assertEqual(vowelFrequency['i'], 11)\n",
    "        self.assertEqual(vowelFrequency,{'i': 11, 'e': 8, 'a': 7, 'o': 5, 'u': 3})\n",
    "class PS04_07 (unittest.TestCase):\n",
    "    def test_problem07(self):\n",
    "        self.assertTrue(type(janLows) is dict) \n",
    "        self.assertTrue(type(janHighs) is dict) \n",
    "        self.assertEqual(janLows[2016], 6)\n",
    "        self.assertEqual(janHighs[2016], 51)\n",
    "class PS04_08 (unittest.TestCase):\n",
    "    def test_problem08(self):\n",
    "        self.assertEqual(maxTempDiffYear, 2013)\n",
    "        self.assertEqual(maxTempDiff, 63)\n",
    "class PS04_09 (unittest.TestCase):\n",
    "    def test_problem09(self):\n",
    "        self.assertEqual(numRecs, 1789)\n",
    "        self.assertEqual(numCases, 4993)\n",
    "class PS04_10 (unittest.TestCase):\n",
    "    def test_problem10(self):\n",
    "        self.assertEqual(numRows, 1789)\n",
    "        self.assertEqual(numIncidents, 4993)\n",
    "        self.assertEqual(maxCounty, 'Los Angeles')\n",
    "        self.assertEqual(maxCountyIncidents, 40)\n",
    "        self.assertEqual(maxCountyYear, 2017)     "
   ]
  },
  {
   "cell_type": "code",
   "execution_count": 150,
   "metadata": {},
   "outputs": [
    {
     "name": "stderr",
     "output_type": "stream",
     "text": [
      "test_problem01 (__main__.PS04_01) ... ok\n",
      "test_problem02 (__main__.PS04_02) ... ERROR\n",
      "test_problem03 (__main__.PS04_03) ... ERROR\n",
      "test_problem04 (__main__.PS04_04) ... ok\n",
      "test_problem05 (__main__.PS04_05) ... ok\n",
      "test_problem06 (__main__.PS04_06) ... ok\n",
      "test_problem07 (__main__.PS04_07) ... ok\n",
      "test_problem08 (__main__.PS04_08) ... ok\n",
      "test_problem09 (__main__.PS04_09) ... ok\n",
      "test_problem10 (__main__.PS04_10) ... ok\n",
      "\n",
      "======================================================================\n",
      "ERROR: test_problem02 (__main__.PS04_02)\n",
      "----------------------------------------------------------------------\n",
      "Traceback (most recent call last):\n",
      "  File \"/tmp/ipykernel_1655713/1704947993.py\", line 8, in test_problem02\n",
      "    self.assertEqual(oldSchools, {'College of Engineering': 1854, 'School of Nursing': 1893, 'School of Dentistry': 1875})\n",
      "NameError: name 'oldSchools' is not defined\n",
      "\n",
      "======================================================================\n",
      "ERROR: test_problem03 (__main__.PS04_03)\n",
      "----------------------------------------------------------------------\n",
      "Traceback (most recent call last):\n",
      "  File \"/tmp/ipykernel_1655713/1704947993.py\", line 11, in test_problem03\n",
      "    self.assertTrue(type(newerSchools) is list)\n",
      "NameError: name 'newerSchools' is not defined\n",
      "\n",
      "----------------------------------------------------------------------\n",
      "Ran 10 tests in 0.006s\n",
      "\n",
      "FAILED (errors=2)\n"
     ]
    },
    {
     "data": {
      "text/plain": [
       "<unittest.main.TestProgram at 0x7ff3a83d9610>"
      ]
     },
     "execution_count": 150,
     "metadata": {},
     "output_type": "execute_result"
    }
   ],
   "source": [
    "unittest.main(argv=['first-arg-is-ignored'], exit=False, verbosity=2)"
   ]
  },
  {
   "cell_type": "code",
   "execution_count": null,
   "metadata": {},
   "outputs": [],
   "source": []
  }
 ],
 "metadata": {
  "kernelspec": {
   "display_name": "Python 3 (ipykernel)",
   "language": "python",
   "name": "python3"
  },
  "language_info": {
   "codemirror_mode": {
    "name": "ipython",
    "version": 3
   },
   "file_extension": ".py",
   "mimetype": "text/x-python",
   "name": "python",
   "nbconvert_exporter": "python",
   "pygments_lexer": "ipython3",
   "version": "3.9.6"
  }
 },
 "nbformat": 4,
 "nbformat_minor": 2
}
