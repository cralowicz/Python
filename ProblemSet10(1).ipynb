{
 "cells": [
  {
   "cell_type": "markdown",
   "metadata": {},
   "source": [
    "## <span style=\"color:blue\">Problem Set 10</span>"
   ]
  },
  {
   "cell_type": "raw",
   "metadata": {},
   "source": [
    "#Cosette Ralowicz 04-10"
   ]
  },
  {
   "cell_type": "markdown",
   "metadata": {},
   "source": [
    "### Overview\n",
    "In this problem set will introduce you to classes and objects (instances).  You will create the classes and subclasses below in an incremental fashion.  The objective is to provide you with a better understanding of the object-oriented programming.\n",
    "\n",
    "- Book\n",
    "  - subclass PaperBook\n",
    "  - subclass ElectronicBook\n",
    "- Library\n",
    "\n",
    "A Library instance will keep track of a list of book instances that are owned by that Library.\n",
    "A Book instance will keep track of whether it's currently checked out."
   ]
  },
  {
   "cell_type": "markdown",
   "metadata": {},
   "source": [
    "### PROBLEM 1\n",
    "Define a class named *Book*. Each instance of Book should have three\n",
    "instance variables: \n",
    "1. _title_ a string.\n",
    "2. _author_ a string.\n",
    "2. _checked_out_ a boolean. \n",
    "\n",
    "The Book constructor takes two formal parameters: _title_ and _author_ and uses these parameters to initialize instance variables _title_ and _author_ respectively.  The third instance variable, _checked_out_, must be initialized to False."
   ]
  },
  {
   "cell_type": "code",
   "execution_count": 64,
   "metadata": {},
   "outputs": [],
   "source": [
    "class Book:\n",
    "    def __init__(self, title, author):\n",
    "        self.title=title\n",
    "        self.author=author\n",
    "        self.checked_out=False\n",
    "    def __str__(self):\n",
    "        return \"{} by {}\".format(self.title, self.author)\n",
    "    def checkOut(self):\n",
    "        self.checked_out=True\n",
    "    def checkIn(self,library):\n",
    "        if library.willAccept(self) == True:\n",
    "            self.checked_out=False\n",
    "    def canCheckOut(self):\n",
    "        if self.checked_out==False:\n",
    "            return True\n",
    "        else:\n",
    "            return False"
   ]
  },
  {
   "cell_type": "code",
   "execution_count": 12,
   "metadata": {},
   "outputs": [
    {
     "name": "stdout",
     "output_type": "stream",
     "text": [
      "The book title is Kokoro\n",
      "The author of the book is Natsume Souseki\n",
      "The book is not checked out\n",
      "<__main__.Book object at 0x7fc55037d8e0>\n"
     ]
    }
   ],
   "source": [
    "# Use this cell to test the Book class\n",
    "mybook = Book('Kokoro','Natsume Souseki')\n",
    "print('The book title is',mybook.title)\n",
    "print('The author of the book is',mybook.author)\n",
    "if mybook.checked_out == False:\n",
    "    v = 'is not'\n",
    "else:\n",
    "    v = 'is'\n",
    "print('The book',v,'checked out')\n",
    "print(mybook)"
   ]
  },
  {
   "cell_type": "markdown",
   "metadata": {},
   "source": [
    "<span style=\"color:blue\">Expected output:</span><br/>\n",
    "<span style=\"font: courier; font-size: 13px\">\n",
    "The book title is Kokoro<br/>\n",
    "The author of the book is Natsume Souseki<br/>\n",
    "The book is not checked out<br/>\n",
    "<\\__main\\__.Book object at 0x009715F0><br/>\n",
    "When the book object is printed, an object reference is printed since there is no *\\__str\\__* method.  Your object reference will be different than the one shown here.</span>   "
   ]
  },
  {
   "cell_type": "markdown",
   "metadata": {},
   "source": [
    "### PROBLEM 2\n",
    "When objects are printed, python calls the *\\_str\\_* method of the class.  This method should return relevant information about the object. Add an *\\_str\\_* method to the Book class in the cell above.  This method returns a string consisting of the book title and author as shown below."
   ]
  },
  {
   "cell_type": "code",
   "execution_count": 14,
   "metadata": {},
   "outputs": [
    {
     "name": "stdout",
     "output_type": "stream",
     "text": [
      "The book title is Kokoro\n",
      "The author of the book is Natsume Souseki\n",
      "The book is not checked out\n",
      "Kokoro by Natsume Souseki\n"
     ]
    }
   ],
   "source": [
    "# Use this cell to verify that the __str__ method of the Book class is working correctly\n",
    "mybook = Book('Kokoro','Natsume Souseki')\n",
    "print('The book title is',mybook.title)\n",
    "print('The author of the book is',mybook.author)\n",
    "if mybook.checked_out == False:\n",
    "    v = 'is not'\n",
    "else:\n",
    "    v = 'is'\n",
    "print('The book',v,'checked out')\n",
    "print(mybook)"
   ]
  },
  {
   "cell_type": "markdown",
   "metadata": {},
   "source": [
    "<span style=\"color:blue\">Expected output:</span><br/>\n",
    "<span style=\"font: courier; font-size: 13px\">\n",
    "The book title is Kokoro<br/>\n",
    "The author of the book is Natsume Souseki<br/>\n",
    "The book is not checked out<br/>\n",
    "Kokoro by Natsume Souseki</span> "
   ]
  },
  {
   "cell_type": "markdown",
   "metadata": {},
   "source": [
    "### PROBLEM 3\n",
    "Create a class named Library. This class has two instance variables:\n",
    "- books: which is initialized to an empty list \n",
    "- tornPageTolerance: which is initialized to 5 \n",
    "\n",
    "The constructor for Library does not require any arguments other than self."
   ]
  },
  {
   "cell_type": "code",
   "execution_count": 70,
   "metadata": {},
   "outputs": [],
   "source": [
    "class Library:\n",
    "    tornPageTolerance=5\n",
    "    def __init__(self):\n",
    "        self.books=[]\n",
    "    def addBook(self,book):\n",
    "        self.books.append(book)\n",
    "    def findBooksBy(self,author):\n",
    "        booksBy=[]\n",
    "        for book in self.books:\n",
    "            if author in book.author:\n",
    "                booksBy.append(book)\n",
    "        return booksBy\n",
    "    def willAccept(self, book):\n",
    "        if isinstance(book, PaperBook) == True:\n",
    "            if book.numTornPages< self.tornPageTolerance:\n",
    "                return True\n",
    "            else:\n",
    "                return False\n",
    "        else:\n",
    "            return True\n",
    "    def getBooksYouCanCheckOut(self):\n",
    "        canBeCheckedOut=[]\n",
    "        for book in self.books:\n",
    "            if book.canCheckOut()== True:\n",
    "                canBeCheckedOut.append(book)\n",
    "        return canBeCheckedOut"
   ]
  },
  {
   "cell_type": "code",
   "execution_count": 84,
   "metadata": {},
   "outputs": [
    {
     "name": "stdout",
     "output_type": "stream",
     "text": [
      "<__main__.Library object at 0x7fc5503a7520>\n"
     ]
    }
   ],
   "source": [
    "# Use this cell to test the Library class\n",
    "mylibrary = Library()\n",
    "print (mylibrary)"
   ]
  },
  {
   "cell_type": "markdown",
   "metadata": {},
   "source": [
    "<span style=\"color:blue\">Sample output:</span><br/>\n",
    "<span style=\"font: courier; font-size: 13px\">\n",
    "<\\__main\\__.Library object at 0x7fe5b42604a8><br/>\n",
    "The reference address of your Library object will be different</span> "
   ]
  },
  {
   "cell_type": "markdown",
   "metadata": {},
   "source": [
    "### PROBLEM 4\n",
    "Navigate back up to the cell containing the Library class and add the two methods below.  After you add the methods make sure you run the cell. \n",
    "\n",
    "1. _addBook_:\n",
    "   1. Accepts the parameter _book_ which is an instance of _Book_.\n",
    "   2. Appends _book_ to _self.books_ (initially created by the constructor).\n",
    "  \n",
    "  \n",
    "2. _findBooksBy_:\n",
    "   1. Accepts the parameter _author_.\n",
    "   2. Searchs the list _self.books_ for books written by the author.\n",
    "   3. Returns a list of all books whose _author_ attribute matches the _author_ parameter.  "
   ]
  },
  {
   "cell_type": "code",
   "execution_count": 98,
   "metadata": {},
   "outputs": [
    {
     "name": "stdout",
     "output_type": "stream",
     "text": [
      "Books by James Michener\n",
      "   Chesapeake\n",
      "   Hawaii\n",
      "Books by James Baldwin\n",
      "   Another Country\n",
      "   Go Tell It to the Mountain\n"
     ]
    }
   ],
   "source": [
    "# Use this cell to test the addBook and findBooksBy emthods\n",
    "books =[('Chesapeake','James A Michener'),('A Wild Sheep Chase', 'Murakami Haruki'),\n",
    "    ('Kappa', 'Akutagawa Ryuunosuke'),('Hawaii', 'James A Michener'),\n",
    "    ('Another Country', 'James Baldwin'),('Go Tell It to the Mountain', 'James Baldwin'),\n",
    "    ('Jane Eyre', 'Charlotte Bronte')]\n",
    "\n",
    "mylibrary = Library()\n",
    "for book in books:\n",
    "    mybook = Book(book[0],book[1])\n",
    "    mylibrary.addBook(mybook)\n",
    "\n",
    "print('Books by James Michener')\n",
    "for book in mylibrary.findBooksBy(\"James A Michener\"):\n",
    "    print('  ',book.title)\n",
    "\n",
    "print('Books by James Baldwin')\n",
    "for book in mylibrary.findBooksBy(\"James Baldwin\"):\n",
    "    print('  ',book.title)"
   ]
  },
  {
   "cell_type": "markdown",
   "metadata": {},
   "source": [
    "<span style=\"color:blue\">Expected output:</span><br/>\n",
    "<span style=\"font: courier; font-size: 13px\">\n",
    "Books by James Michener<br/>\n",
    "&nbsp;&nbsp;&nbsp;Chesapeake<br/>\n",
    "&nbsp;&nbsp;&nbsp;Hawaii<br/>\n",
    "Books by James Baldwin<br/>\n",
    "&nbsp;&nbsp;&nbsp;Another Country<br/>\n",
    "&nbsp;&nbsp;&nbsp;Go Tell It to the Mountain</span> "
   ]
  },
  {
   "cell_type": "markdown",
   "metadata": {},
   "source": [
    "### PROBLEM 5\n",
    "Define a subclass of Book called _PaperBook_. Since Paperbook is a subclass of Books, it automatically inherits the attributes and methods of the class Book.  The PaperBook class has the following characteristics:\n",
    "\n",
    "1. Add a constructor:\n",
    "   1. The constructor accepts the parameters _title_ and _author_.\n",
    "   2. There is no need to explicitly define or initialize _title_ or _author_ in the constructor. Just call the Book class constructor with the parameters _title_ and _author_.\n",
    "   3. Add an attribute called _numTornPages_ and initialize it to 0.\n",
    "\n",
    "\n",
    "2. Add a method _ripPage_\n",
    "   1. Increments numTornPages by 1\n",
    "  \n",
    "  \n",
    "3. Add an *\\__str\\__* method\n",
    "   1. Returns the string self.title + \" by \" + self.author + \", \"+ self.numTornPages +\" torn page(s)\""
   ]
  },
  {
   "cell_type": "code",
   "execution_count": 66,
   "metadata": {},
   "outputs": [],
   "source": [
    "class PaperBook(Book):\n",
    "    def __init__(self,title, author):\n",
    "        Book.__init__(self,title,author)\n",
    "        self.numTornPages=0\n",
    "    def ripPage(self):\n",
    "        self.numTornPages+=1\n",
    "    def __str__(self):\n",
    "        return \"{} by {}, {} torn page(s)\".format(self.title, self.author, self.numTornPages)\n",
    "    "
   ]
  },
  {
   "cell_type": "code",
   "execution_count": 112,
   "metadata": {},
   "outputs": [
    {
     "name": "stdout",
     "output_type": "stream",
     "text": [
      "Snow Country by Kawabata Yasunari, 0 torn page(s)\n",
      "Snow Country by Kawabata Yasunari, 1 torn page(s)\n"
     ]
    }
   ],
   "source": [
    "# Use this cell to these the PaperBook class\n",
    "paperbook = PaperBook('Snow Country','Kawabata Yasunari')\n",
    "print (paperbook)\n",
    "paperbook.ripPage()\n",
    "print(paperbook)"
   ]
  },
  {
   "cell_type": "markdown",
   "metadata": {},
   "source": [
    "<span style=\"color:blue\">Expected output:</span><br/>\n",
    "<span style=\"font: courier; font-size: 13px\">\n",
    "Snow Country by Kawabata Yasunari, 0 torn page(s)<br/>\n",
    "Snow Country by Kawabata Yasunari, 1 torn page(s)</span> "
   ]
  },
  {
   "cell_type": "markdown",
   "metadata": {},
   "source": [
    "#### PROBLEM 6\n",
    "Define a subclass of Book called _ElectronicBook_. Add the method below to _ElectronicBook_.  Since this is a subclass of _Book_ all the methods and attributes of _Book_ are inherited by _ElectronicBook_.\n",
    "\n",
    "```\n",
    "def canCheckOut(self): \n",
    "   return True\n",
    "```\n",
    "\n",
    "There is no need to add a constructor since ElectronicBook inherited the Book constructor.  The one difference between the ElectronicBook class and the PaperBook class is that PaperBook has the instance variable _num_torn_pages_.  As a result, the constructor had to be defined.  This overrides the constructor of the parent class _Book_ so the _Book_ constructor had to be called explicity to create and initialize the attributes _title_ and _author_. Since there are no instance variables for ElectronicBook there is no need to define the constructor because it is inherited. In this case, the constructor in the parent class _Book_ is automatically called and all of the instance attributes are created."
   ]
  },
  {
   "cell_type": "code",
   "execution_count": 67,
   "metadata": {},
   "outputs": [],
   "source": [
    "class ElectronicBook(Book):\n",
    "    def canCheckOut(self):\n",
    "        return True\n",
    "    "
   ]
  },
  {
   "cell_type": "code",
   "execution_count": 8,
   "metadata": {},
   "outputs": [
    {
     "name": "stdout",
     "output_type": "stream",
     "text": [
      "Pride and Prejudice and Zombies by Seth Grahame-Smith\n",
      "True\n"
     ]
    }
   ],
   "source": [
    "# Use this code to test the ElectronicBook class.\n",
    "ebook = ElectronicBook('Pride and Prejudice and Zombies',\"Seth Grahame-Smith\")\n",
    "print(ebook)\n",
    "print(ebook.canCheckOut())"
   ]
  },
  {
   "cell_type": "markdown",
   "metadata": {},
   "source": [
    "<span style=\"color:blue\">Expected output:</span><br/>\n",
    "<span style=\"font: courier; font-size: 13px\">\n",
    "Pride and Prejudice and Zombies by Seth Grahame-Smith<br/>\n",
    "True</span> "
   ]
  },
  {
   "cell_type": "markdown",
   "metadata": {},
   "source": [
    "### PROBLEM 7\n",
    "Add mechanisms for checking books out of and into libraries. Navigate back up to the Library class and add the _willAccept_ method as defined below.  Remember to run the cell containing the Library class. \n",
    "\n",
    "1. willAccept does the following:\n",
    "   1. Accepts the parameter _book_ (which should be a PaperBook object) \n",
    "   2. Use the _isinstance_ function to check that _book_ is a _PaperBook_ instance.\n",
    "   3. If _book_ is a _PaperBook_ instance:\n",
    "      1. If the book has fewer torn pages than the value contained in _tornPageTolerance_:\n",
    "         1. Return True.\n",
    "      2. Otherwise:\n",
    "         1. Return False.\n",
    "   4. Otherise:\n",
    "      1. Return True."
   ]
  },
  {
   "cell_type": "code",
   "execution_count": 16,
   "metadata": {},
   "outputs": [
    {
     "name": "stdout",
     "output_type": "stream",
     "text": [
      "Pride and Prejudice and Zombies has 0 torn pages so it has been accepted at the Library\n",
      "Pride and Prejudice and Zombies has 6 torn pages so it has been not accepted at the Library\n"
     ]
    }
   ],
   "source": [
    "# Use this code to test the willAccept method when within the torn page limit.\n",
    "pbook = PaperBook('Pride and Prejudice and Zombies',\"Seth Grahame-Smith\")\n",
    "mylibrary = Library()\n",
    "result = mylibrary.willAccept(pbook)\n",
    "print(pbook.title,'has',pbook.numTornPages,'torn pages',end=' ')\n",
    "if result == True:\n",
    "    print('so it has been accepted at the Library')\n",
    "else:\n",
    "    print('so it has been no accepted at the Library')\n",
    "    \n",
    "# Test when the torn page limit is exceeded\n",
    "for i in range(0,6):\n",
    "    pbook.ripPage()\n",
    "mylibrary = Library()\n",
    "result = mylibrary.willAccept(pbook)\n",
    "print(pbook.title,'has',pbook.numTornPages,'torn pages',end=' ')\n",
    "if result == True:\n",
    "    print('so it has been accepted at the Library')\n",
    "else:\n",
    "    print('so it has been not accepted at the Library')"
   ]
  },
  {
   "cell_type": "markdown",
   "metadata": {},
   "source": [
    "<span style=\"color:blue\">Expected output:</span><br/>\n",
    "<span style=\"font: courier; font-size: 13px\">\n",
    "Pride and Prejudice and Zombies has 0 torn pages so it has been accepted at the Library<br/>\n",
    "Pride and Prejudice and Zombies has 6 torn pages so it has been not accepted at the Library</span> "
   ]
  },
  {
   "cell_type": "markdown",
   "metadata": {},
   "source": [
    "### PROBLEM 8\n",
    "Navigate back to the cell containing the Book class and add the methods below.  There is no need to modify PaperBook or ElectronicBook.\n",
    "\n",
    "1. _checkOut_ \n",
    "   1. Accepts no arguments.\n",
    "   2. Sets the current book's _checked_out_ (_self.checked_out_) attribute to True.\n",
    "  \n",
    "  \n",
    "2. _checkIn_ \n",
    "   1. Accepts the  parameter _library_ which should be a Library instance. \n",
    "   2. Call the library's _willAccept()_  method with the current book (self.book).\n",
    "   3. If the library will accept it:\n",
    "      1. Set the _checked_out_ attribute of the book to False.\n",
    "  \n",
    "3. _canCheckOut_\n",
    "   1. Accepts no arguments.\n",
    "   2. if the _checked_out_ attribute is False return True.\n",
    "   3. Otherwise return False."
   ]
  },
  {
   "cell_type": "code",
   "execution_count": 41,
   "metadata": {},
   "outputs": [
    {
     "name": "stdout",
     "output_type": "stream",
     "text": [
      "Pride and Prejudice and Zombies can be checked out\n",
      "Pride and Prejudice and Zombies cannot be checked out\n",
      "Pride and Prejudice and Zombies can be checked out\n"
     ]
    }
   ],
   "source": [
    "# Use this code to test the above emthods.\n",
    "pbook = PaperBook('Pride and Prejudice and Zombies',\"Seth Grahame-Smith\")\n",
    "mylibrary = Library()\n",
    "\n",
    "if pbook.canCheckOut() == True:\n",
    "    can = 'can'\n",
    "else:\n",
    "    can = 'cannot'\n",
    "print(pbook.title,can,'be checked out')\n",
    "\n",
    "\n",
    "pbook.checkOut()\n",
    "if pbook.canCheckOut() == True:\n",
    "    can = 'can'\n",
    "else:\n",
    "    can = 'cannot'\n",
    "print(pbook.title,can,'be checked out')\n",
    "\n",
    "pbook.checkIn(mylibrary)\n",
    "if pbook.canCheckOut() == True:\n",
    "    can = 'can'\n",
    "else:\n",
    "    can = 'cannot'\n",
    "print(pbook.title,can,'be checked out')"
   ]
  },
  {
   "cell_type": "markdown",
   "metadata": {},
   "source": [
    "<span style=\"color:blue\">Expected output:</span><br/>\n",
    "<span style=\"font: courier; font-size: 13px\">\n",
    "Pride and Prejudice and Zombies can be checked out<br/>\n",
    "Pride and Prejudice and Zombies cannot be checked out<br/>\n",
    "Pride and Prejudice and Zombies can be checked out</span> "
   ]
  },
  {
   "cell_type": "markdown",
   "metadata": {},
   "source": [
    "### PROBLEM 9\n",
    "Navigate back up to the cell containing the Library class. Add the method below to the Library class. Remember to run the cell after you add the method.\n",
    "\n",
    "1. _getBooksYouCanCheckOut_\n",
    "   1. Accepts no arguments \n",
    "   2. Return a list containing every book in the library that can be checked out. "
   ]
  },
  {
   "cell_type": "code",
   "execution_count": 72,
   "metadata": {},
   "outputs": [
    {
     "name": "stdout",
     "output_type": "stream",
     "text": [
      "Pride and Prejudice and Zombies\n",
      "Abraham Lincoln:Vampire Hunter\n",
      "\n",
      "Pride and Prejudice and Zombies\n"
     ]
    }
   ],
   "source": [
    "# Use this cell to test the getBooksYouCanCheckOut method\n",
    "mylibrary = Library()\n",
    "book = Book('Pride and Prejudice and Zombies',\"Seth Grahame-Smith\")\n",
    "mylibrary.addBook(book)\n",
    "book = Book('Abraham Lincoln:Vampire Hunter',\"Seth Grahame-Smith\")\n",
    "mylibrary.addBook(book)\n",
    "for book in mylibrary.getBooksYouCanCheckOut():\n",
    "    print(book.title)\n",
    "print()\n",
    "mylibrary = Library()\n",
    "book = Book('Pride and Prejudice and Zombies',\"Seth Grahame-Smith\")\n",
    "mylibrary.addBook(book)\n",
    "book = Book('Abraham Lincoln:Vampire Hunter',\"Seth Grahame-Smith\")\n",
    "book.checkOut()\n",
    "mylibrary.addBook(book)\n",
    "for book in mylibrary.getBooksYouCanCheckOut():\n",
    "    print(book.title)"
   ]
  },
  {
   "cell_type": "markdown",
   "metadata": {},
   "source": [
    "<span style=\"color:blue\">Expected output:</span><br/>\n",
    "<span style=\"font: courier; font-size: 13px\">\n",
    "Pride and Prejudice and Zombies<br/>\n",
    "Abraham Lincoln:Vampire Hunter<br/><br/>\n",
    "Pride and Prejudice and Zombies</span> "
   ]
  },
  {
   "cell_type": "markdown",
   "metadata": {},
   "source": [
    "### PROBLEM 10\n",
    "Do the following: \n",
    "\n",
    "1. Create a Library instance called _baileyLibrary_.\n",
    "2. Iterate over _paperbook_titles_ defined below:\n",
    "   1. Create a _PaperBook_ instance using the title and author in _paperbook_titles_. \n",
    "   2. Add to  _PaperBook_ instance to the _baileyLibrary_ instance using the _.addBook_ method.\n",
    "3. Find all books authored by \"Steven Pinker\" using the _findBooksBy_ method.\n",
    "4. Iterate over the list returned by _findBooksBy_:\n",
    "   1.  Print the book title."
   ]
  },
  {
   "cell_type": "code",
   "execution_count": 75,
   "metadata": {},
   "outputs": [
    {
     "name": "stdout",
     "output_type": "stream",
     "text": [
      "Books authored by Steven Pinker:\n",
      "How the Mind Works\n",
      "The Language Instinct: How the Mind Creates Language\n",
      "The Stuff of Thought: Language as a Window into Human Nature\n"
     ]
    }
   ],
   "source": [
    "paperbook_titles = [('How the Mind Works', 'Steven Pinker'),\n",
    "        ('Always Leading, Forever Valiant', 'Kim Clarke'),\n",
    "        ('The Language Instinct: How the Mind Creates Language', 'Steven Pinker'),\n",
    "        ('The Last Lecture', 'Randy Pausch'),\n",
    "        ('The Stuff of Thought: Language as a Window into Human Nature', 'Steven Pinker')]\n",
    "# write your code below\n",
    "baileyLibrary=Library()\n",
    "for book in paperbook_titles:\n",
    "    newBook=PaperBook(book[0], book[1])\n",
    "    baileyLibrary.addBook(newBook)\n",
    "pinkerBooks=baileyLibrary.findBooksBy(\"Steven Pinker\")\n",
    "print(\"Books authored by Steven Pinker:\")\n",
    "for title in pinkerBooks:\n",
    "    print(title.title)"
   ]
  },
  {
   "cell_type": "markdown",
   "metadata": {},
   "source": [
    "<span style=\"color:blue\">Expected output:</span><br/>\n",
    "<span style=\"font: courier; font-size: 13px\">\n",
    "Books authored by Steven Pinker:<br/>\n",
    "How the Mind Works<br/>\n",
    "The Language Instinct: How the Mind Creates Language<br/>\n",
    "The Stuff of Thought: Language as a Window into Human Nature</span> "
   ]
  }
 ],
 "metadata": {
  "kernelspec": {
   "display_name": "Python 3 (ipykernel)",
   "language": "python",
   "name": "python3"
  },
  "language_info": {
   "codemirror_mode": {
    "name": "ipython",
    "version": 3
   },
   "file_extension": ".py",
   "mimetype": "text/x-python",
   "name": "python",
   "nbconvert_exporter": "python",
   "pygments_lexer": "ipython3",
   "version": "3.9.6"
  }
 },
 "nbformat": 4,
 "nbformat_minor": 2
}
